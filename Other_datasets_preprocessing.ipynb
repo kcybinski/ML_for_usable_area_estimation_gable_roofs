{
 "cells": [
  {
   "cell_type": "code",
   "execution_count": 1,
   "metadata": {},
   "outputs": [
    {
     "name": "stdout",
     "output_type": "stream",
     "text": [
      "Zainstalowana wersja scikit-learn: 1.0.2.\n"
     ]
    }
   ],
   "source": [
    "from pathlib import Path\n",
    "import pandas as pd\n",
    "import numpy as np\n",
    "import seaborn as sns\n",
    "import pickle\n",
    "\n",
    "import sklearn\n",
    "print('Zainstalowana wersja scikit-learn: {}.'.format(sklearn.__version__))\n",
    "\n",
    "import matplotlib.pyplot as plt\n",
    "from mpl_toolkits.axes_grid1 import make_axes_locatable\n",
    "plt.rcParams[\"figure.figsize\"] = (20,10) # aby wykresy w Colabie były większe\n",
    "\n",
    "import numpy as np\n",
    "from scipy import diag, interp\n",
    "from itertools import cycle\n",
    "\n",
    "from sklearn.model_selection import StratifiedKFold, train_test_split\n",
    "from sklearn.metrics import r2_score\n",
    "\n",
    "from sklearn.preprocessing import MinMaxScaler, StandardScaler\n",
    "from sklearn.linear_model import LinearRegression\n",
    "\n",
    "import torch\n",
    "import torch.nn as nn\n",
    "import torch.nn.functional as F\n",
    "import torch.optim as optim\n",
    "from torch.autograd import Variable\n",
    "from termcolor import cprint\n",
    "\n",
    "import plotly.graph_objects as go\n",
    "\n",
    "import plotly.express as px\n",
    "\n",
    "import time\n",
    "\n",
    "from auxiliary_funcs import *\n",
    "\n",
    "rs = 42\n",
    "\n",
    "np.random.seed(rs)\n",
    "torch.manual_seed(rs);"
   ]
  },
  {
   "cell_type": "code",
   "execution_count": 2,
   "metadata": {},
   "outputs": [],
   "source": [
    "def models_comparison_figure(df_nn, plot_name = \"NN_viz.pdf\"):\n",
    "    fig, axs = plt.subplots(1, 1, figsize=(12, 10))\n",
    "    plt.tight_layout(pad=10, h_pad=5, w_pad=0.2)\n",
    "    fs = 30\n",
    "    fs_inset = 20\n",
    "    lw = 3\n",
    "    colormap = \"coolwarm\"\n",
    "\n",
    "    axs.set_xlabel(r\"Usable area [m$^2$]\", fontsize=fs)\n",
    "    axs.set_ylabel(r\"Predicted usable area [m$^2$]\", fontsize=fs)\n",
    "\n",
    "    axs.set_title(\"Neural network\", fontsize=fs)\n",
    "    axs.plot(np.linspace(60, 200), np.linspace(60, 200))\n",
    "    scat2 = axs.scatter(df_nn[\"Usable area [m2]\"], df_nn[\"Predicted Usable Area [m2]\"], c=df_nn.Error, cmap=colormap, marker=\"\")\n",
    "    norm = plt.Normalize(np.min(df_nn.Error), np.max(df_nn.Error))\n",
    "    df_1s = df_nn.loc[df_nn[\"Number of stories\"] == 1.0]\n",
    "    df_2s = df_nn.loc[df_nn[\"Number of stories\"] == 2.0]\n",
    "    df_ms = df_nn.loc[df_nn[\"Number of stories\"] > 2.0]\n",
    "    axs.scatter(df_1s[\"Usable area [m2]\"], df_1s[\"Predicted Usable Area [m2]\"], c=df_1s.Error, cmap=colormap, marker=\"D\", norm=norm, s=5*fs)\n",
    "    axs.scatter(df_2s[\"Usable area [m2]\"], df_2s[\"Predicted Usable Area [m2]\"], c=df_2s.Error, cmap=colormap, marker=\"o\", norm=norm, s=5*fs)\n",
    "    axs.scatter(df_ms[\"Usable area [m2]\"], df_ms[\"Predicted Usable Area [m2]\"], c=df_ms.Error, cmap=colormap, marker=\"X\", norm=norm, s=5*fs)\n",
    "    \"\"\"\n",
    "    axs[1].text(0.03, 0.96, \"R^2 = {:.2f} \\nMean Absolute Error = {:.2f}\\nMedian Absolute Error = {:.2f}\\nMax Error = {:.2f}\\nMin Error = {:.2f}\\nMedian Absolute Percentage Error = {:.2f}\".format(\n",
    "                                                                                sklearn.metrics.r2_score(df_nn[\"Usable area [m2]\"].to_numpy(), df_nn[\"Predicted Usable Area [m2]\"].to_numpy()), \n",
    "                                                                                sklearn.metrics.mean_absolute_error(df_nn[\"Usable area [m2]\"].to_numpy(), df_nn[\"Predicted Usable Area [m2]\"].to_numpy()),\n",
    "                                                                                sklearn.metrics.median_absolute_error(df_nn[\"Usable area [m2]\"].to_numpy(), df_nn[\"Predicted Usable Area [m2]\"].to_numpy()),\n",
    "                                                                                sklearn.metrics.max_error(df_nn[\"Usable area [m2]\"].to_numpy(), df_nn[\"Predicted Usable Area [m2]\"].to_numpy()),\n",
    "                                                                                np.abs(np.min(df_nn[\"Error\"])),\n",
    "                                                                                sklearn.metrics.mean_absolute_percentage_error(df_nn[\"Usable area [m2]\"].to_numpy(), df_nn[\"Predicted Usable Area [m2]\"].to_numpy())\n",
    "                                                                                ), bbox=dict(boxstyle=\"round\", fc=\"lightsalmon\", ec=\"coral\", lw=2), horizontalalignment='left', verticalalignment='top', transform=axs[1].transAxes, fontsize=fs_inset);\n",
    "    \"\"\"\n",
    "    axs.set_xlabel(r\"Usable area [m$^2$]\", fontsize=fs)\n",
    "\n",
    "    divider = make_axes_locatable(axs)\n",
    "    cax = divider.append_axes(\"right\", size=\"5%\", pad=0.1)\n",
    "    cbar = plt.colorbar(scat2, cax=cax)\n",
    "    cbar.set_label('Error value', fontsize=fs)\n",
    "    cax.tick_params(axis='both', which='major', labelsize=fs, width=2)\n",
    "\n",
    "\n",
    "    for axis in ['top','bottom','left','right']:\n",
    "            ax.spines[axis].set_linewidth(2)\n",
    "            ax.spines[axis].set_zorder(0)\n",
    "\n",
    "\n",
    "    axs.tick_params(axis='both', which='major', labelsize=fs, width=2)\n",
    "\n",
    "    axs.grid(True)\n",
    "\n",
    "    plt.rc('grid', linestyle=\":\", color='gray')\n",
    "\n",
    "    print(\"R^2 = {:.2f} \\nMean Absolute Error = {:.2f}\\nMedian Absolute Error = {:.2f}\\nMax Error = {:.2f}\\nMin Error = {:.2f}\\nMedian Absolute Percentage Error = {:.2f}\".format(\n",
    "                                                                                sklearn.metrics.r2_score(df_nn[\"Usable area [m2]\"].to_numpy(), df_nn[\"Predicted Usable Area [m2]\"].to_numpy()), \n",
    "                                                                                sklearn.metrics.mean_absolute_error(df_nn[\"Usable area [m2]\"].to_numpy(), df_nn[\"Predicted Usable Area [m2]\"].to_numpy()),\n",
    "                                                                                sklearn.metrics.median_absolute_error(df_nn[\"Usable area [m2]\"].to_numpy(), df_nn[\"Predicted Usable Area [m2]\"].to_numpy()),\n",
    "                                                                                sklearn.metrics.max_error(df_nn[\"Usable area [m2]\"].to_numpy(), df_nn[\"Predicted Usable Area [m2]\"].to_numpy()),\n",
    "                                                                                np.abs(np.min(df_nn[\"Error\"])),\n",
    "                                                                                sklearn.metrics.mean_absolute_percentage_error(df_nn[\"Usable area [m2]\"].to_numpy(), df_nn[\"Predicted Usable Area [m2]\"].to_numpy())\n",
    "                                                                                ))\n",
    "                                                                                \n",
    "    plt.savefig(plot_name)\n",
    "    plt.show()"
   ]
  },
  {
   "attachments": {},
   "cell_type": "markdown",
   "metadata": {},
   "source": [
    "# Dataset Exploration"
   ]
  },
  {
   "cell_type": "code",
   "execution_count": 3,
   "metadata": {},
   "outputs": [],
   "source": [
    "data_dir = Path(\"./Gable-roof/\")"
   ]
  },
  {
   "cell_type": "code",
   "execution_count": 4,
   "metadata": {},
   "outputs": [
    {
     "name": "stdout",
     "output_type": "stream",
     "text": [
      "Gable-roof/Archiwalne\n",
      "Gable-roof/.DS_Store\n",
      "Gable-roof/ML and usable area.png\n",
      "Gable-roof/Dwuspady_projektowe.xlsx\n",
      "Gable-roof/Koszalin_znana_norma.xlsx\n",
      "Gable-roof/Dwuspady_projektowe_archived.xlsx\n",
      "Gable-roof/Koszalin_znana_norma-kopia.xlsx\n",
      "Gable-roof/Koszalin_nieznana_norma.xlsx\n"
     ]
    }
   ],
   "source": [
    "for f in data_dir.iterdir():\n",
    "    print(f)"
   ]
  },
  {
   "attachments": {},
   "cell_type": "markdown",
   "metadata": {},
   "source": [
    "## Normalization datasets"
   ]
  },
  {
   "cell_type": "code",
   "execution_count": 5,
   "metadata": {},
   "outputs": [],
   "source": [
    "curr_file = data_dir.joinpath(\"Dwuspady_projektowe.xlsx\")"
   ]
  },
  {
   "cell_type": "code",
   "execution_count": 6,
   "metadata": {},
   "outputs": [
    {
     "data": {
      "text/plain": [
       "dict_keys(['Without garages or boiler rooms', 'Without garages, with boilers', 'With garages and boiler rooms'])"
      ]
     },
     "execution_count": 6,
     "metadata": {},
     "output_type": "execute_result"
    }
   ],
   "source": [
    "curr_file_dict = pd.read_excel(curr_file, sheet_name=None)\n",
    "curr_file_dict.keys()"
   ]
  },
  {
   "attachments": {},
   "cell_type": "markdown",
   "metadata": {},
   "source": [
    "## Normalization dataset 1\n",
    "Input data: Varying  \n",
    "Output: Usable area [m2]"
   ]
  },
  {
   "cell_type": "code",
   "execution_count": 7,
   "metadata": {},
   "outputs": [],
   "source": [
    "dataset_name = \"Without garages or boiler rooms\"\n",
    "\n",
    "\n",
    "curr_df = curr_file_dict[dataset_name]\n",
    "\n",
    "curr_df[\"Height of a knee wall [m]\"] = curr_df[\"Height of a knee wall [m]\"].replace('mieszane', curr_df[\"Height of a knee wall [m]\"].replace('mieszane', np.NaN).mean())\n",
    "curr_df = curr_df.replace(\"unknown\", np.NaN)\n",
    "\n",
    "for col in curr_df.columns:\n",
    "    if col not in [\"Remarks\", \"Artificial example?\", \"Unnamed: 19\"]:\n",
    "        if curr_df[col].isna().sum() > 0:\n",
    "            curr_df[col] = curr_df[col].replace(np.NaN, curr_df[col].mean())\n",
    "\n",
    "curr_df = curr_df.drop([\"Unnamed: 19\"], axis=1)\n",
    "\n",
    "wo_garages_boilers_df = curr_df.copy()"
   ]
  },
  {
   "attachments": {},
   "cell_type": "markdown",
   "metadata": {},
   "source": [
    "## Normalization dataset 2\n",
    "Input data: Varying  \n",
    "Output: Usable area [m2]"
   ]
  },
  {
   "cell_type": "code",
   "execution_count": 8,
   "metadata": {},
   "outputs": [],
   "source": [
    "dataset_name = \"Without garages, with boilers\"\n",
    "\n",
    "\n",
    "curr_df = curr_file_dict[dataset_name]\n",
    "\n",
    "curr_df[\"Height of a knee wall [m]\"] = curr_df[\"Height of a knee wall [m]\"].replace('mieszane', curr_df[\"Height of a knee wall [m]\"].replace('mieszane', np.NaN).mean())\n",
    "curr_df = curr_df.replace(\"unknown\", np.NaN)\n",
    "\n",
    "for col in curr_df.columns:\n",
    "    if col not in [\"Remarks\", \"Artificial example?\", \"Unnamed: 19\"]:\n",
    "        if curr_df[col].isna().sum() > 0:\n",
    "            curr_df[col] = curr_df[col].replace(np.NaN, curr_df[col].mean())\n",
    "\n",
    "wo_garages_w_boilers_df = curr_df.copy()"
   ]
  },
  {
   "attachments": {},
   "cell_type": "markdown",
   "metadata": {},
   "source": [
    "## Dataset 1+2\n",
    "Input data: Varying  \n",
    "Output: Usable area [m2]"
   ]
  },
  {
   "cell_type": "code",
   "execution_count": 9,
   "metadata": {},
   "outputs": [],
   "source": [
    "ds_1_2 = pd.concat([wo_garages_boilers_df, wo_garages_w_boilers_df])"
   ]
  },
  {
   "attachments": {},
   "cell_type": "markdown",
   "metadata": {},
   "source": [
    "## Dataset 1 - Unknown norms\n",
    "Input data: Varying  \n",
    "Output: Usable area [m2]"
   ]
  },
  {
   "cell_type": "code",
   "execution_count": 10,
   "metadata": {},
   "outputs": [],
   "source": [
    "curr_file = data_dir.joinpath(\"Koszalin_nieznana_norma.xlsx\")"
   ]
  },
  {
   "cell_type": "code",
   "execution_count": 11,
   "metadata": {},
   "outputs": [
    {
     "data": {
      "text/plain": [
       "dict_keys(['unknown_norm'])"
      ]
     },
     "execution_count": 11,
     "metadata": {},
     "output_type": "execute_result"
    }
   ],
   "source": [
    "curr_file_dict = pd.read_excel(curr_file, sheet_name=None)\n",
    "curr_file_dict.keys()"
   ]
  },
  {
   "cell_type": "code",
   "execution_count": 12,
   "metadata": {},
   "outputs": [
    {
     "data": {
      "text/html": [
       "<div>\n",
       "<style scoped>\n",
       "    .dataframe tbody tr th:only-of-type {\n",
       "        vertical-align: middle;\n",
       "    }\n",
       "\n",
       "    .dataframe tbody tr th {\n",
       "        vertical-align: top;\n",
       "    }\n",
       "\n",
       "    .dataframe thead th {\n",
       "        text-align: right;\n",
       "    }\n",
       "</style>\n",
       "<table border=\"1\" class=\"dataframe\">\n",
       "  <thead>\n",
       "    <tr style=\"text-align: right;\">\n",
       "      <th></th>\n",
       "      <th>No.</th>\n",
       "      <th>GOOGLE STREET VIEW</th>\n",
       "      <th>Usable area [m2]</th>\n",
       "      <th>Covered area [m2]</th>\n",
       "      <th>Garage?</th>\n",
       "      <th>Estimated garage area [m2]</th>\n",
       "      <th>Number of garage spots</th>\n",
       "      <th>Extension area [m2]</th>\n",
       "      <th>Percentage of extension area in covered area [%]</th>\n",
       "      <th>Number of stories</th>\n",
       "      <th>Building length [cm] (along a roof ridge)</th>\n",
       "      <th>Building width [cm] (perpendicular to a roof ridge)</th>\n",
       "      <th>Perimeter [cm]</th>\n",
       "      <th>Remarks</th>\n",
       "      <th>Year of the modification</th>\n",
       "      <th>Year of construction completion</th>\n",
       "      <th>Height [m]</th>\n",
       "    </tr>\n",
       "  </thead>\n",
       "  <tbody>\n",
       "    <tr>\n",
       "      <th>0</th>\n",
       "      <td>1</td>\n",
       "      <td>https://www.google.com/maps/place/Holenderska+...</td>\n",
       "      <td>88.7</td>\n",
       "      <td>78</td>\n",
       "      <td>yes</td>\n",
       "      <td>12.1</td>\n",
       "      <td>1</td>\n",
       "      <td>17.1000</td>\n",
       "      <td>0.219231</td>\n",
       "      <td>2</td>\n",
       "      <td>784</td>\n",
       "      <td>740.0</td>\n",
       "      <td>3534</td>\n",
       "      <td>garaż z boku prosty</td>\n",
       "      <td>2016</td>\n",
       "      <td>2007</td>\n",
       "      <td>7.49</td>\n",
       "    </tr>\n",
       "    <tr>\n",
       "      <th>1</th>\n",
       "      <td>2</td>\n",
       "      <td>https://www.google.com/maps/@54.191898,16.1931...</td>\n",
       "      <td>100.0</td>\n",
       "      <td>101</td>\n",
       "      <td>no</td>\n",
       "      <td>0</td>\n",
       "      <td>0</td>\n",
       "      <td>0.0000</td>\n",
       "      <td>0.000000</td>\n",
       "      <td>2</td>\n",
       "      <td>1052</td>\n",
       "      <td>1028.0</td>\n",
       "      <td>4160</td>\n",
       "      <td>bez gar. Piwnica</td>\n",
       "      <td>2006</td>\n",
       "      <td>1939</td>\n",
       "      <td>9.00</td>\n",
       "    </tr>\n",
       "    <tr>\n",
       "      <th>2</th>\n",
       "      <td>3</td>\n",
       "      <td>https://www.google.com/maps/@54.1912801,16.227...</td>\n",
       "      <td>100.0</td>\n",
       "      <td>133</td>\n",
       "      <td>yes</td>\n",
       "      <td>unknown</td>\n",
       "      <td>1</td>\n",
       "      <td>40.7046</td>\n",
       "      <td>0.306050</td>\n",
       "      <td>2</td>\n",
       "      <td>1001</td>\n",
       "      <td>935.0</td>\n",
       "      <td>5162</td>\n",
       "      <td>garaż z boku prosty</td>\n",
       "      <td>2007</td>\n",
       "      <td>1939</td>\n",
       "      <td>6.00</td>\n",
       "    </tr>\n",
       "    <tr>\n",
       "      <th>3</th>\n",
       "      <td>4</td>\n",
       "      <td>https://www.google.com/maps/place/Laurowa+107,...</td>\n",
       "      <td>101.7</td>\n",
       "      <td>64</td>\n",
       "      <td>no</td>\n",
       "      <td>0</td>\n",
       "      <td>0</td>\n",
       "      <td>0.0000</td>\n",
       "      <td>0.000000</td>\n",
       "      <td>2</td>\n",
       "      <td>1026</td>\n",
       "      <td>663.0</td>\n",
       "      <td>3378</td>\n",
       "      <td>bez garażu</td>\n",
       "      <td>2012</td>\n",
       "      <td>2011</td>\n",
       "      <td>7.63</td>\n",
       "    </tr>\n",
       "    <tr>\n",
       "      <th>4</th>\n",
       "      <td>5</td>\n",
       "      <td>https://www.google.com/maps/@54.2203275,16.169...</td>\n",
       "      <td>104.6</td>\n",
       "      <td>77</td>\n",
       "      <td>yes</td>\n",
       "      <td>32.7637</td>\n",
       "      <td>2</td>\n",
       "      <td>37.7637</td>\n",
       "      <td>0.490438</td>\n",
       "      <td>2</td>\n",
       "      <td>911</td>\n",
       "      <td>674.0</td>\n",
       "      <td>4380</td>\n",
       "      <td>g. z boku, wejście przesuniete. Trudny</td>\n",
       "      <td>2007</td>\n",
       "      <td>2007</td>\n",
       "      <td>8.43</td>\n",
       "    </tr>\n",
       "    <tr>\n",
       "      <th>5</th>\n",
       "      <td>6</td>\n",
       "      <td>https://www.google.com/maps/@54.2107324,16.211...</td>\n",
       "      <td>110.0</td>\n",
       "      <td>100</td>\n",
       "      <td>yes</td>\n",
       "      <td>unknown</td>\n",
       "      <td>2</td>\n",
       "      <td>39.4400</td>\n",
       "      <td>0.342957</td>\n",
       "      <td>2</td>\n",
       "      <td>981</td>\n",
       "      <td>976.0</td>\n",
       "      <td>4196</td>\n",
       "      <td>g.wew.4x9,76, ganek 6m2</td>\n",
       "      <td>2007</td>\n",
       "      <td>2000</td>\n",
       "      <td>7.80</td>\n",
       "    </tr>\n",
       "    <tr>\n",
       "      <th>6</th>\n",
       "      <td>7</td>\n",
       "      <td>https://www.google.com/maps/place/Malta%C5%84s...</td>\n",
       "      <td>112.5</td>\n",
       "      <td>116</td>\n",
       "      <td>yes</td>\n",
       "      <td>52.595</td>\n",
       "      <td>2</td>\n",
       "      <td>0.0000</td>\n",
       "      <td>0.000000</td>\n",
       "      <td>2</td>\n",
       "      <td>1021</td>\n",
       "      <td>999.0</td>\n",
       "      <td>4594</td>\n",
       "      <td>garaż.wewn</td>\n",
       "      <td>2017</td>\n",
       "      <td>2013</td>\n",
       "      <td>6.25</td>\n",
       "    </tr>\n",
       "    <tr>\n",
       "      <th>7</th>\n",
       "      <td>8</td>\n",
       "      <td>https://www.google.com/maps/@54.223181,16.1724...</td>\n",
       "      <td>113.4</td>\n",
       "      <td>110</td>\n",
       "      <td>yes</td>\n",
       "      <td>unknown</td>\n",
       "      <td>2</td>\n",
       "      <td>57.0180</td>\n",
       "      <td>0.518345</td>\n",
       "      <td>2</td>\n",
       "      <td>979</td>\n",
       "      <td>900.0</td>\n",
       "      <td>5322</td>\n",
       "      <td>trudny, garaż z boku. zmienna szerokosc,</td>\n",
       "      <td>2015</td>\n",
       "      <td>2014</td>\n",
       "      <td>8.22</td>\n",
       "    </tr>\n",
       "    <tr>\n",
       "      <th>8</th>\n",
       "      <td>9</td>\n",
       "      <td>https://www.google.com/maps/@54.2194629,16.167...</td>\n",
       "      <td>116.0</td>\n",
       "      <td>97</td>\n",
       "      <td>yes</td>\n",
       "      <td>16.3444</td>\n",
       "      <td>1</td>\n",
       "      <td>21.3444</td>\n",
       "      <td>0.220045</td>\n",
       "      <td>2</td>\n",
       "      <td>944</td>\n",
       "      <td>824.0</td>\n",
       "      <td>3892</td>\n",
       "      <td>garaz z boku, dach prostopadle</td>\n",
       "      <td>2007</td>\n",
       "      <td>2006</td>\n",
       "      <td>8.13</td>\n",
       "    </tr>\n",
       "    <tr>\n",
       "      <th>9</th>\n",
       "      <td>10</td>\n",
       "      <td>https://www.google.com/maps/place/Mahoniowa+11...</td>\n",
       "      <td>118.2</td>\n",
       "      <td>122</td>\n",
       "      <td>yes</td>\n",
       "      <td>unknown</td>\n",
       "      <td>1</td>\n",
       "      <td>28.4016</td>\n",
       "      <td>0.232800</td>\n",
       "      <td>2</td>\n",
       "      <td>1010</td>\n",
       "      <td>827.0</td>\n",
       "      <td>4542</td>\n",
       "      <td>garaż z boku prosty</td>\n",
       "      <td>2007</td>\n",
       "      <td>2005</td>\n",
       "      <td>7.74</td>\n",
       "    </tr>\n",
       "  </tbody>\n",
       "</table>\n",
       "</div>"
      ],
      "text/plain": [
       "   No.                                 GOOGLE STREET VIEW  Usable area [m2]  \\\n",
       "0    1  https://www.google.com/maps/place/Holenderska+...              88.7   \n",
       "1    2  https://www.google.com/maps/@54.191898,16.1931...             100.0   \n",
       "2    3  https://www.google.com/maps/@54.1912801,16.227...             100.0   \n",
       "3    4  https://www.google.com/maps/place/Laurowa+107,...             101.7   \n",
       "4    5  https://www.google.com/maps/@54.2203275,16.169...             104.6   \n",
       "5    6  https://www.google.com/maps/@54.2107324,16.211...             110.0   \n",
       "6    7  https://www.google.com/maps/place/Malta%C5%84s...             112.5   \n",
       "7    8  https://www.google.com/maps/@54.223181,16.1724...             113.4   \n",
       "8    9  https://www.google.com/maps/@54.2194629,16.167...             116.0   \n",
       "9   10  https://www.google.com/maps/place/Mahoniowa+11...             118.2   \n",
       "\n",
       "   Covered area [m2] Garage? Estimated garage area [m2]  \\\n",
       "0                 78     yes                       12.1   \n",
       "1                101      no                          0   \n",
       "2                133     yes                    unknown   \n",
       "3                 64      no                          0   \n",
       "4                 77     yes                    32.7637   \n",
       "5                100     yes                    unknown   \n",
       "6                116     yes                     52.595   \n",
       "7                110     yes                    unknown   \n",
       "8                 97     yes                    16.3444   \n",
       "9                122     yes                    unknown   \n",
       "\n",
       "   Number of garage spots  Extension area [m2]  \\\n",
       "0                       1              17.1000   \n",
       "1                       0               0.0000   \n",
       "2                       1              40.7046   \n",
       "3                       0               0.0000   \n",
       "4                       2              37.7637   \n",
       "5                       2              39.4400   \n",
       "6                       2               0.0000   \n",
       "7                       2              57.0180   \n",
       "8                       1              21.3444   \n",
       "9                       1              28.4016   \n",
       "\n",
       "   Percentage of extension area in covered area [%]  Number of stories  \\\n",
       "0                                          0.219231                  2   \n",
       "1                                          0.000000                  2   \n",
       "2                                          0.306050                  2   \n",
       "3                                          0.000000                  2   \n",
       "4                                          0.490438                  2   \n",
       "5                                          0.342957                  2   \n",
       "6                                          0.000000                  2   \n",
       "7                                          0.518345                  2   \n",
       "8                                          0.220045                  2   \n",
       "9                                          0.232800                  2   \n",
       "\n",
       "   Building length [cm] (along a roof ridge)  \\\n",
       "0                                        784   \n",
       "1                                       1052   \n",
       "2                                       1001   \n",
       "3                                       1026   \n",
       "4                                        911   \n",
       "5                                        981   \n",
       "6                                       1021   \n",
       "7                                        979   \n",
       "8                                        944   \n",
       "9                                       1010   \n",
       "\n",
       "   Building width [cm] (perpendicular to a roof ridge)  Perimeter [cm]  \\\n",
       "0                                              740.0              3534   \n",
       "1                                             1028.0              4160   \n",
       "2                                              935.0              5162   \n",
       "3                                              663.0              3378   \n",
       "4                                              674.0              4380   \n",
       "5                                              976.0              4196   \n",
       "6                                              999.0              4594   \n",
       "7                                              900.0              5322   \n",
       "8                                              824.0              3892   \n",
       "9                                              827.0              4542   \n",
       "\n",
       "                                     Remarks  Year of the modification  \\\n",
       "0                        garaż z boku prosty                      2016   \n",
       "1                           bez gar. Piwnica                      2006   \n",
       "2                        garaż z boku prosty                      2007   \n",
       "3                                 bez garażu                      2012   \n",
       "4     g. z boku, wejście przesuniete. Trudny                      2007   \n",
       "5                    g.wew.4x9,76, ganek 6m2                      2007   \n",
       "6                                 garaż.wewn                      2017   \n",
       "7  trudny, garaż z boku. zmienna szerokosc,                       2015   \n",
       "8             garaz z boku, dach prostopadle                      2007   \n",
       "9                        garaż z boku prosty                      2007   \n",
       "\n",
       "   Year of construction completion  Height [m]  \n",
       "0                             2007        7.49  \n",
       "1                             1939        9.00  \n",
       "2                             1939        6.00  \n",
       "3                             2011        7.63  \n",
       "4                             2007        8.43  \n",
       "5                             2000        7.80  \n",
       "6                             2013        6.25  \n",
       "7                             2014        8.22  \n",
       "8                             2006        8.13  \n",
       "9                             2005        7.74  "
      ]
     },
     "execution_count": 12,
     "metadata": {},
     "output_type": "execute_result"
    }
   ],
   "source": [
    "dataset_name = \"unknown_norm\"\n",
    "purge_garages = False\n",
    "\n",
    "\n",
    "curr_df = curr_file_dict[dataset_name]\n",
    "curr_df = curr_df.rename({\"POW. UŻYTKOWA - Z BUDYNKU\": \"Usable area [m2]\", \"POW. ZABUDOWY (geoportal)\" : \"Covered area [m2]\", \"LP.\" : \"No.\"}, axis=1)\n",
    "if purge_garages:\n",
    "    curr_df = curr_df.drop(curr_df[curr_df[\"Garage?\"] == \"yes\"].index)\n",
    "df1 = curr_df.copy()\n",
    "df1.head(10)"
   ]
  },
  {
   "cell_type": "code",
   "execution_count": 13,
   "metadata": {},
   "outputs": [
    {
     "data": {
      "text/html": [
       "<div>\n",
       "<style scoped>\n",
       "    .dataframe tbody tr th:only-of-type {\n",
       "        vertical-align: middle;\n",
       "    }\n",
       "\n",
       "    .dataframe tbody tr th {\n",
       "        vertical-align: top;\n",
       "    }\n",
       "\n",
       "    .dataframe thead th {\n",
       "        text-align: right;\n",
       "    }\n",
       "</style>\n",
       "<table border=\"1\" class=\"dataframe\">\n",
       "  <thead>\n",
       "    <tr style=\"text-align: right;\">\n",
       "      <th></th>\n",
       "      <th>No.</th>\n",
       "      <th>Usable area [m2]</th>\n",
       "      <th>Covered area [m2]</th>\n",
       "      <th>Number of garage spots</th>\n",
       "      <th>Extension area [m2]</th>\n",
       "      <th>Percentage of extension area in covered area [%]</th>\n",
       "      <th>Number of stories</th>\n",
       "      <th>Building length [cm] (along a roof ridge)</th>\n",
       "      <th>Building width [cm] (perpendicular to a roof ridge)</th>\n",
       "      <th>Perimeter [cm]</th>\n",
       "      <th>Year of the modification</th>\n",
       "      <th>Year of construction completion</th>\n",
       "      <th>Height [m]</th>\n",
       "    </tr>\n",
       "  </thead>\n",
       "  <tbody>\n",
       "    <tr>\n",
       "      <th>count</th>\n",
       "      <td>42.000000</td>\n",
       "      <td>42.000000</td>\n",
       "      <td>42.000000</td>\n",
       "      <td>42.000000</td>\n",
       "      <td>42.000000</td>\n",
       "      <td>42.000000</td>\n",
       "      <td>42.000000</td>\n",
       "      <td>42.000000</td>\n",
       "      <td>42.000000</td>\n",
       "      <td>42.000000</td>\n",
       "      <td>42.000000</td>\n",
       "      <td>42.000000</td>\n",
       "      <td>42.000000</td>\n",
       "    </tr>\n",
       "    <tr>\n",
       "      <th>mean</th>\n",
       "      <td>21.500000</td>\n",
       "      <td>148.283095</td>\n",
       "      <td>126.833333</td>\n",
       "      <td>1.190476</td>\n",
       "      <td>30.187462</td>\n",
       "      <td>0.236499</td>\n",
       "      <td>1.952381</td>\n",
       "      <td>1175.119048</td>\n",
       "      <td>876.981429</td>\n",
       "      <td>4844.761905</td>\n",
       "      <td>2010.095238</td>\n",
       "      <td>1998.428571</td>\n",
       "      <td>8.047579</td>\n",
       "    </tr>\n",
       "    <tr>\n",
       "      <th>std</th>\n",
       "      <td>12.267844</td>\n",
       "      <td>36.891823</td>\n",
       "      <td>27.528182</td>\n",
       "      <td>0.594204</td>\n",
       "      <td>17.552987</td>\n",
       "      <td>0.135006</td>\n",
       "      <td>0.215540</td>\n",
       "      <td>231.923894</td>\n",
       "      <td>195.609436</td>\n",
       "      <td>594.250822</td>\n",
       "      <td>3.798649</td>\n",
       "      <td>21.806402</td>\n",
       "      <td>1.459576</td>\n",
       "    </tr>\n",
       "    <tr>\n",
       "      <th>min</th>\n",
       "      <td>1.000000</td>\n",
       "      <td>88.700000</td>\n",
       "      <td>64.000000</td>\n",
       "      <td>0.000000</td>\n",
       "      <td>0.000000</td>\n",
       "      <td>0.000000</td>\n",
       "      <td>1.000000</td>\n",
       "      <td>784.000000</td>\n",
       "      <td>9.220000</td>\n",
       "      <td>3378.000000</td>\n",
       "      <td>2006.000000</td>\n",
       "      <td>1939.000000</td>\n",
       "      <td>6.000000</td>\n",
       "    </tr>\n",
       "    <tr>\n",
       "      <th>25%</th>\n",
       "      <td>11.250000</td>\n",
       "      <td>120.000000</td>\n",
       "      <td>112.250000</td>\n",
       "      <td>1.000000</td>\n",
       "      <td>23.288225</td>\n",
       "      <td>0.204348</td>\n",
       "      <td>2.000000</td>\n",
       "      <td>1011.500000</td>\n",
       "      <td>807.500000</td>\n",
       "      <td>4551.000000</td>\n",
       "      <td>2007.000000</td>\n",
       "      <td>2003.000000</td>\n",
       "      <td>7.422500</td>\n",
       "    </tr>\n",
       "    <tr>\n",
       "      <th>50%</th>\n",
       "      <td>21.500000</td>\n",
       "      <td>140.920000</td>\n",
       "      <td>122.000000</td>\n",
       "      <td>1.000000</td>\n",
       "      <td>32.126700</td>\n",
       "      <td>0.236775</td>\n",
       "      <td>2.000000</td>\n",
       "      <td>1117.500000</td>\n",
       "      <td>863.500000</td>\n",
       "      <td>4938.000000</td>\n",
       "      <td>2007.500000</td>\n",
       "      <td>2006.000000</td>\n",
       "      <td>8.279510</td>\n",
       "    </tr>\n",
       "    <tr>\n",
       "      <th>75%</th>\n",
       "      <td>31.750000</td>\n",
       "      <td>174.395000</td>\n",
       "      <td>146.000000</td>\n",
       "      <td>2.000000</td>\n",
       "      <td>38.038725</td>\n",
       "      <td>0.302264</td>\n",
       "      <td>2.000000</td>\n",
       "      <td>1333.000000</td>\n",
       "      <td>994.500000</td>\n",
       "      <td>5251.000000</td>\n",
       "      <td>2014.750000</td>\n",
       "      <td>2010.000000</td>\n",
       "      <td>8.435734</td>\n",
       "    </tr>\n",
       "    <tr>\n",
       "      <th>max</th>\n",
       "      <td>42.000000</td>\n",
       "      <td>240.000000</td>\n",
       "      <td>183.000000</td>\n",
       "      <td>2.000000</td>\n",
       "      <td>72.771000</td>\n",
       "      <td>0.518345</td>\n",
       "      <td>2.000000</td>\n",
       "      <td>1734.000000</td>\n",
       "      <td>1230.000000</td>\n",
       "      <td>5960.000000</td>\n",
       "      <td>2017.000000</td>\n",
       "      <td>2015.000000</td>\n",
       "      <td>15.730000</td>\n",
       "    </tr>\n",
       "  </tbody>\n",
       "</table>\n",
       "</div>"
      ],
      "text/plain": [
       "             No.  Usable area [m2]  Covered area [m2]  Number of garage spots  \\\n",
       "count  42.000000         42.000000          42.000000               42.000000   \n",
       "mean   21.500000        148.283095         126.833333                1.190476   \n",
       "std    12.267844         36.891823          27.528182                0.594204   \n",
       "min     1.000000         88.700000          64.000000                0.000000   \n",
       "25%    11.250000        120.000000         112.250000                1.000000   \n",
       "50%    21.500000        140.920000         122.000000                1.000000   \n",
       "75%    31.750000        174.395000         146.000000                2.000000   \n",
       "max    42.000000        240.000000         183.000000                2.000000   \n",
       "\n",
       "       Extension area [m2]  Percentage of extension area in covered area [%]  \\\n",
       "count            42.000000                                         42.000000   \n",
       "mean             30.187462                                          0.236499   \n",
       "std              17.552987                                          0.135006   \n",
       "min               0.000000                                          0.000000   \n",
       "25%              23.288225                                          0.204348   \n",
       "50%              32.126700                                          0.236775   \n",
       "75%              38.038725                                          0.302264   \n",
       "max              72.771000                                          0.518345   \n",
       "\n",
       "       Number of stories  Building length [cm] (along a roof ridge)  \\\n",
       "count          42.000000                                  42.000000   \n",
       "mean            1.952381                                1175.119048   \n",
       "std             0.215540                                 231.923894   \n",
       "min             1.000000                                 784.000000   \n",
       "25%             2.000000                                1011.500000   \n",
       "50%             2.000000                                1117.500000   \n",
       "75%             2.000000                                1333.000000   \n",
       "max             2.000000                                1734.000000   \n",
       "\n",
       "       Building width [cm] (perpendicular to a roof ridge)  Perimeter [cm]  \\\n",
       "count                                          42.000000         42.000000   \n",
       "mean                                          876.981429       4844.761905   \n",
       "std                                           195.609436        594.250822   \n",
       "min                                             9.220000       3378.000000   \n",
       "25%                                           807.500000       4551.000000   \n",
       "50%                                           863.500000       4938.000000   \n",
       "75%                                           994.500000       5251.000000   \n",
       "max                                          1230.000000       5960.000000   \n",
       "\n",
       "       Year of the modification  Year of construction completion  Height [m]  \n",
       "count                 42.000000                        42.000000   42.000000  \n",
       "mean                2010.095238                      1998.428571    8.047579  \n",
       "std                    3.798649                        21.806402    1.459576  \n",
       "min                 2006.000000                      1939.000000    6.000000  \n",
       "25%                 2007.000000                      2003.000000    7.422500  \n",
       "50%                 2007.500000                      2006.000000    8.279510  \n",
       "75%                 2014.750000                      2010.000000    8.435734  \n",
       "max                 2017.000000                      2015.000000   15.730000  "
      ]
     },
     "execution_count": 13,
     "metadata": {},
     "output_type": "execute_result"
    }
   ],
   "source": [
    "df1.describe()"
   ]
  },
  {
   "cell_type": "code",
   "execution_count": 14,
   "metadata": {},
   "outputs": [
    {
     "data": {
      "image/png": "[encoded data removed]",
      "text/plain": [
       "<Figure size 1440x720 with 2 Axes>"
      ]
     },
     "metadata": {
      "needs_background": "light"
     },
     "output_type": "display_data"
    }
   ],
   "source": [
    "fig, ax = plt.subplots(figsize=(20,10))         \n",
    "# Imbalanced DataFrame Correlation\n",
    "corr_df = df1.drop([\"Remarks\", \"No.\"], axis=1)\n",
    "corr = corr_df.corr()\n",
    "sns.heatmap(corr, cmap='YlGnBu', annot_kws={'size':30}, ax=ax, mask=np.triu(np.ones(shape=corr.shape)).astype(bool))\n",
    "ax.set_title(\"Correlation Matrix\", fontsize=14)\n",
    "plt.show()"
   ]
  },
  {
   "attachments": {},
   "cell_type": "markdown",
   "metadata": {},
   "source": [
    "## Dataset 2 - Known norms\n",
    "Input data: Varying  \n",
    "Output: Usable area [m2]"
   ]
  },
  {
   "cell_type": "code",
   "execution_count": 15,
   "metadata": {},
   "outputs": [],
   "source": [
    "curr_file = data_dir.joinpath(\"Koszalin_znana_norma.xlsx\")"
   ]
  },
  {
   "cell_type": "code",
   "execution_count": 16,
   "metadata": {},
   "outputs": [
    {
     "data": {
      "text/plain": [
       "dict_keys(['known_norm'])"
      ]
     },
     "execution_count": 16,
     "metadata": {},
     "output_type": "execute_result"
    }
   ],
   "source": [
    "curr_file_dict = pd.read_excel(curr_file, sheet_name=None)\n",
    "curr_file_dict.keys()"
   ]
  },
  {
   "cell_type": "code",
   "execution_count": 17,
   "metadata": {},
   "outputs": [
    {
     "data": {
      "text/html": [
       "<div>\n",
       "<style scoped>\n",
       "    .dataframe tbody tr th:only-of-type {\n",
       "        vertical-align: middle;\n",
       "    }\n",
       "\n",
       "    .dataframe tbody tr th {\n",
       "        vertical-align: top;\n",
       "    }\n",
       "\n",
       "    .dataframe thead th {\n",
       "        text-align: right;\n",
       "    }\n",
       "</style>\n",
       "<table border=\"1\" class=\"dataframe\">\n",
       "  <thead>\n",
       "    <tr style=\"text-align: right;\">\n",
       "      <th></th>\n",
       "      <th>No.</th>\n",
       "      <th>Source</th>\n",
       "      <th>Garage area [m2]</th>\n",
       "      <th>Covered area [m2]</th>\n",
       "      <th>Usable area [m2]</th>\n",
       "      <th>Height [m]</th>\n",
       "      <th>Volume [m3]</th>\n",
       "      <th>Number of rooms</th>\n",
       "      <th>Number of stories</th>\n",
       "    </tr>\n",
       "  </thead>\n",
       "  <tbody>\n",
       "    <tr>\n",
       "      <th>0</th>\n",
       "      <td>1</td>\n",
       "      <td>https://polska.geoportal2.pl/map/www/mapa.php?...</td>\n",
       "      <td>33.040000</td>\n",
       "      <td>169.86</td>\n",
       "      <td>143.97</td>\n",
       "      <td>7.49</td>\n",
       "      <td>597.14</td>\n",
       "      <td>4.0</td>\n",
       "      <td>2</td>\n",
       "    </tr>\n",
       "    <tr>\n",
       "      <th>1</th>\n",
       "      <td>3</td>\n",
       "      <td>https://polska.geoportal2.pl/map/www/mapa.php?...</td>\n",
       "      <td>0.000000</td>\n",
       "      <td>179.53</td>\n",
       "      <td>157.84</td>\n",
       "      <td>6.00</td>\n",
       "      <td>537.40</td>\n",
       "      <td>6.0</td>\n",
       "      <td>2</td>\n",
       "    </tr>\n",
       "    <tr>\n",
       "      <th>2</th>\n",
       "      <td>4</td>\n",
       "      <td>https://polska.geoportal2.pl/map/www/mapa.php?...</td>\n",
       "      <td>23.180000</td>\n",
       "      <td>118.33</td>\n",
       "      <td>105.97</td>\n",
       "      <td>7.63</td>\n",
       "      <td>588.90</td>\n",
       "      <td>5.0</td>\n",
       "      <td>2</td>\n",
       "    </tr>\n",
       "    <tr>\n",
       "      <th>3</th>\n",
       "      <td>5</td>\n",
       "      <td>https://polska.geoportal2.pl/map/www/mapa.php?...</td>\n",
       "      <td>23.500000</td>\n",
       "      <td>124.80</td>\n",
       "      <td>148.20</td>\n",
       "      <td>8.43</td>\n",
       "      <td>811.00</td>\n",
       "      <td>7.0</td>\n",
       "      <td>2</td>\n",
       "    </tr>\n",
       "    <tr>\n",
       "      <th>4</th>\n",
       "      <td>6</td>\n",
       "      <td>https://polska.geoportal2.pl/map/www/mapa.php?...</td>\n",
       "      <td>0.000000</td>\n",
       "      <td>122.06</td>\n",
       "      <td>158.47</td>\n",
       "      <td>7.80</td>\n",
       "      <td>772.29</td>\n",
       "      <td>6.0</td>\n",
       "      <td>2</td>\n",
       "    </tr>\n",
       "    <tr>\n",
       "      <th>5</th>\n",
       "      <td>7</td>\n",
       "      <td>https://polska.geoportal2.pl/map/www/mapa.php?...</td>\n",
       "      <td>0.000000</td>\n",
       "      <td>70.01</td>\n",
       "      <td>53.58</td>\n",
       "      <td>6.25</td>\n",
       "      <td>334.88</td>\n",
       "      <td>4.0</td>\n",
       "      <td>1</td>\n",
       "    </tr>\n",
       "    <tr>\n",
       "      <th>6</th>\n",
       "      <td>8</td>\n",
       "      <td>https://polska.geoportal2.pl/map/www/mapa.php?...</td>\n",
       "      <td>38.200000</td>\n",
       "      <td>113.50</td>\n",
       "      <td>136.80</td>\n",
       "      <td>8.22</td>\n",
       "      <td>838.00</td>\n",
       "      <td>6.0</td>\n",
       "      <td>2</td>\n",
       "    </tr>\n",
       "    <tr>\n",
       "      <th>7</th>\n",
       "      <td>9</td>\n",
       "      <td>https://polska.geoportal2.pl/map/www/mapa.php?...</td>\n",
       "      <td>0.000000</td>\n",
       "      <td>102.42</td>\n",
       "      <td>104.04</td>\n",
       "      <td>8.13</td>\n",
       "      <td>589.00</td>\n",
       "      <td>5.0</td>\n",
       "      <td>2</td>\n",
       "    </tr>\n",
       "    <tr>\n",
       "      <th>8</th>\n",
       "      <td>10</td>\n",
       "      <td>https://polska.geoportal2.pl/map/www/mapa.php?...</td>\n",
       "      <td>5.155185</td>\n",
       "      <td>146.52</td>\n",
       "      <td>171.68</td>\n",
       "      <td>7.74</td>\n",
       "      <td>812.00</td>\n",
       "      <td>6.0</td>\n",
       "      <td>2</td>\n",
       "    </tr>\n",
       "    <tr>\n",
       "      <th>9</th>\n",
       "      <td>11</td>\n",
       "      <td>https://polska.geoportal2.pl/map/www/mapa.php?...</td>\n",
       "      <td>5.155185</td>\n",
       "      <td>122.47</td>\n",
       "      <td>177.82</td>\n",
       "      <td>7.29</td>\n",
       "      <td>833.85</td>\n",
       "      <td>5.0</td>\n",
       "      <td>2</td>\n",
       "    </tr>\n",
       "  </tbody>\n",
       "</table>\n",
       "</div>"
      ],
      "text/plain": [
       "   No.                                             Source  Garage area [m2]  \\\n",
       "0    1  https://polska.geoportal2.pl/map/www/mapa.php?...         33.040000   \n",
       "1    3  https://polska.geoportal2.pl/map/www/mapa.php?...          0.000000   \n",
       "2    4  https://polska.geoportal2.pl/map/www/mapa.php?...         23.180000   \n",
       "3    5  https://polska.geoportal2.pl/map/www/mapa.php?...         23.500000   \n",
       "4    6  https://polska.geoportal2.pl/map/www/mapa.php?...          0.000000   \n",
       "5    7  https://polska.geoportal2.pl/map/www/mapa.php?...          0.000000   \n",
       "6    8  https://polska.geoportal2.pl/map/www/mapa.php?...         38.200000   \n",
       "7    9  https://polska.geoportal2.pl/map/www/mapa.php?...          0.000000   \n",
       "8   10  https://polska.geoportal2.pl/map/www/mapa.php?...          5.155185   \n",
       "9   11  https://polska.geoportal2.pl/map/www/mapa.php?...          5.155185   \n",
       "\n",
       "   Covered area [m2]  Usable area [m2]  Height [m]  Volume [m3]  \\\n",
       "0             169.86            143.97        7.49       597.14   \n",
       "1             179.53            157.84        6.00       537.40   \n",
       "2             118.33            105.97        7.63       588.90   \n",
       "3             124.80            148.20        8.43       811.00   \n",
       "4             122.06            158.47        7.80       772.29   \n",
       "5              70.01             53.58        6.25       334.88   \n",
       "6             113.50            136.80        8.22       838.00   \n",
       "7             102.42            104.04        8.13       589.00   \n",
       "8             146.52            171.68        7.74       812.00   \n",
       "9             122.47            177.82        7.29       833.85   \n",
       "\n",
       "   Number of rooms  Number of stories  \n",
       "0              4.0                  2  \n",
       "1              6.0                  2  \n",
       "2              5.0                  2  \n",
       "3              7.0                  2  \n",
       "4              6.0                  2  \n",
       "5              4.0                  1  \n",
       "6              6.0                  2  \n",
       "7              5.0                  2  \n",
       "8              6.0                  2  \n",
       "9              5.0                  2  "
      ]
     },
     "execution_count": 17,
     "metadata": {},
     "output_type": "execute_result"
    }
   ],
   "source": [
    "dataset_name = \"known_norm\"\n",
    "purge_garages = False\n",
    "\n",
    "\n",
    "curr_df = curr_file_dict[dataset_name]\n",
    "curr_df[\"Garage area [m2]\"] = curr_df[\"Garage area [m2]\"].replace('unknown', curr_df[\"Garage area [m2]\"].replace('unknown', np.NaN).mean())\n",
    "curr_df[\"Number of rooms\"] = curr_df[\"Number of rooms\"].replace('unknown', curr_df[\"Number of rooms\"].replace('unknown', np.NaN).mean())\n",
    "if purge_garages:\n",
    "    curr_df = curr_df.drop(curr_df[curr_df[\"Garage area [m2]\"] == \"unknown\"].index)\n",
    "    curr_df = curr_df.drop(curr_df[curr_df[\"Garage area [m2]\"] > 0].index)\n",
    "df2 = curr_df.copy()\n",
    "df2.head(10)"
   ]
  },
  {
   "cell_type": "code",
   "execution_count": 18,
   "metadata": {},
   "outputs": [
    {
     "data": {
      "text/html": [
       "<div>\n",
       "<style scoped>\n",
       "    .dataframe tbody tr th:only-of-type {\n",
       "        vertical-align: middle;\n",
       "    }\n",
       "\n",
       "    .dataframe tbody tr th {\n",
       "        vertical-align: top;\n",
       "    }\n",
       "\n",
       "    .dataframe thead th {\n",
       "        text-align: right;\n",
       "    }\n",
       "</style>\n",
       "<table border=\"1\" class=\"dataframe\">\n",
       "  <thead>\n",
       "    <tr style=\"text-align: right;\">\n",
       "      <th></th>\n",
       "      <th>No.</th>\n",
       "      <th>Garage area [m2]</th>\n",
       "      <th>Covered area [m2]</th>\n",
       "      <th>Usable area [m2]</th>\n",
       "      <th>Height [m]</th>\n",
       "      <th>Volume [m3]</th>\n",
       "      <th>Number of rooms</th>\n",
       "      <th>Number of stories</th>\n",
       "    </tr>\n",
       "  </thead>\n",
       "  <tbody>\n",
       "    <tr>\n",
       "      <th>count</th>\n",
       "      <td>29.000000</td>\n",
       "      <td>29.000000</td>\n",
       "      <td>29.000000</td>\n",
       "      <td>29.000000</td>\n",
       "      <td>29.000000</td>\n",
       "      <td>29.000000</td>\n",
       "      <td>29.000000</td>\n",
       "      <td>29.000000</td>\n",
       "    </tr>\n",
       "    <tr>\n",
       "      <th>mean</th>\n",
       "      <td>16.206897</td>\n",
       "      <td>5.155185</td>\n",
       "      <td>129.928966</td>\n",
       "      <td>138.134483</td>\n",
       "      <td>7.625862</td>\n",
       "      <td>671.658276</td>\n",
       "      <td>5.428571</td>\n",
       "      <td>1.827586</td>\n",
       "    </tr>\n",
       "    <tr>\n",
       "      <th>std</th>\n",
       "      <td>8.901763</td>\n",
       "      <td>10.979375</td>\n",
       "      <td>34.104742</td>\n",
       "      <td>39.172555</td>\n",
       "      <td>0.866786</td>\n",
       "      <td>202.530128</td>\n",
       "      <td>1.237179</td>\n",
       "      <td>0.384426</td>\n",
       "    </tr>\n",
       "    <tr>\n",
       "      <th>min</th>\n",
       "      <td>1.000000</td>\n",
       "      <td>0.000000</td>\n",
       "      <td>66.820000</td>\n",
       "      <td>53.580000</td>\n",
       "      <td>6.000000</td>\n",
       "      <td>334.880000</td>\n",
       "      <td>3.000000</td>\n",
       "      <td>1.000000</td>\n",
       "    </tr>\n",
       "    <tr>\n",
       "      <th>25%</th>\n",
       "      <td>9.000000</td>\n",
       "      <td>0.000000</td>\n",
       "      <td>113.500000</td>\n",
       "      <td>104.040000</td>\n",
       "      <td>6.870000</td>\n",
       "      <td>537.400000</td>\n",
       "      <td>5.000000</td>\n",
       "      <td>2.000000</td>\n",
       "    </tr>\n",
       "    <tr>\n",
       "      <th>50%</th>\n",
       "      <td>16.000000</td>\n",
       "      <td>0.000000</td>\n",
       "      <td>127.020000</td>\n",
       "      <td>143.970000</td>\n",
       "      <td>7.740000</td>\n",
       "      <td>710.000000</td>\n",
       "      <td>6.000000</td>\n",
       "      <td>2.000000</td>\n",
       "    </tr>\n",
       "    <tr>\n",
       "      <th>75%</th>\n",
       "      <td>23.000000</td>\n",
       "      <td>0.000000</td>\n",
       "      <td>154.400000</td>\n",
       "      <td>169.620000</td>\n",
       "      <td>8.400000</td>\n",
       "      <td>811.000000</td>\n",
       "      <td>6.000000</td>\n",
       "      <td>2.000000</td>\n",
       "    </tr>\n",
       "    <tr>\n",
       "      <th>max</th>\n",
       "      <td>31.000000</td>\n",
       "      <td>38.200000</td>\n",
       "      <td>187.940000</td>\n",
       "      <td>232.650000</td>\n",
       "      <td>8.770000</td>\n",
       "      <td>1161.480000</td>\n",
       "      <td>9.000000</td>\n",
       "      <td>2.000000</td>\n",
       "    </tr>\n",
       "  </tbody>\n",
       "</table>\n",
       "</div>"
      ],
      "text/plain": [
       "             No.  Garage area [m2]  Covered area [m2]  Usable area [m2]  \\\n",
       "count  29.000000         29.000000          29.000000         29.000000   \n",
       "mean   16.206897          5.155185         129.928966        138.134483   \n",
       "std     8.901763         10.979375          34.104742         39.172555   \n",
       "min     1.000000          0.000000          66.820000         53.580000   \n",
       "25%     9.000000          0.000000         113.500000        104.040000   \n",
       "50%    16.000000          0.000000         127.020000        143.970000   \n",
       "75%    23.000000          0.000000         154.400000        169.620000   \n",
       "max    31.000000         38.200000         187.940000        232.650000   \n",
       "\n",
       "       Height [m]  Volume [m3]  Number of rooms  Number of stories  \n",
       "count   29.000000    29.000000        29.000000          29.000000  \n",
       "mean     7.625862   671.658276         5.428571           1.827586  \n",
       "std      0.866786   202.530128         1.237179           0.384426  \n",
       "min      6.000000   334.880000         3.000000           1.000000  \n",
       "25%      6.870000   537.400000         5.000000           2.000000  \n",
       "50%      7.740000   710.000000         6.000000           2.000000  \n",
       "75%      8.400000   811.000000         6.000000           2.000000  \n",
       "max      8.770000  1161.480000         9.000000           2.000000  "
      ]
     },
     "execution_count": 18,
     "metadata": {},
     "output_type": "execute_result"
    }
   ],
   "source": [
    "df2.describe()"
   ]
  },
  {
   "cell_type": "code",
   "execution_count": 19,
   "metadata": {},
   "outputs": [
    {
     "data": {
      "image/png": "[encoded data removed]",
      "text/plain": [
       "<Figure size 1440x720 with 2 Axes>"
      ]
     },
     "metadata": {
      "needs_background": "light"
     },
     "output_type": "display_data"
    }
   ],
   "source": [
    "fig, ax = plt.subplots(figsize=(20,10))         \n",
    "# Imbalanced DataFrame Correlation\n",
    "corr_df = df2.drop([ \"No.\"], axis=1)\n",
    "corr = corr_df.corr()\n",
    "sns.heatmap(corr, cmap='YlGnBu', annot_kws={'size':30}, ax=ax, mask=np.triu(np.ones(shape=corr.shape)).astype(bool))\n",
    "ax.set_title(\"Correlation Matrix\", fontsize=14)\n",
    "plt.show()"
   ]
  },
  {
   "attachments": {},
   "cell_type": "markdown",
   "metadata": {},
   "source": [
    "# Model Testing"
   ]
  },
  {
   "cell_type": "code",
   "execution_count": 20,
   "metadata": {},
   "outputs": [],
   "source": [
    "model_dir = Path(\"./modele/Final_models/Dataset1\")\n",
    "model_dir_2 = Path(\"./modele/Final_models/Dataset1and2\")\n",
    "model_list = list(model_dir.iterdir())\n",
    "model_list_2 = list(model_dir_2.iterdir())"
   ]
  },
  {
   "cell_type": "code",
   "execution_count": 21,
   "metadata": {},
   "outputs": [
    {
     "name": "stdout",
     "output_type": "stream",
     "text": [
      "modele/Final_models/Dataset1/DNN_lr=0,1_|_λ =0,5_cols=[Covered area [m2], Number of stories]_|_dataset=Without garages or boiler rooms.pt\n",
      "modele/Final_models/Dataset1/DNN_lr=0,1_|_λ =1,5_cols=[Covered area [m2], Height [m], Number of stories, Height of a knee wall [m]]_|_dataset=Without garages or boiler rooms.pt\n",
      "modele/Final_models/Dataset1/DNN_lr=0,1_|_λ =0,5_cols=[Covered area [m2], Height [m]]_|_dataset=Without garages or boiler rooms.pt\n",
      "modele/Final_models/Dataset1/DNN_lr=0,1_|_λ =0,5_cols=[Covered area [m2], Height [m], Number of stories]_|_dataset=Without garages or boiler rooms.pt\n",
      "modele/Final_models/Dataset1and2/DNN_lr=0,1_|_λ =1,25_cols=[Covered area [m2], Height [m], Number of stories, Height of a knee wall [m]]_|_dataset=Without garages, with boilers.pt\n",
      "modele/Final_models/Dataset1and2/DNN_lr=0,1_|_λ =1,25_cols=[Covered area [m2], Height [m], Number of stories, Height of a knee wall [m], Perimeter [cm]]_|_dataset=Without garages, with boilers.pt\n"
     ]
    }
   ],
   "source": [
    "for f in model_dir.iterdir():\n",
    "    print(f)\n",
    "for f in model_dir_2.iterdir():\n",
    "    print(f)"
   ]
  },
  {
   "attachments": {},
   "cell_type": "markdown",
   "metadata": {},
   "source": [
    "## Model 1"
   ]
  },
  {
   "attachments": {},
   "cell_type": "markdown",
   "metadata": {},
   "source": [
    "### Model loading"
   ]
  },
  {
   "cell_type": "code",
   "execution_count": 22,
   "metadata": {},
   "outputs": [
    {
     "data": {
      "text/plain": [
       "<All keys matched successfully>"
      ]
     },
     "execution_count": 22,
     "metadata": {},
     "output_type": "execute_result"
    }
   ],
   "source": [
    "model_path = model_list[0]\n",
    "learning_rate=0.1\n",
    "λ=0.5\n",
    "used_cols = [\"Covered area [m2]\", \"Number of stories\"]\n",
    "input_size = len(used_cols)\n",
    "architecture=DeepNet\n",
    "milestones = [200, 400, 1700, 1900]\n",
    "arch_params = (input_size, 1, 10)\n",
    "model = architecture(*arch_params).double()\n",
    "model.load_state_dict(torch.load(model_path))"
   ]
  },
  {
   "cell_type": "code",
   "execution_count": 23,
   "metadata": {},
   "outputs": [
    {
     "data": {
      "text/plain": [
       "StandardScaler()"
      ]
     },
     "execution_count": 23,
     "metadata": {},
     "output_type": "execute_result"
    }
   ],
   "source": [
    "df_norm = wo_garages_boilers_df\n",
    "np.random.seed(rs)\n",
    "torch.manual_seed(rs);\n",
    "df_train_and_val, df_test = train_test_split(df_norm, test_size=0.2, random_state=rs)\n",
    "df_train, df_val = train_test_split(df_train_and_val, test_size=0.25, random_state=rs)\n",
    "Y_train = df_train[\"Usable area [m2]\"]\n",
    "X_train = df_train[used_cols].to_numpy()\n",
    "scaler = StandardScaler()\n",
    "scaler.fit(X_train)"
   ]
  },
  {
   "attachments": {},
   "cell_type": "markdown",
   "metadata": {},
   "source": [
    "#### Dataset without known norms"
   ]
  },
  {
   "cell_type": "code",
   "execution_count": 24,
   "metadata": {},
   "outputs": [
    {
     "data": {
      "application/vnd.plotly.v1+json": {
       "config": {
        "plotlyServerURL": "https://plot.ly"
       },
       "data": [
        {
         "customdata": [
          [
           1,
           2
          ],
          [
           2,
           2
          ],
          [
           3,
           2
          ],
          [
           4,
           2
          ],
          [
           5,
           2
          ],
          [
           6,
           2
          ],
          [
           7,
           2
          ],
          [
           8,
           2
          ],
          [
           9,
           2
          ],
          [
           10,
           2
          ],
          [
           11,
           2
          ],
          [
           12,
           2
          ],
          [
           13,
           2
          ],
          [
           14,
           2
          ],
          [
           15,
           1
          ],
          [
           16,
           1
          ],
          [
           17,
           2
          ],
          [
           18,
           2
          ],
          [
           19,
           2
          ],
          [
           20,
           2
          ],
          [
           21,
           2
          ],
          [
           22,
           2
          ],
          [
           23,
           2
          ],
          [
           24,
           2
          ],
          [
           25,
           2
          ],
          [
           26,
           2
          ],
          [
           27,
           2
          ],
          [
           28,
           2
          ],
          [
           29,
           2
          ],
          [
           30,
           2
          ],
          [
           31,
           2
          ],
          [
           32,
           2
          ],
          [
           33,
           2
          ],
          [
           34,
           2
          ],
          [
           35,
           2
          ],
          [
           36,
           2
          ],
          [
           37,
           2
          ],
          [
           38,
           2
          ],
          [
           39,
           2
          ],
          [
           40,
           2
          ],
          [
           41,
           2
          ],
          [
           42,
           2
          ]
         ],
         "hovertemplate": "Usable area [m2]=%{x}<br>Predicted Usable Area [m2]=%{y}<br>No.=%{customdata[0]}<br>Number of stories=%{customdata[1]}<br>Error=%{marker.color}<extra></extra>",
         "legendgroup": "",
         "marker": {
          "color": [
           12.143716716164292,
           30.237127679317666,
           63.1196910152683,
           22.4761212290627,
           5.300557422780486,
           19.209547575069223,
           33.15082924304454,
           26.085348617553763,
           10.126807262323837,
           33.616309868535254,
           10.237127679317666,
           27.705989451541427,
           0.9835131546699927,
           18.933569555789916,
           1.6627523298504343,
           2.6627523298504343,
           10.695669034547592,
           9.878409347292973,
           21.20937059827446,
           12.966309868535262,
           45.89403341298282,
           10.836309868535267,
           1.5680889302991545,
           48.63677372572823,
           4.21465138244622,
           17.23001143226213,
           11.476750861203897,
           0.45336971447090946,
           16.028529922967806,
           3.014828359240937,
           21.183690131464743,
           1.6182323704982764,
           1.6182323704982764,
           35.7594911739493,
           17.90788908898014,
           3.301126795514108,
           24.57111612344275,
           1.440154872461278,
           56.1285299229678,
           26.05290585727795,
           7.101303772308796,
           50.16322627427178
          ],
          "coloraxis": "coloraxis",
          "symbol": "circle"
         },
         "mode": "markers",
         "name": "",
         "orientation": "v",
         "showlegend": false,
         "type": "scatter",
         "x": [
          88.7,
          100,
          100,
          101.7,
          104.6,
          110,
          112.5,
          113.4,
          116,
          118.2,
          120,
          120,
          123,
          129.8,
          131,
          132,
          132.9,
          136.8,
          137.8,
          138.85,
          140.86,
          140.98,
          141,
          141.2,
          143.7,
          150,
          156.1,
          156.38,
          169.9,
          172.3,
          173,
          174.86,
          174.86,
          177.3,
          180,
          188,
          188.9,
          199.7,
          210,
          220,
          221.6,
          240
         ],
         "xaxis": "x",
         "y": [
          100.8437167161643,
          130.23712767931767,
          163.1196910152683,
          79.2238787709373,
          99.29944257721951,
          129.20954757506922,
          145.65082924304454,
          139.48534861755377,
          126.12680726232384,
          151.81630986853526,
          130.23712767931767,
          147.70598945154143,
          122.01648684533001,
          148.73356955578993,
          129.33724767014957,
          129.33724767014957,
          143.5956690345476,
          146.67840934729298,
          159.00937059827447,
          151.81630986853526,
          186.75403341298284,
          151.81630986853526,
          142.56808893029915,
          189.83677372572822,
          139.48534861755377,
          167.23001143226213,
          144.6232491387961,
          155.9266302855291,
          153.8714700770322,
          169.28517164075907,
          151.81630986853526,
          176.4782323704983,
          176.4782323704983,
          141.5405088260507,
          162.09211091101986,
          184.6988732044859,
          213.47111612344275,
          201.14015487246127,
          153.8714700770322,
          193.94709414272205,
          214.4986962276912,
          189.83677372572822
         ],
         "yaxis": "y"
        },
        {
         "type": "scatter",
         "x": [
          60,
          63.41463414634146,
          66.82926829268293,
          70.2439024390244,
          73.65853658536585,
          77.07317073170732,
          80.48780487804878,
          83.90243902439025,
          87.3170731707317,
          90.73170731707317,
          94.14634146341464,
          97.5609756097561,
          100.97560975609755,
          104.39024390243902,
          107.8048780487805,
          111.21951219512195,
          114.6341463414634,
          118.04878048780488,
          121.46341463414635,
          124.8780487804878,
          128.2926829268293,
          131.7073170731707,
          135.1219512195122,
          138.53658536585365,
          141.9512195121951,
          145.3658536585366,
          148.78048780487805,
          152.1951219512195,
          155.609756097561,
          159.02439024390242,
          162.4390243902439,
          165.85365853658536,
          169.2682926829268,
          172.6829268292683,
          176.09756097560975,
          179.5121951219512,
          182.9268292682927,
          186.34146341463415,
          189.7560975609756,
          193.17073170731706,
          196.58536585365854,
          200
         ],
         "y": [
          60,
          63.41463414634146,
          66.82926829268293,
          70.2439024390244,
          73.65853658536585,
          77.07317073170732,
          80.48780487804878,
          83.90243902439025,
          87.3170731707317,
          90.73170731707317,
          94.14634146341464,
          97.5609756097561,
          100.97560975609755,
          104.39024390243902,
          107.8048780487805,
          111.21951219512195,
          114.6341463414634,
          118.04878048780488,
          121.46341463414635,
          124.8780487804878,
          128.2926829268293,
          131.7073170731707,
          135.1219512195122,
          138.53658536585365,
          141.9512195121951,
          145.3658536585366,
          148.78048780487805,
          152.1951219512195,
          155.609756097561,
          159.02439024390242,
          162.4390243902439,
          165.85365853658536,
          169.2682926829268,
          172.6829268292683,
          176.09756097560975,
          179.5121951219512,
          182.9268292682927,
          186.34146341463415,
          189.7560975609756,
          193.17073170731706,
          196.58536585365854,
          200
         ]
        }
       ],
       "layout": {
        "annotations": [
         {
          "align": "center",
          "bgcolor": "#B3FCF5",
          "bordercolor": "#c7c7c7",
          "borderpad": 4,
          "borderwidth": 2,
          "font": {
           "color": "#000000",
           "family": "Serif",
           "size": 16
          },
          "opacity": 0.8,
          "showarrow": false,
          "text": "R^2 = 0.54 <br>Mean Absolute Error = 18.54<br>Median Absolute Error = 14.50<br>Max Error = 63.12<br>Min Error = 0.45<br>Median Absolute Percentage Error = 0.13",
          "x": 70,
          "y": 200
         }
        ],
        "coloraxis": {
         "colorbar": {
          "title": {
           "text": "Error"
          }
         },
         "colorscale": [
          [
           0,
           "rgb(0,0,255)"
          ],
          [
           1,
           "rgb(255,0,0)"
          ]
         ]
        },
        "height": 800,
        "legend": {
         "tracegroupgap": 0
        },
        "margin": {
         "b": 20,
         "l": 20,
         "r": 20,
         "t": 40
        },
        "paper_bgcolor": "LightSteelBlue",
        "template": {
         "data": {
          "bar": [
           {
            "error_x": {
             "color": "#2a3f5f"
            },
            "error_y": {
             "color": "#2a3f5f"
            },
            "marker": {
             "line": {
              "color": "#E5ECF6",
              "width": 0.5
             },
             "pattern": {
              "fillmode": "overlay",
              "size": 10,
              "solidity": 0.2
             }
            },
            "type": "bar"
           }
          ],
          "barpolar": [
           {
            "marker": {
             "line": {
              "color": "#E5ECF6",
              "width": 0.5
             },
             "pattern": {
              "fillmode": "overlay",
              "size": 10,
              "solidity": 0.2
             }
            },
            "type": "barpolar"
           }
          ],
          "carpet": [
           {
            "aaxis": {
             "endlinecolor": "#2a3f5f",
             "gridcolor": "white",
             "linecolor": "white",
             "minorgridcolor": "white",
             "startlinecolor": "#2a3f5f"
            },
            "baxis": {
             "endlinecolor": "#2a3f5f",
             "gridcolor": "white",
             "linecolor": "white",
             "minorgridcolor": "white",
             "startlinecolor": "#2a3f5f"
            },
            "type": "carpet"
           }
          ],
          "choropleth": [
           {
            "colorbar": {
             "outlinewidth": 0,
             "ticks": ""
            },
            "type": "choropleth"
           }
          ],
          "contour": [
           {
            "colorbar": {
             "outlinewidth": 0,
             "ticks": ""
            },
            "colorscale": [
             [
              0,
              "#0d0887"
             ],
             [
              0.1111111111111111,
              "#46039f"
             ],
             [
              0.2222222222222222,
              "#7201a8"
             ],
             [
              0.3333333333333333,
              "#9c179e"
             ],
             [
              0.4444444444444444,
              "#bd3786"
             ],
             [
              0.5555555555555556,
              "#d8576b"
             ],
             [
              0.6666666666666666,
              "#ed7953"
             ],
             [
              0.7777777777777778,
              "#fb9f3a"
             ],
             [
              0.8888888888888888,
              "#fdca26"
             ],
             [
              1,
              "#f0f921"
             ]
            ],
            "type": "contour"
           }
          ],
          "contourcarpet": [
           {
            "colorbar": {
             "outlinewidth": 0,
             "ticks": ""
            },
            "type": "contourcarpet"
           }
          ],
          "heatmap": [
           {
            "colorbar": {
             "outlinewidth": 0,
             "ticks": ""
            },
            "colorscale": [
             [
              0,
              "#0d0887"
             ],
             [
              0.1111111111111111,
              "#46039f"
             ],
             [
              0.2222222222222222,
              "#7201a8"
             ],
             [
              0.3333333333333333,
              "#9c179e"
             ],
             [
              0.4444444444444444,
              "#bd3786"
             ],
             [
              0.5555555555555556,
              "#d8576b"
             ],
             [
              0.6666666666666666,
              "#ed7953"
             ],
             [
              0.7777777777777778,
              "#fb9f3a"
             ],
             [
              0.8888888888888888,
              "#fdca26"
             ],
             [
              1,
              "#f0f921"
             ]
            ],
            "type": "heatmap"
           }
          ],
          "heatmapgl": [
           {
            "colorbar": {
             "outlinewidth": 0,
             "ticks": ""
            },
            "colorscale": [
             [
              0,
              "#0d0887"
             ],
             [
              0.1111111111111111,
              "#46039f"
             ],
             [
              0.2222222222222222,
              "#7201a8"
             ],
             [
              0.3333333333333333,
              "#9c179e"
             ],
             [
              0.4444444444444444,
              "#bd3786"
             ],
             [
              0.5555555555555556,
              "#d8576b"
             ],
             [
              0.6666666666666666,
              "#ed7953"
             ],
             [
              0.7777777777777778,
              "#fb9f3a"
             ],
             [
              0.8888888888888888,
              "#fdca26"
             ],
             [
              1,
              "#f0f921"
             ]
            ],
            "type": "heatmapgl"
           }
          ],
          "histogram": [
           {
            "marker": {
             "pattern": {
              "fillmode": "overlay",
              "size": 10,
              "solidity": 0.2
             }
            },
            "type": "histogram"
           }
          ],
          "histogram2d": [
           {
            "colorbar": {
             "outlinewidth": 0,
             "ticks": ""
            },
            "colorscale": [
             [
              0,
              "#0d0887"
             ],
             [
              0.1111111111111111,
              "#46039f"
             ],
             [
              0.2222222222222222,
              "#7201a8"
             ],
             [
              0.3333333333333333,
              "#9c179e"
             ],
             [
              0.4444444444444444,
              "#bd3786"
             ],
             [
              0.5555555555555556,
              "#d8576b"
             ],
             [
              0.6666666666666666,
              "#ed7953"
             ],
             [
              0.7777777777777778,
              "#fb9f3a"
             ],
             [
              0.8888888888888888,
              "#fdca26"
             ],
             [
              1,
              "#f0f921"
             ]
            ],
            "type": "histogram2d"
           }
          ],
          "histogram2dcontour": [
           {
            "colorbar": {
             "outlinewidth": 0,
             "ticks": ""
            },
            "colorscale": [
             [
              0,
              "#0d0887"
             ],
             [
              0.1111111111111111,
              "#46039f"
             ],
             [
              0.2222222222222222,
              "#7201a8"
             ],
             [
              0.3333333333333333,
              "#9c179e"
             ],
             [
              0.4444444444444444,
              "#bd3786"
             ],
             [
              0.5555555555555556,
              "#d8576b"
             ],
             [
              0.6666666666666666,
              "#ed7953"
             ],
             [
              0.7777777777777778,
              "#fb9f3a"
             ],
             [
              0.8888888888888888,
              "#fdca26"
             ],
             [
              1,
              "#f0f921"
             ]
            ],
            "type": "histogram2dcontour"
           }
          ],
          "mesh3d": [
           {
            "colorbar": {
             "outlinewidth": 0,
             "ticks": ""
            },
            "type": "mesh3d"
           }
          ],
          "parcoords": [
           {
            "line": {
             "colorbar": {
              "outlinewidth": 0,
              "ticks": ""
             }
            },
            "type": "parcoords"
           }
          ],
          "pie": [
           {
            "automargin": true,
            "type": "pie"
           }
          ],
          "scatter": [
           {
            "fillpattern": {
             "fillmode": "overlay",
             "size": 10,
             "solidity": 0.2
            },
            "type": "scatter"
           }
          ],
          "scatter3d": [
           {
            "line": {
             "colorbar": {
              "outlinewidth": 0,
              "ticks": ""
             }
            },
            "marker": {
             "colorbar": {
              "outlinewidth": 0,
              "ticks": ""
             }
            },
            "type": "scatter3d"
           }
          ],
          "scattercarpet": [
           {
            "marker": {
             "colorbar": {
              "outlinewidth": 0,
              "ticks": ""
             }
            },
            "type": "scattercarpet"
           }
          ],
          "scattergeo": [
           {
            "marker": {
             "colorbar": {
              "outlinewidth": 0,
              "ticks": ""
             }
            },
            "type": "scattergeo"
           }
          ],
          "scattergl": [
           {
            "marker": {
             "colorbar": {
              "outlinewidth": 0,
              "ticks": ""
             }
            },
            "type": "scattergl"
           }
          ],
          "scattermapbox": [
           {
            "marker": {
             "colorbar": {
              "outlinewidth": 0,
              "ticks": ""
             }
            },
            "type": "scattermapbox"
           }
          ],
          "scatterpolar": [
           {
            "marker": {
             "colorbar": {
              "outlinewidth": 0,
              "ticks": ""
             }
            },
            "type": "scatterpolar"
           }
          ],
          "scatterpolargl": [
           {
            "marker": {
             "colorbar": {
              "outlinewidth": 0,
              "ticks": ""
             }
            },
            "type": "scatterpolargl"
           }
          ],
          "scatterternary": [
           {
            "marker": {
             "colorbar": {
              "outlinewidth": 0,
              "ticks": ""
             }
            },
            "type": "scatterternary"
           }
          ],
          "surface": [
           {
            "colorbar": {
             "outlinewidth": 0,
             "ticks": ""
            },
            "colorscale": [
             [
              0,
              "#0d0887"
             ],
             [
              0.1111111111111111,
              "#46039f"
             ],
             [
              0.2222222222222222,
              "#7201a8"
             ],
             [
              0.3333333333333333,
              "#9c179e"
             ],
             [
              0.4444444444444444,
              "#bd3786"
             ],
             [
              0.5555555555555556,
              "#d8576b"
             ],
             [
              0.6666666666666666,
              "#ed7953"
             ],
             [
              0.7777777777777778,
              "#fb9f3a"
             ],
             [
              0.8888888888888888,
              "#fdca26"
             ],
             [
              1,
              "#f0f921"
             ]
            ],
            "type": "surface"
           }
          ],
          "table": [
           {
            "cells": {
             "fill": {
              "color": "#EBF0F8"
             },
             "line": {
              "color": "white"
             }
            },
            "header": {
             "fill": {
              "color": "#C8D4E3"
             },
             "line": {
              "color": "white"
             }
            },
            "type": "table"
           }
          ]
         },
         "layout": {
          "annotationdefaults": {
           "arrowcolor": "#2a3f5f",
           "arrowhead": 0,
           "arrowwidth": 1
          },
          "autotypenumbers": "strict",
          "coloraxis": {
           "colorbar": {
            "outlinewidth": 0,
            "ticks": ""
           }
          },
          "colorscale": {
           "diverging": [
            [
             0,
             "#8e0152"
            ],
            [
             0.1,
             "#c51b7d"
            ],
            [
             0.2,
             "#de77ae"
            ],
            [
             0.3,
             "#f1b6da"
            ],
            [
             0.4,
             "#fde0ef"
            ],
            [
             0.5,
             "#f7f7f7"
            ],
            [
             0.6,
             "#e6f5d0"
            ],
            [
             0.7,
             "#b8e186"
            ],
            [
             0.8,
             "#7fbc41"
            ],
            [
             0.9,
             "#4d9221"
            ],
            [
             1,
             "#276419"
            ]
           ],
           "sequential": [
            [
             0,
             "#0d0887"
            ],
            [
             0.1111111111111111,
             "#46039f"
            ],
            [
             0.2222222222222222,
             "#7201a8"
            ],
            [
             0.3333333333333333,
             "#9c179e"
            ],
            [
             0.4444444444444444,
             "#bd3786"
            ],
            [
             0.5555555555555556,
             "#d8576b"
            ],
            [
             0.6666666666666666,
             "#ed7953"
            ],
            [
             0.7777777777777778,
             "#fb9f3a"
            ],
            [
             0.8888888888888888,
             "#fdca26"
            ],
            [
             1,
             "#f0f921"
            ]
           ],
           "sequentialminus": [
            [
             0,
             "#0d0887"
            ],
            [
             0.1111111111111111,
             "#46039f"
            ],
            [
             0.2222222222222222,
             "#7201a8"
            ],
            [
             0.3333333333333333,
             "#9c179e"
            ],
            [
             0.4444444444444444,
             "#bd3786"
            ],
            [
             0.5555555555555556,
             "#d8576b"
            ],
            [
             0.6666666666666666,
             "#ed7953"
            ],
            [
             0.7777777777777778,
             "#fb9f3a"
            ],
            [
             0.8888888888888888,
             "#fdca26"
            ],
            [
             1,
             "#f0f921"
            ]
           ]
          },
          "colorway": [
           "#636efa",
           "#EF553B",
           "#00cc96",
           "#ab63fa",
           "#FFA15A",
           "#19d3f3",
           "#FF6692",
           "#B6E880",
           "#FF97FF",
           "#FECB52"
          ],
          "font": {
           "color": "#2a3f5f"
          },
          "geo": {
           "bgcolor": "white",
           "lakecolor": "white",
           "landcolor": "#E5ECF6",
           "showlakes": true,
           "showland": true,
           "subunitcolor": "white"
          },
          "hoverlabel": {
           "align": "left"
          },
          "hovermode": "closest",
          "mapbox": {
           "style": "light"
          },
          "paper_bgcolor": "white",
          "plot_bgcolor": "#E5ECF6",
          "polar": {
           "angularaxis": {
            "gridcolor": "white",
            "linecolor": "white",
            "ticks": ""
           },
           "bgcolor": "#E5ECF6",
           "radialaxis": {
            "gridcolor": "white",
            "linecolor": "white",
            "ticks": ""
           }
          },
          "scene": {
           "xaxis": {
            "backgroundcolor": "#E5ECF6",
            "gridcolor": "white",
            "gridwidth": 2,
            "linecolor": "white",
            "showbackground": true,
            "ticks": "",
            "zerolinecolor": "white"
           },
           "yaxis": {
            "backgroundcolor": "#E5ECF6",
            "gridcolor": "white",
            "gridwidth": 2,
            "linecolor": "white",
            "showbackground": true,
            "ticks": "",
            "zerolinecolor": "white"
           },
           "zaxis": {
            "backgroundcolor": "#E5ECF6",
            "gridcolor": "white",
            "gridwidth": 2,
            "linecolor": "white",
            "showbackground": true,
            "ticks": "",
            "zerolinecolor": "white"
           }
          },
          "shapedefaults": {
           "line": {
            "color": "#2a3f5f"
           }
          },
          "ternary": {
           "aaxis": {
            "gridcolor": "white",
            "linecolor": "white",
            "ticks": ""
           },
           "baxis": {
            "gridcolor": "white",
            "linecolor": "white",
            "ticks": ""
           },
           "bgcolor": "#E5ECF6",
           "caxis": {
            "gridcolor": "white",
            "linecolor": "white",
            "ticks": ""
           }
          },
          "title": {
           "x": 0.05
          },
          "xaxis": {
           "automargin": true,
           "gridcolor": "white",
           "linecolor": "white",
           "ticks": "",
           "title": {
            "standoff": 15
           },
           "zerolinecolor": "white",
           "zerolinewidth": 2
          },
          "yaxis": {
           "automargin": true,
           "gridcolor": "white",
           "linecolor": "white",
           "ticks": "",
           "title": {
            "standoff": 15
           },
           "zerolinecolor": "white",
           "zerolinewidth": 2
          }
         }
        },
        "width": 800,
        "xaxis": {
         "anchor": "y",
         "domain": [
          0,
          1
         ],
         "title": {
          "text": "Usable area [m2]"
         }
        },
        "yaxis": {
         "anchor": "x",
         "domain": [
          0,
          1
         ],
         "title": {
          "text": "Predicted Usable Area [m2]"
         }
        }
       }
      }
     },
     "metadata": {},
     "output_type": "display_data"
    }
   ],
   "source": [
    "used_ds = df1\n",
    "X_test = used_ds[used_cols].to_numpy()\n",
    "Y_test = used_ds[\"Usable area [m2]\"]\n",
    "X_test = scaler.transform(X_test)\n",
    "test_features = Variable(torch.from_numpy(X_test))\n",
    "test_labels = Variable(torch.from_numpy(Y_test.to_numpy()).double())\n",
    "# Model evaluationb\n",
    "with torch.no_grad():\n",
    "        # set the model in evaluation mode\n",
    "        model.eval()\n",
    "        Y_pred = model(test_features).numpy().reshape(-1)\n",
    "        df_pred = pd.DataFrame(Y_pred, columns=[\"Predicted Usable Area [m2]\"])\n",
    "        df_test_viz = used_ds.join(df_pred)\n",
    "    \n",
    "df_test_viz[\"Error\"] = np.abs(df_test_viz[\"Usable area [m2]\"] - df_test_viz[\"Predicted Usable Area [m2]\"])\n",
    "\n",
    "plot_df_summary(df_test_viz)"
   ]
  },
  {
   "attachments": {},
   "cell_type": "markdown",
   "metadata": {},
   "source": [
    "#### Dataset with known norms"
   ]
  },
  {
   "cell_type": "code",
   "execution_count": 25,
   "metadata": {},
   "outputs": [
    {
     "data": {
      "application/vnd.plotly.v1+json": {
       "config": {
        "plotlyServerURL": "https://plot.ly"
       },
       "data": [
        {
         "customdata": [
          [
           1,
           2
          ],
          [
           3,
           2
          ],
          [
           4,
           2
          ],
          [
           5,
           2
          ],
          [
           6,
           2
          ],
          [
           7,
           1
          ],
          [
           8,
           2
          ],
          [
           9,
           2
          ],
          [
           10,
           2
          ],
          [
           11,
           2
          ],
          [
           12,
           2
          ],
          [
           13,
           2
          ],
          [
           14,
           2
          ],
          [
           15,
           2
          ],
          [
           16,
           2
          ],
          [
           17,
           2
          ],
          [
           18,
           1
          ],
          [
           19,
           2
          ],
          [
           20,
           2
          ],
          [
           21,
           2
          ],
          [
           22,
           1
          ],
          [
           23,
           2
          ],
          [
           25,
           2
          ],
          [
           26,
           2
          ],
          [
           27,
           1
          ],
          [
           28,
           2
          ],
          [
           29,
           2
          ],
          [
           30,
           1
          ],
          [
           31,
           2
          ]
         ],
         "hovertemplate": "Usable area [m2]=%{x}<br>Predicted Usable Area [m2]=%{y}<br>No.=%{customdata[0]}<br>Number of stories=%{customdata[1]}<br>Error=%{marker.color}<extra></extra>",
         "legendgroup": "",
         "marker": {
          "color": [
           57.02629365786649,
           53.09299326594905,
           42.07509088594347,
           6.493534160430954,
           6.592035325209821,
           0.8234536048362173,
           6.281878982423393,
           27.656291427350496,
           5.332574024707469,
           25.52072748246792,
           18.930179560217155,
           18.11587847037245,
           5.747137643415414,
           7.048543195147033,
           3.1412681572384145,
           10.94530954236069,
           22.862961676439127,
           18.484761991862513,
           16.198901574236714,
           47.868954331054226,
           2.105410786198121,
           10.045608207927444,
           28.653031971550234,
           5.766495694169734,
           37.39297027178891,
           0.5037465325846284,
           3.8373347351122504,
           30.16359402690577,
           35.844941942678616
          ],
          "coloraxis": "coloraxis",
          "symbol": "circle"
         },
         "mode": "markers",
         "name": "",
         "orientation": "v",
         "showlegend": false,
         "type": "scatter",
         "x": [
          143.97,
          157.84,
          105.97,
          148.2,
          158.47,
          53.58,
          136.8,
          104.04,
          171.68,
          177.82,
          119.99,
          178.42,
          157.65,
          151.93,
          86.72,
          156.74,
          100.9,
          138.49,
          232.65,
          169.62,
          99.58,
          178.63,
          174.16,
          114.76,
          85.12,
          118.43,
          100.11,
          99.9,
          183.73
         ],
         "xaxis": "x",
         "y": [
          200.9962936578665,
          210.93299326594905,
          148.04509088594347,
          154.69353416043094,
          151.87796467479018,
          54.403453604836216,
          143.0818789824234,
          131.6962914273505,
          177.01257402470748,
          152.29927251753207,
          138.92017956021715,
          160.30412152962754,
          163.39713764341542,
          158.97854319514704,
          83.57873184276158,
          145.79469045763932,
          123.76296167643913,
          156.97476199186252,
          216.4510984257633,
          217.48895433105423,
          101.68541078619812,
          188.67560820792744,
          145.50696802844976,
          120.52649569416974,
          122.51297027178892,
          118.93374653258464,
          96.27266526488775,
          130.06359402690578,
          219.5749419426786
         ],
         "yaxis": "y"
        },
        {
         "type": "scatter",
         "x": [
          60,
          65,
          70,
          75,
          80,
          85,
          90,
          95,
          100,
          105,
          110,
          115,
          120,
          125,
          130,
          135,
          140,
          145,
          150,
          155,
          160,
          165,
          170,
          175,
          180,
          185,
          190,
          195,
          200
         ],
         "y": [
          60,
          65,
          70,
          75,
          80,
          85,
          90,
          95,
          100,
          105,
          110,
          115,
          120,
          125,
          130,
          135,
          140,
          145,
          150,
          155,
          160,
          165,
          170,
          175,
          180,
          185,
          190,
          195,
          200
         ]
        }
       ],
       "layout": {
        "annotations": [
         {
          "align": "center",
          "bgcolor": "#B3FCF5",
          "bordercolor": "#c7c7c7",
          "borderpad": 4,
          "borderwidth": 2,
          "font": {
           "color": "#000000",
           "family": "Serif",
           "size": 16
          },
          "opacity": 0.8,
          "showarrow": false,
          "text": "R^2 = 0.57 <br>Mean Absolute Error = 19.12<br>Median Absolute Error = 16.20<br>Max Error = 57.03<br>Min Error = 0.50<br>Median Absolute Percentage Error = 0.14",
          "x": 70,
          "y": 200
         }
        ],
        "coloraxis": {
         "colorbar": {
          "title": {
           "text": "Error"
          }
         },
         "colorscale": [
          [
           0,
           "rgb(0,0,255)"
          ],
          [
           1,
           "rgb(255,0,0)"
          ]
         ]
        },
        "height": 800,
        "legend": {
         "tracegroupgap": 0
        },
        "margin": {
         "b": 20,
         "l": 20,
         "r": 20,
         "t": 40
        },
        "paper_bgcolor": "LightSteelBlue",
        "template": {
         "data": {
          "bar": [
           {
            "error_x": {
             "color": "#2a3f5f"
            },
            "error_y": {
             "color": "#2a3f5f"
            },
            "marker": {
             "line": {
              "color": "#E5ECF6",
              "width": 0.5
             },
             "pattern": {
              "fillmode": "overlay",
              "size": 10,
              "solidity": 0.2
             }
            },
            "type": "bar"
           }
          ],
          "barpolar": [
           {
            "marker": {
             "line": {
              "color": "#E5ECF6",
              "width": 0.5
             },
             "pattern": {
              "fillmode": "overlay",
              "size": 10,
              "solidity": 0.2
             }
            },
            "type": "barpolar"
           }
          ],
          "carpet": [
           {
            "aaxis": {
             "endlinecolor": "#2a3f5f",
             "gridcolor": "white",
             "linecolor": "white",
             "minorgridcolor": "white",
             "startlinecolor": "#2a3f5f"
            },
            "baxis": {
             "endlinecolor": "#2a3f5f",
             "gridcolor": "white",
             "linecolor": "white",
             "minorgridcolor": "white",
             "startlinecolor": "#2a3f5f"
            },
            "type": "carpet"
           }
          ],
          "choropleth": [
           {
            "colorbar": {
             "outlinewidth": 0,
             "ticks": ""
            },
            "type": "choropleth"
           }
          ],
          "contour": [
           {
            "colorbar": {
             "outlinewidth": 0,
             "ticks": ""
            },
            "colorscale": [
             [
              0,
              "#0d0887"
             ],
             [
              0.1111111111111111,
              "#46039f"
             ],
             [
              0.2222222222222222,
              "#7201a8"
             ],
             [
              0.3333333333333333,
              "#9c179e"
             ],
             [
              0.4444444444444444,
              "#bd3786"
             ],
             [
              0.5555555555555556,
              "#d8576b"
             ],
             [
              0.6666666666666666,
              "#ed7953"
             ],
             [
              0.7777777777777778,
              "#fb9f3a"
             ],
             [
              0.8888888888888888,
              "#fdca26"
             ],
             [
              1,
              "#f0f921"
             ]
            ],
            "type": "contour"
           }
          ],
          "contourcarpet": [
           {
            "colorbar": {
             "outlinewidth": 0,
             "ticks": ""
            },
            "type": "contourcarpet"
           }
          ],
          "heatmap": [
           {
            "colorbar": {
             "outlinewidth": 0,
             "ticks": ""
            },
            "colorscale": [
             [
              0,
              "#0d0887"
             ],
             [
              0.1111111111111111,
              "#46039f"
             ],
             [
              0.2222222222222222,
              "#7201a8"
             ],
             [
              0.3333333333333333,
              "#9c179e"
             ],
             [
              0.4444444444444444,
              "#bd3786"
             ],
             [
              0.5555555555555556,
              "#d8576b"
             ],
             [
              0.6666666666666666,
              "#ed7953"
             ],
             [
              0.7777777777777778,
              "#fb9f3a"
             ],
             [
              0.8888888888888888,
              "#fdca26"
             ],
             [
              1,
              "#f0f921"
             ]
            ],
            "type": "heatmap"
           }
          ],
          "heatmapgl": [
           {
            "colorbar": {
             "outlinewidth": 0,
             "ticks": ""
            },
            "colorscale": [
             [
              0,
              "#0d0887"
             ],
             [
              0.1111111111111111,
              "#46039f"
             ],
             [
              0.2222222222222222,
              "#7201a8"
             ],
             [
              0.3333333333333333,
              "#9c179e"
             ],
             [
              0.4444444444444444,
              "#bd3786"
             ],
             [
              0.5555555555555556,
              "#d8576b"
             ],
             [
              0.6666666666666666,
              "#ed7953"
             ],
             [
              0.7777777777777778,
              "#fb9f3a"
             ],
             [
              0.8888888888888888,
              "#fdca26"
             ],
             [
              1,
              "#f0f921"
             ]
            ],
            "type": "heatmapgl"
           }
          ],
          "histogram": [
           {
            "marker": {
             "pattern": {
              "fillmode": "overlay",
              "size": 10,
              "solidity": 0.2
             }
            },
            "type": "histogram"
           }
          ],
          "histogram2d": [
           {
            "colorbar": {
             "outlinewidth": 0,
             "ticks": ""
            },
            "colorscale": [
             [
              0,
              "#0d0887"
             ],
             [
              0.1111111111111111,
              "#46039f"
             ],
             [
              0.2222222222222222,
              "#7201a8"
             ],
             [
              0.3333333333333333,
              "#9c179e"
             ],
             [
              0.4444444444444444,
              "#bd3786"
             ],
             [
              0.5555555555555556,
              "#d8576b"
             ],
             [
              0.6666666666666666,
              "#ed7953"
             ],
             [
              0.7777777777777778,
              "#fb9f3a"
             ],
             [
              0.8888888888888888,
              "#fdca26"
             ],
             [
              1,
              "#f0f921"
             ]
            ],
            "type": "histogram2d"
           }
          ],
          "histogram2dcontour": [
           {
            "colorbar": {
             "outlinewidth": 0,
             "ticks": ""
            },
            "colorscale": [
             [
              0,
              "#0d0887"
             ],
             [
              0.1111111111111111,
              "#46039f"
             ],
             [
              0.2222222222222222,
              "#7201a8"
             ],
             [
              0.3333333333333333,
              "#9c179e"
             ],
             [
              0.4444444444444444,
              "#bd3786"
             ],
             [
              0.5555555555555556,
              "#d8576b"
             ],
             [
              0.6666666666666666,
              "#ed7953"
             ],
             [
              0.7777777777777778,
              "#fb9f3a"
             ],
             [
              0.8888888888888888,
              "#fdca26"
             ],
             [
              1,
              "#f0f921"
             ]
            ],
            "type": "histogram2dcontour"
           }
          ],
          "mesh3d": [
           {
            "colorbar": {
             "outlinewidth": 0,
             "ticks": ""
            },
            "type": "mesh3d"
           }
          ],
          "parcoords": [
           {
            "line": {
             "colorbar": {
              "outlinewidth": 0,
              "ticks": ""
             }
            },
            "type": "parcoords"
           }
          ],
          "pie": [
           {
            "automargin": true,
            "type": "pie"
           }
          ],
          "scatter": [
           {
            "fillpattern": {
             "fillmode": "overlay",
             "size": 10,
             "solidity": 0.2
            },
            "type": "scatter"
           }
          ],
          "scatter3d": [
           {
            "line": {
             "colorbar": {
              "outlinewidth": 0,
              "ticks": ""
             }
            },
            "marker": {
             "colorbar": {
              "outlinewidth": 0,
              "ticks": ""
             }
            },
            "type": "scatter3d"
           }
          ],
          "scattercarpet": [
           {
            "marker": {
             "colorbar": {
              "outlinewidth": 0,
              "ticks": ""
             }
            },
            "type": "scattercarpet"
           }
          ],
          "scattergeo": [
           {
            "marker": {
             "colorbar": {
              "outlinewidth": 0,
              "ticks": ""
             }
            },
            "type": "scattergeo"
           }
          ],
          "scattergl": [
           {
            "marker": {
             "colorbar": {
              "outlinewidth": 0,
              "ticks": ""
             }
            },
            "type": "scattergl"
           }
          ],
          "scattermapbox": [
           {
            "marker": {
             "colorbar": {
              "outlinewidth": 0,
              "ticks": ""
             }
            },
            "type": "scattermapbox"
           }
          ],
          "scatterpolar": [
           {
            "marker": {
             "colorbar": {
              "outlinewidth": 0,
              "ticks": ""
             }
            },
            "type": "scatterpolar"
           }
          ],
          "scatterpolargl": [
           {
            "marker": {
             "colorbar": {
              "outlinewidth": 0,
              "ticks": ""
             }
            },
            "type": "scatterpolargl"
           }
          ],
          "scatterternary": [
           {
            "marker": {
             "colorbar": {
              "outlinewidth": 0,
              "ticks": ""
             }
            },
            "type": "scatterternary"
           }
          ],
          "surface": [
           {
            "colorbar": {
             "outlinewidth": 0,
             "ticks": ""
            },
            "colorscale": [
             [
              0,
              "#0d0887"
             ],
             [
              0.1111111111111111,
              "#46039f"
             ],
             [
              0.2222222222222222,
              "#7201a8"
             ],
             [
              0.3333333333333333,
              "#9c179e"
             ],
             [
              0.4444444444444444,
              "#bd3786"
             ],
             [
              0.5555555555555556,
              "#d8576b"
             ],
             [
              0.6666666666666666,
              "#ed7953"
             ],
             [
              0.7777777777777778,
              "#fb9f3a"
             ],
             [
              0.8888888888888888,
              "#fdca26"
             ],
             [
              1,
              "#f0f921"
             ]
            ],
            "type": "surface"
           }
          ],
          "table": [
           {
            "cells": {
             "fill": {
              "color": "#EBF0F8"
             },
             "line": {
              "color": "white"
             }
            },
            "header": {
             "fill": {
              "color": "#C8D4E3"
             },
             "line": {
              "color": "white"
             }
            },
            "type": "table"
           }
          ]
         },
         "layout": {
          "annotationdefaults": {
           "arrowcolor": "#2a3f5f",
           "arrowhead": 0,
           "arrowwidth": 1
          },
          "autotypenumbers": "strict",
          "coloraxis": {
           "colorbar": {
            "outlinewidth": 0,
            "ticks": ""
           }
          },
          "colorscale": {
           "diverging": [
            [
             0,
             "#8e0152"
            ],
            [
             0.1,
             "#c51b7d"
            ],
            [
             0.2,
             "#de77ae"
            ],
            [
             0.3,
             "#f1b6da"
            ],
            [
             0.4,
             "#fde0ef"
            ],
            [
             0.5,
             "#f7f7f7"
            ],
            [
             0.6,
             "#e6f5d0"
            ],
            [
             0.7,
             "#b8e186"
            ],
            [
             0.8,
             "#7fbc41"
            ],
            [
             0.9,
             "#4d9221"
            ],
            [
             1,
             "#276419"
            ]
           ],
           "sequential": [
            [
             0,
             "#0d0887"
            ],
            [
             0.1111111111111111,
             "#46039f"
            ],
            [
             0.2222222222222222,
             "#7201a8"
            ],
            [
             0.3333333333333333,
             "#9c179e"
            ],
            [
             0.4444444444444444,
             "#bd3786"
            ],
            [
             0.5555555555555556,
             "#d8576b"
            ],
            [
             0.6666666666666666,
             "#ed7953"
            ],
            [
             0.7777777777777778,
             "#fb9f3a"
            ],
            [
             0.8888888888888888,
             "#fdca26"
            ],
            [
             1,
             "#f0f921"
            ]
           ],
           "sequentialminus": [
            [
             0,
             "#0d0887"
            ],
            [
             0.1111111111111111,
             "#46039f"
            ],
            [
             0.2222222222222222,
             "#7201a8"
            ],
            [
             0.3333333333333333,
             "#9c179e"
            ],
            [
             0.4444444444444444,
             "#bd3786"
            ],
            [
             0.5555555555555556,
             "#d8576b"
            ],
            [
             0.6666666666666666,
             "#ed7953"
            ],
            [
             0.7777777777777778,
             "#fb9f3a"
            ],
            [
             0.8888888888888888,
             "#fdca26"
            ],
            [
             1,
             "#f0f921"
            ]
           ]
          },
          "colorway": [
           "#636efa",
           "#EF553B",
           "#00cc96",
           "#ab63fa",
           "#FFA15A",
           "#19d3f3",
           "#FF6692",
           "#B6E880",
           "#FF97FF",
           "#FECB52"
          ],
          "font": {
           "color": "#2a3f5f"
          },
          "geo": {
           "bgcolor": "white",
           "lakecolor": "white",
           "landcolor": "#E5ECF6",
           "showlakes": true,
           "showland": true,
           "subunitcolor": "white"
          },
          "hoverlabel": {
           "align": "left"
          },
          "hovermode": "closest",
          "mapbox": {
           "style": "light"
          },
          "paper_bgcolor": "white",
          "plot_bgcolor": "#E5ECF6",
          "polar": {
           "angularaxis": {
            "gridcolor": "white",
            "linecolor": "white",
            "ticks": ""
           },
           "bgcolor": "#E5ECF6",
           "radialaxis": {
            "gridcolor": "white",
            "linecolor": "white",
            "ticks": ""
           }
          },
          "scene": {
           "xaxis": {
            "backgroundcolor": "#E5ECF6",
            "gridcolor": "white",
            "gridwidth": 2,
            "linecolor": "white",
            "showbackground": true,
            "ticks": "",
            "zerolinecolor": "white"
           },
           "yaxis": {
            "backgroundcolor": "#E5ECF6",
            "gridcolor": "white",
            "gridwidth": 2,
            "linecolor": "white",
            "showbackground": true,
            "ticks": "",
            "zerolinecolor": "white"
           },
           "zaxis": {
            "backgroundcolor": "#E5ECF6",
            "gridcolor": "white",
            "gridwidth": 2,
            "linecolor": "white",
            "showbackground": true,
            "ticks": "",
            "zerolinecolor": "white"
           }
          },
          "shapedefaults": {
           "line": {
            "color": "#2a3f5f"
           }
          },
          "ternary": {
           "aaxis": {
            "gridcolor": "white",
            "linecolor": "white",
            "ticks": ""
           },
           "baxis": {
            "gridcolor": "white",
            "linecolor": "white",
            "ticks": ""
           },
           "bgcolor": "#E5ECF6",
           "caxis": {
            "gridcolor": "white",
            "linecolor": "white",
            "ticks": ""
           }
          },
          "title": {
           "x": 0.05
          },
          "xaxis": {
           "automargin": true,
           "gridcolor": "white",
           "linecolor": "white",
           "ticks": "",
           "title": {
            "standoff": 15
           },
           "zerolinecolor": "white",
           "zerolinewidth": 2
          },
          "yaxis": {
           "automargin": true,
           "gridcolor": "white",
           "linecolor": "white",
           "ticks": "",
           "title": {
            "standoff": 15
           },
           "zerolinecolor": "white",
           "zerolinewidth": 2
          }
         }
        },
        "width": 800,
        "xaxis": {
         "anchor": "y",
         "domain": [
          0,
          1
         ],
         "title": {
          "text": "Usable area [m2]"
         }
        },
        "yaxis": {
         "anchor": "x",
         "domain": [
          0,
          1
         ],
         "title": {
          "text": "Predicted Usable Area [m2]"
         }
        }
       }
      }
     },
     "metadata": {},
     "output_type": "display_data"
    }
   ],
   "source": [
    "used_ds = df2\n",
    "X_test = used_ds[used_cols].to_numpy()\n",
    "Y_test = used_ds[\"Usable area [m2]\"]\n",
    "X_test = scaler.transform(X_test)\n",
    "test_features = Variable(torch.from_numpy(X_test))\n",
    "test_labels = Variable(torch.from_numpy(Y_test.to_numpy()).double())\n",
    "# Model evaluation\n",
    "with torch.no_grad():\n",
    "        # set the model in evaluation mode\n",
    "        model.eval()\n",
    "        Y_pred = model(test_features).numpy().reshape(-1)\n",
    "        df_pred = pd.DataFrame(Y_pred, columns=[\"Predicted Usable Area [m2]\"])\n",
    "        df_test_viz = used_ds.join(df_pred)\n",
    "    \n",
    "df_test_viz[\"Error\"] = np.abs(df_test_viz[\"Usable area [m2]\"] - df_test_viz[\"Predicted Usable Area [m2]\"])\n",
    "\n",
    "plot_df_summary(df_test_viz)"
   ]
  },
  {
   "attachments": {},
   "cell_type": "markdown",
   "metadata": {},
   "source": [
    "## Model 2"
   ]
  },
  {
   "cell_type": "code",
   "execution_count": 26,
   "metadata": {},
   "outputs": [
    {
     "data": {
      "text/plain": [
       "PosixPath('modele/Final_models/Dataset1/DNN_lr=0,1_|_λ =1,5_cols=[Covered area [m2], Height [m], Number of stories, Height of a knee wall [m]]_|_dataset=Without garages or boiler rooms.pt')"
      ]
     },
     "execution_count": 26,
     "metadata": {},
     "output_type": "execute_result"
    }
   ],
   "source": [
    "model_list[1]"
   ]
  },
  {
   "attachments": {},
   "cell_type": "markdown",
   "metadata": {},
   "source": [
    "### Model loading"
   ]
  },
  {
   "cell_type": "code",
   "execution_count": 27,
   "metadata": {},
   "outputs": [
    {
     "data": {
      "text/plain": [
       "<All keys matched successfully>"
      ]
     },
     "execution_count": 27,
     "metadata": {},
     "output_type": "execute_result"
    }
   ],
   "source": [
    "model_path = model_list[1]\n",
    "learning_rate=0.1\n",
    "λ=1.5\n",
    "used_cols = [\"Covered area [m2]\", \"Height [m]\", \"Number of stories\", \"Height of a knee wall [m]\"]\n",
    "input_size = len(used_cols)\n",
    "architecture=DeepNet\n",
    "milestones = [200, 400, 1700, 1900]\n",
    "arch_params = (input_size, 1, 30)\n",
    "model = architecture(*arch_params).double()\n",
    "model.load_state_dict(torch.load(model_path))"
   ]
  },
  {
   "cell_type": "code",
   "execution_count": 28,
   "metadata": {},
   "outputs": [
    {
     "data": {
      "text/plain": [
       "StandardScaler()"
      ]
     },
     "execution_count": 28,
     "metadata": {},
     "output_type": "execute_result"
    }
   ],
   "source": [
    "df_norm = wo_garages_boilers_df\n",
    "np.random.seed(rs)\n",
    "torch.manual_seed(rs);\n",
    "df_train_and_val, df_test = train_test_split(df_norm, test_size=0.2, random_state=rs)\n",
    "df_train, df_val = train_test_split(df_train_and_val, test_size=0.25, random_state=rs)\n",
    "Y_train = df_train[\"Usable area [m2]\"]\n",
    "X_train = df_train[used_cols].to_numpy()\n",
    "scaler = StandardScaler()\n",
    "scaler.fit(X_train)"
   ]
  },
  {
   "attachments": {},
   "cell_type": "markdown",
   "metadata": {},
   "source": [
    "#### Dataset without known norms"
   ]
  },
  {
   "cell_type": "code",
   "execution_count": null,
   "metadata": {},
   "outputs": [],
   "source": [
    "used_ds = df1\n",
    "X_test = used_ds[used_cols].to_numpy()\n",
    "Y_test = used_ds[\"Usable area [m2]\"]\n",
    "X_test = scaler.transform(X_test)\n",
    "test_features = Variable(torch.from_numpy(X_test))\n",
    "test_labels = Variable(torch.from_numpy(Y_test.to_numpy()).double())\n",
    "# Model evaluation\n",
    "with torch.no_grad():\n",
    "        # set the model in evaluation mode\n",
    "        model.eval()\n",
    "        Y_pred = model(test_features).numpy().reshape(-1)\n",
    "        df_pred = pd.DataFrame(Y_pred, columns=[\"Predicted Usable Area [m2]\"])\n",
    "        df_test_viz = used_ds.join(df_pred)\n",
    "    \n",
    "df_test_viz[\"Error\"] = np.abs(df_test_viz[\"Usable area [m2]\"] - df_test_viz[\"Predicted Usable Area [m2]\"])\n",
    "\n",
    "plot_df_summary(df_test_viz)"
   ]
  },
  {
   "attachments": {},
   "cell_type": "markdown",
   "metadata": {},
   "source": [
    "#### Dataset with known norms"
   ]
  },
  {
   "cell_type": "code",
   "execution_count": null,
   "metadata": {},
   "outputs": [],
   "source": [
    "used_ds = df2\n",
    "X_test = used_ds[used_cols].to_numpy()\n",
    "Y_test = used_ds[\"Usable area [m2]\"]\n",
    "X_test = scaler.transform(X_test)\n",
    "test_features = Variable(torch.from_numpy(X_test))\n",
    "test_labels = Variable(torch.from_numpy(Y_test.to_numpy()).double())\n",
    "# Model evaluation\n",
    "with torch.no_grad():\n",
    "        # set the model in evaluation mode\n",
    "        model.eval()\n",
    "        Y_pred = model(test_features).numpy().reshape(-1)\n",
    "        df_pred = pd.DataFrame(Y_pred, columns=[\"Predicted Usable Area [m2]\"])\n",
    "        df_test_viz = used_ds.join(df_pred)\n",
    "    \n",
    "df_test_viz[\"Error\"] = np.abs(df_test_viz[\"Usable area [m2]\"] - df_test_viz[\"Predicted Usable Area [m2]\"])\n",
    "\n",
    "plot_df_summary(df_test_viz)"
   ]
  },
  {
   "attachments": {},
   "cell_type": "markdown",
   "metadata": {},
   "source": [
    "## Model 3"
   ]
  },
  {
   "cell_type": "code",
   "execution_count": 32,
   "metadata": {},
   "outputs": [
    {
     "data": {
      "text/plain": [
       "PosixPath('modele/Final_models/Dataset1/DNN_lr=0,1_|_λ =0,5_cols=[Covered area [m2], Height [m]]_|_dataset=Without garages or boiler rooms.pt')"
      ]
     },
     "execution_count": 32,
     "metadata": {},
     "output_type": "execute_result"
    }
   ],
   "source": [
    "model_list[2]"
   ]
  },
  {
   "attachments": {},
   "cell_type": "markdown",
   "metadata": {},
   "source": [
    "### Model loading"
   ]
  },
  {
   "cell_type": "code",
   "execution_count": 33,
   "metadata": {},
   "outputs": [
    {
     "data": {
      "text/plain": [
       "<All keys matched successfully>"
      ]
     },
     "execution_count": 33,
     "metadata": {},
     "output_type": "execute_result"
    }
   ],
   "source": [
    "model_path = model_list[2]\n",
    "learning_rate=0.1\n",
    "λ=0.5\n",
    "used_cols = [\"Covered area [m2]\", \"Height [m]\"]\n",
    "input_size = len(used_cols)\n",
    "architecture=DeepNet\n",
    "milestones = [200, 400, 1700, 1900]\n",
    "arch_params = (input_size, 1, 10)\n",
    "model = architecture(*arch_params).double()\n",
    "model.load_state_dict(torch.load(model_path))"
   ]
  },
  {
   "cell_type": "code",
   "execution_count": 34,
   "metadata": {},
   "outputs": [
    {
     "data": {
      "text/plain": [
       "StandardScaler()"
      ]
     },
     "execution_count": 34,
     "metadata": {},
     "output_type": "execute_result"
    }
   ],
   "source": [
    "df_norm = wo_garages_boilers_df\n",
    "np.random.seed(rs)\n",
    "torch.manual_seed(rs);\n",
    "df_train_and_val, df_test = train_test_split(df_norm, test_size=0.2, random_state=rs)\n",
    "df_train, df_val = train_test_split(df_train_and_val, test_size=0.25, random_state=rs)\n",
    "Y_train = df_train[\"Usable area [m2]\"]\n",
    "X_train = df_train[used_cols].to_numpy()\n",
    "scaler = StandardScaler()\n",
    "scaler.fit(X_train)"
   ]
  },
  {
   "attachments": {},
   "cell_type": "markdown",
   "metadata": {},
   "source": [
    "#### Dataset without known norms"
   ]
  },
  {
   "cell_type": "code",
   "execution_count": 35,
   "metadata": {},
   "outputs": [
    {
     "data": {
      "application/vnd.plotly.v1+json": {
       "config": {
        "plotlyServerURL": "https://plot.ly"
       },
       "data": [
        {
         "customdata": [
          [
           1,
           2
          ],
          [
           2,
           2
          ],
          [
           3,
           2
          ],
          [
           4,
           2
          ],
          [
           5,
           2
          ],
          [
           6,
           2
          ],
          [
           7,
           2
          ],
          [
           8,
           2
          ],
          [
           9,
           2
          ],
          [
           10,
           2
          ],
          [
           11,
           2
          ],
          [
           12,
           2
          ],
          [
           13,
           2
          ],
          [
           14,
           2
          ],
          [
           15,
           1
          ],
          [
           16,
           1
          ],
          [
           17,
           2
          ],
          [
           18,
           2
          ],
          [
           19,
           2
          ],
          [
           20,
           2
          ],
          [
           21,
           2
          ],
          [
           22,
           2
          ],
          [
           23,
           2
          ],
          [
           24,
           2
          ],
          [
           25,
           2
          ],
          [
           26,
           2
          ],
          [
           27,
           2
          ],
          [
           28,
           2
          ],
          [
           29,
           2
          ],
          [
           30,
           2
          ],
          [
           31,
           2
          ],
          [
           32,
           2
          ],
          [
           33,
           2
          ],
          [
           34,
           2
          ],
          [
           35,
           2
          ],
          [
           36,
           2
          ],
          [
           37,
           2
          ],
          [
           38,
           2
          ],
          [
           39,
           2
          ],
          [
           40,
           2
          ],
          [
           41,
           2
          ],
          [
           42,
           2
          ]
         ],
         "hovertemplate": "Usable area [m2]=%{x}<br>Predicted Usable Area [m2]=%{y}<br>No.=%{customdata[0]}<br>Number of stories=%{customdata[1]}<br>Error=%{marker.color}<extra></extra>",
         "legendgroup": "",
         "marker": {
          "color": [
           0.5351488452260895,
           41.05690645212903,
           12.545673592663547,
           23.737385386587547,
           0.7636023556292741,
           5.425700294585226,
           11.55902419371185,
           19.810448790354656,
           2.9025110605154794,
           17.336270779956706,
           13.463267605164333,
           1.665319044344585,
           1.1180110717554044,
           15.633047184342217,
           61.95681897571143,
           17.279217028381737,
           11.39718069195294,
           26.96892084458389,
           1.9917618905560346,
           15.44467582871306,
           20.977678743816682,
           25.9283113111413,
           10.686609652242623,
           223.54558212396796,
           0.21583871542114252,
           7.94145977222405,
           44.14429777507473,
           4.381702826374379,
           10.415125140735995,
           51.05463520920688,
           60.07406983002883,
           4.470227818341044,
           3.965915086684248,
           40.39467656260186,
           22.662896399996868,
           7.269773019356563,
           21.46575326555228,
           1.314739811327712,
           58.968849345727875,
           27.888917736327414,
           8.176595323776269,
           51.04189420919286
          ],
          "coloraxis": "coloraxis",
          "symbol": "circle"
         },
         "mode": "markers",
         "name": "",
         "orientation": "v",
         "showlegend": false,
         "type": "scatter",
         "x": [
          88.7,
          100,
          100,
          101.7,
          104.6,
          110,
          112.5,
          113.4,
          116,
          118.2,
          120,
          120,
          123,
          129.8,
          131,
          132,
          132.9,
          136.8,
          137.8,
          138.85,
          140.86,
          140.98,
          141,
          141.2,
          143.7,
          150,
          156.1,
          156.38,
          169.9,
          172.3,
          173,
          174.86,
          174.86,
          177.3,
          180,
          188,
          188.9,
          199.7,
          210,
          220,
          221.6,
          240
         ],
         "xaxis": "x",
         "y": [
          88.16485115477391,
          141.05690645212903,
          112.54567359266355,
          77.96261461341246,
          105.36360235562927,
          115.42570029458523,
          100.94097580628815,
          133.21044879035466,
          118.90251106051548,
          135.5362707799567,
          106.53673239483567,
          118.33468095565541,
          124.1180110717554,
          145.43304718434223,
          192.95681897571143,
          149.27921702838174,
          144.29718069195295,
          109.83107915541612,
          139.79176189055605,
          154.29467582871305,
          161.8376787438167,
          115.05168868885869,
          130.31339034775738,
          364.74558212396795,
          143.48416128457885,
          157.94145977222405,
          111.95570222492526,
          151.99829717362562,
          159.484874859264,
          121.24536479079313,
          112.92593016997117,
          170.38977218165897,
          170.89408491331577,
          136.90532343739815,
          157.33710360000313,
          180.73022698064344,
          210.36575326555229,
          198.38526018867228,
          151.03115065427212,
          192.11108226367259,
          213.42340467622373,
          188.95810579080714
         ],
         "yaxis": "y"
        },
        {
         "type": "scatter",
         "x": [
          60,
          63.41463414634146,
          66.82926829268293,
          70.2439024390244,
          73.65853658536585,
          77.07317073170732,
          80.48780487804878,
          83.90243902439025,
          87.3170731707317,
          90.73170731707317,
          94.14634146341464,
          97.5609756097561,
          100.97560975609755,
          104.39024390243902,
          107.8048780487805,
          111.21951219512195,
          114.6341463414634,
          118.04878048780488,
          121.46341463414635,
          124.8780487804878,
          128.2926829268293,
          131.7073170731707,
          135.1219512195122,
          138.53658536585365,
          141.9512195121951,
          145.3658536585366,
          148.78048780487805,
          152.1951219512195,
          155.609756097561,
          159.02439024390242,
          162.4390243902439,
          165.85365853658536,
          169.2682926829268,
          172.6829268292683,
          176.09756097560975,
          179.5121951219512,
          182.9268292682927,
          186.34146341463415,
          189.7560975609756,
          193.17073170731706,
          196.58536585365854,
          200
         ],
         "y": [
          60,
          63.41463414634146,
          66.82926829268293,
          70.2439024390244,
          73.65853658536585,
          77.07317073170732,
          80.48780487804878,
          83.90243902439025,
          87.3170731707317,
          90.73170731707317,
          94.14634146341464,
          97.5609756097561,
          100.97560975609755,
          104.39024390243902,
          107.8048780487805,
          111.21951219512195,
          114.6341463414634,
          118.04878048780488,
          121.46341463414635,
          124.8780487804878,
          128.2926829268293,
          131.7073170731707,
          135.1219512195122,
          138.53658536585365,
          141.9512195121951,
          145.3658536585366,
          148.78048780487805,
          152.1951219512195,
          155.609756097561,
          159.02439024390242,
          162.4390243902439,
          165.85365853658536,
          169.2682926829268,
          172.6829268292683,
          176.09756097560975,
          179.5121951219512,
          182.9268292682927,
          186.34146341463415,
          189.7560975609756,
          193.17073170731706,
          196.58536585365854,
          200
         ]
        }
       ],
       "layout": {
        "annotations": [
         {
          "align": "center",
          "bgcolor": "#B3FCF5",
          "bordercolor": "#c7c7c7",
          "borderpad": 4,
          "borderwidth": 2,
          "font": {
           "color": "#000000",
           "family": "Serif",
           "size": 16
          },
          "opacity": 0.8,
          "showarrow": false,
          "text": "R^2 = -0.40 <br>Mean Absolute Error = 24.04<br>Median Absolute Error = 14.45<br>Max Error = 223.55<br>Min Error = 0.22<br>Median Absolute Percentage Error = 0.16",
          "x": 70,
          "y": 200
         }
        ],
        "coloraxis": {
         "colorbar": {
          "title": {
           "text": "Error"
          }
         },
         "colorscale": [
          [
           0,
           "rgb(0,0,255)"
          ],
          [
           1,
           "rgb(255,0,0)"
          ]
         ]
        },
        "height": 800,
        "legend": {
         "tracegroupgap": 0
        },
        "margin": {
         "b": 20,
         "l": 20,
         "r": 20,
         "t": 40
        },
        "paper_bgcolor": "LightSteelBlue",
        "template": {
         "data": {
          "bar": [
           {
            "error_x": {
             "color": "#2a3f5f"
            },
            "error_y": {
             "color": "#2a3f5f"
            },
            "marker": {
             "line": {
              "color": "#E5ECF6",
              "width": 0.5
             },
             "pattern": {
              "fillmode": "overlay",
              "size": 10,
              "solidity": 0.2
             }
            },
            "type": "bar"
           }
          ],
          "barpolar": [
           {
            "marker": {
             "line": {
              "color": "#E5ECF6",
              "width": 0.5
             },
             "pattern": {
              "fillmode": "overlay",
              "size": 10,
              "solidity": 0.2
             }
            },
            "type": "barpolar"
           }
          ],
          "carpet": [
           {
            "aaxis": {
             "endlinecolor": "#2a3f5f",
             "gridcolor": "white",
             "linecolor": "white",
             "minorgridcolor": "white",
             "startlinecolor": "#2a3f5f"
            },
            "baxis": {
             "endlinecolor": "#2a3f5f",
             "gridcolor": "white",
             "linecolor": "white",
             "minorgridcolor": "white",
             "startlinecolor": "#2a3f5f"
            },
            "type": "carpet"
           }
          ],
          "choropleth": [
           {
            "colorbar": {
             "outlinewidth": 0,
             "ticks": ""
            },
            "type": "choropleth"
           }
          ],
          "contour": [
           {
            "colorbar": {
             "outlinewidth": 0,
             "ticks": ""
            },
            "colorscale": [
             [
              0,
              "#0d0887"
             ],
             [
              0.1111111111111111,
              "#46039f"
             ],
             [
              0.2222222222222222,
              "#7201a8"
             ],
             [
              0.3333333333333333,
              "#9c179e"
             ],
             [
              0.4444444444444444,
              "#bd3786"
             ],
             [
              0.5555555555555556,
              "#d8576b"
             ],
             [
              0.6666666666666666,
              "#ed7953"
             ],
             [
              0.7777777777777778,
              "#fb9f3a"
             ],
             [
              0.8888888888888888,
              "#fdca26"
             ],
             [
              1,
              "#f0f921"
             ]
            ],
            "type": "contour"
           }
          ],
          "contourcarpet": [
           {
            "colorbar": {
             "outlinewidth": 0,
             "ticks": ""
            },
            "type": "contourcarpet"
           }
          ],
          "heatmap": [
           {
            "colorbar": {
             "outlinewidth": 0,
             "ticks": ""
            },
            "colorscale": [
             [
              0,
              "#0d0887"
             ],
             [
              0.1111111111111111,
              "#46039f"
             ],
             [
              0.2222222222222222,
              "#7201a8"
             ],
             [
              0.3333333333333333,
              "#9c179e"
             ],
             [
              0.4444444444444444,
              "#bd3786"
             ],
             [
              0.5555555555555556,
              "#d8576b"
             ],
             [
              0.6666666666666666,
              "#ed7953"
             ],
             [
              0.7777777777777778,
              "#fb9f3a"
             ],
             [
              0.8888888888888888,
              "#fdca26"
             ],
             [
              1,
              "#f0f921"
             ]
            ],
            "type": "heatmap"
           }
          ],
          "heatmapgl": [
           {
            "colorbar": {
             "outlinewidth": 0,
             "ticks": ""
            },
            "colorscale": [
             [
              0,
              "#0d0887"
             ],
             [
              0.1111111111111111,
              "#46039f"
             ],
             [
              0.2222222222222222,
              "#7201a8"
             ],
             [
              0.3333333333333333,
              "#9c179e"
             ],
             [
              0.4444444444444444,
              "#bd3786"
             ],
             [
              0.5555555555555556,
              "#d8576b"
             ],
             [
              0.6666666666666666,
              "#ed7953"
             ],
             [
              0.7777777777777778,
              "#fb9f3a"
             ],
             [
              0.8888888888888888,
              "#fdca26"
             ],
             [
              1,
              "#f0f921"
             ]
            ],
            "type": "heatmapgl"
           }
          ],
          "histogram": [
           {
            "marker": {
             "pattern": {
              "fillmode": "overlay",
              "size": 10,
              "solidity": 0.2
             }
            },
            "type": "histogram"
           }
          ],
          "histogram2d": [
           {
            "colorbar": {
             "outlinewidth": 0,
             "ticks": ""
            },
            "colorscale": [
             [
              0,
              "#0d0887"
             ],
             [
              0.1111111111111111,
              "#46039f"
             ],
             [
              0.2222222222222222,
              "#7201a8"
             ],
             [
              0.3333333333333333,
              "#9c179e"
             ],
             [
              0.4444444444444444,
              "#bd3786"
             ],
             [
              0.5555555555555556,
              "#d8576b"
             ],
             [
              0.6666666666666666,
              "#ed7953"
             ],
             [
              0.7777777777777778,
              "#fb9f3a"
             ],
             [
              0.8888888888888888,
              "#fdca26"
             ],
             [
              1,
              "#f0f921"
             ]
            ],
            "type": "histogram2d"
           }
          ],
          "histogram2dcontour": [
           {
            "colorbar": {
             "outlinewidth": 0,
             "ticks": ""
            },
            "colorscale": [
             [
              0,
              "#0d0887"
             ],
             [
              0.1111111111111111,
              "#46039f"
             ],
             [
              0.2222222222222222,
              "#7201a8"
             ],
             [
              0.3333333333333333,
              "#9c179e"
             ],
             [
              0.4444444444444444,
              "#bd3786"
             ],
             [
              0.5555555555555556,
              "#d8576b"
             ],
             [
              0.6666666666666666,
              "#ed7953"
             ],
             [
              0.7777777777777778,
              "#fb9f3a"
             ],
             [
              0.8888888888888888,
              "#fdca26"
             ],
             [
              1,
              "#f0f921"
             ]
            ],
            "type": "histogram2dcontour"
           }
          ],
          "mesh3d": [
           {
            "colorbar": {
             "outlinewidth": 0,
             "ticks": ""
            },
            "type": "mesh3d"
           }
          ],
          "parcoords": [
           {
            "line": {
             "colorbar": {
              "outlinewidth": 0,
              "ticks": ""
             }
            },
            "type": "parcoords"
           }
          ],
          "pie": [
           {
            "automargin": true,
            "type": "pie"
           }
          ],
          "scatter": [
           {
            "fillpattern": {
             "fillmode": "overlay",
             "size": 10,
             "solidity": 0.2
            },
            "type": "scatter"
           }
          ],
          "scatter3d": [
           {
            "line": {
             "colorbar": {
              "outlinewidth": 0,
              "ticks": ""
             }
            },
            "marker": {
             "colorbar": {
              "outlinewidth": 0,
              "ticks": ""
             }
            },
            "type": "scatter3d"
           }
          ],
          "scattercarpet": [
           {
            "marker": {
             "colorbar": {
              "outlinewidth": 0,
              "ticks": ""
             }
            },
            "type": "scattercarpet"
           }
          ],
          "scattergeo": [
           {
            "marker": {
             "colorbar": {
              "outlinewidth": 0,
              "ticks": ""
             }
            },
            "type": "scattergeo"
           }
          ],
          "scattergl": [
           {
            "marker": {
             "colorbar": {
              "outlinewidth": 0,
              "ticks": ""
             }
            },
            "type": "scattergl"
           }
          ],
          "scattermapbox": [
           {
            "marker": {
             "colorbar": {
              "outlinewidth": 0,
              "ticks": ""
             }
            },
            "type": "scattermapbox"
           }
          ],
          "scatterpolar": [
           {
            "marker": {
             "colorbar": {
              "outlinewidth": 0,
              "ticks": ""
             }
            },
            "type": "scatterpolar"
           }
          ],
          "scatterpolargl": [
           {
            "marker": {
             "colorbar": {
              "outlinewidth": 0,
              "ticks": ""
             }
            },
            "type": "scatterpolargl"
           }
          ],
          "scatterternary": [
           {
            "marker": {
             "colorbar": {
              "outlinewidth": 0,
              "ticks": ""
             }
            },
            "type": "scatterternary"
           }
          ],
          "surface": [
           {
            "colorbar": {
             "outlinewidth": 0,
             "ticks": ""
            },
            "colorscale": [
             [
              0,
              "#0d0887"
             ],
             [
              0.1111111111111111,
              "#46039f"
             ],
             [
              0.2222222222222222,
              "#7201a8"
             ],
             [
              0.3333333333333333,
              "#9c179e"
             ],
             [
              0.4444444444444444,
              "#bd3786"
             ],
             [
              0.5555555555555556,
              "#d8576b"
             ],
             [
              0.6666666666666666,
              "#ed7953"
             ],
             [
              0.7777777777777778,
              "#fb9f3a"
             ],
             [
              0.8888888888888888,
              "#fdca26"
             ],
             [
              1,
              "#f0f921"
             ]
            ],
            "type": "surface"
           }
          ],
          "table": [
           {
            "cells": {
             "fill": {
              "color": "#EBF0F8"
             },
             "line": {
              "color": "white"
             }
            },
            "header": {
             "fill": {
              "color": "#C8D4E3"
             },
             "line": {
              "color": "white"
             }
            },
            "type": "table"
           }
          ]
         },
         "layout": {
          "annotationdefaults": {
           "arrowcolor": "#2a3f5f",
           "arrowhead": 0,
           "arrowwidth": 1
          },
          "autotypenumbers": "strict",
          "coloraxis": {
           "colorbar": {
            "outlinewidth": 0,
            "ticks": ""
           }
          },
          "colorscale": {
           "diverging": [
            [
             0,
             "#8e0152"
            ],
            [
             0.1,
             "#c51b7d"
            ],
            [
             0.2,
             "#de77ae"
            ],
            [
             0.3,
             "#f1b6da"
            ],
            [
             0.4,
             "#fde0ef"
            ],
            [
             0.5,
             "#f7f7f7"
            ],
            [
             0.6,
             "#e6f5d0"
            ],
            [
             0.7,
             "#b8e186"
            ],
            [
             0.8,
             "#7fbc41"
            ],
            [
             0.9,
             "#4d9221"
            ],
            [
             1,
             "#276419"
            ]
           ],
           "sequential": [
            [
             0,
             "#0d0887"
            ],
            [
             0.1111111111111111,
             "#46039f"
            ],
            [
             0.2222222222222222,
             "#7201a8"
            ],
            [
             0.3333333333333333,
             "#9c179e"
            ],
            [
             0.4444444444444444,
             "#bd3786"
            ],
            [
             0.5555555555555556,
             "#d8576b"
            ],
            [
             0.6666666666666666,
             "#ed7953"
            ],
            [
             0.7777777777777778,
             "#fb9f3a"
            ],
            [
             0.8888888888888888,
             "#fdca26"
            ],
            [
             1,
             "#f0f921"
            ]
           ],
           "sequentialminus": [
            [
             0,
             "#0d0887"
            ],
            [
             0.1111111111111111,
             "#46039f"
            ],
            [
             0.2222222222222222,
             "#7201a8"
            ],
            [
             0.3333333333333333,
             "#9c179e"
            ],
            [
             0.4444444444444444,
             "#bd3786"
            ],
            [
             0.5555555555555556,
             "#d8576b"
            ],
            [
             0.6666666666666666,
             "#ed7953"
            ],
            [
             0.7777777777777778,
             "#fb9f3a"
            ],
            [
             0.8888888888888888,
             "#fdca26"
            ],
            [
             1,
             "#f0f921"
            ]
           ]
          },
          "colorway": [
           "#636efa",
           "#EF553B",
           "#00cc96",
           "#ab63fa",
           "#FFA15A",
           "#19d3f3",
           "#FF6692",
           "#B6E880",
           "#FF97FF",
           "#FECB52"
          ],
          "font": {
           "color": "#2a3f5f"
          },
          "geo": {
           "bgcolor": "white",
           "lakecolor": "white",
           "landcolor": "#E5ECF6",
           "showlakes": true,
           "showland": true,
           "subunitcolor": "white"
          },
          "hoverlabel": {
           "align": "left"
          },
          "hovermode": "closest",
          "mapbox": {
           "style": "light"
          },
          "paper_bgcolor": "white",
          "plot_bgcolor": "#E5ECF6",
          "polar": {
           "angularaxis": {
            "gridcolor": "white",
            "linecolor": "white",
            "ticks": ""
           },
           "bgcolor": "#E5ECF6",
           "radialaxis": {
            "gridcolor": "white",
            "linecolor": "white",
            "ticks": ""
           }
          },
          "scene": {
           "xaxis": {
            "backgroundcolor": "#E5ECF6",
            "gridcolor": "white",
            "gridwidth": 2,
            "linecolor": "white",
            "showbackground": true,
            "ticks": "",
            "zerolinecolor": "white"
           },
           "yaxis": {
            "backgroundcolor": "#E5ECF6",
            "gridcolor": "white",
            "gridwidth": 2,
            "linecolor": "white",
            "showbackground": true,
            "ticks": "",
            "zerolinecolor": "white"
           },
           "zaxis": {
            "backgroundcolor": "#E5ECF6",
            "gridcolor": "white",
            "gridwidth": 2,
            "linecolor": "white",
            "showbackground": true,
            "ticks": "",
            "zerolinecolor": "white"
           }
          },
          "shapedefaults": {
           "line": {
            "color": "#2a3f5f"
           }
          },
          "ternary": {
           "aaxis": {
            "gridcolor": "white",
            "linecolor": "white",
            "ticks": ""
           },
           "baxis": {
            "gridcolor": "white",
            "linecolor": "white",
            "ticks": ""
           },
           "bgcolor": "#E5ECF6",
           "caxis": {
            "gridcolor": "white",
            "linecolor": "white",
            "ticks": ""
           }
          },
          "title": {
           "x": 0.05
          },
          "xaxis": {
           "automargin": true,
           "gridcolor": "white",
           "linecolor": "white",
           "ticks": "",
           "title": {
            "standoff": 15
           },
           "zerolinecolor": "white",
           "zerolinewidth": 2
          },
          "yaxis": {
           "automargin": true,
           "gridcolor": "white",
           "linecolor": "white",
           "ticks": "",
           "title": {
            "standoff": 15
           },
           "zerolinecolor": "white",
           "zerolinewidth": 2
          }
         }
        },
        "width": 800,
        "xaxis": {
         "anchor": "y",
         "domain": [
          0,
          1
         ],
         "title": {
          "text": "Usable area [m2]"
         }
        },
        "yaxis": {
         "anchor": "x",
         "domain": [
          0,
          1
         ],
         "title": {
          "text": "Predicted Usable Area [m2]"
         }
        }
       }
      }
     },
     "metadata": {},
     "output_type": "display_data"
    }
   ],
   "source": [
    "used_ds = df1\n",
    "X_test = used_ds[used_cols].to_numpy()\n",
    "Y_test = used_ds[\"Usable area [m2]\"]\n",
    "X_test = scaler.transform(X_test)\n",
    "test_features = Variable(torch.from_numpy(X_test))\n",
    "test_labels = Variable(torch.from_numpy(Y_test.to_numpy()).double())\n",
    "# Model evaluation\n",
    "with torch.no_grad():\n",
    "        # set the model in evaluation mode\n",
    "        model.eval()\n",
    "        Y_pred = model(test_features).numpy().reshape(-1)\n",
    "        df_pred = pd.DataFrame(Y_pred, columns=[\"Predicted Usable Area [m2]\"])\n",
    "        df_test_viz = used_ds.join(df_pred)\n",
    "    \n",
    "df_test_viz[\"Error\"] = np.abs(df_test_viz[\"Usable area [m2]\"] - df_test_viz[\"Predicted Usable Area [m2]\"])\n",
    "\n",
    "plot_df_summary(df_test_viz)"
   ]
  },
  {
   "cell_type": "code",
   "execution_count": 36,
   "metadata": {},
   "outputs": [
    {
     "name": "stdout",
     "output_type": "stream",
     "text": [
      "R^2 = -0.40 \n",
      "Mean Absolute Error = 24.04\n",
      "Median Absolute Error = 14.45\n",
      "Max Error = 223.55\n",
      "Min Error = 0.22\n",
      "Median Absolute Percentage Error = 0.16\n"
     ]
    },
    {
     "data": {
      "image/png": "[encoded data removed]",
      "text/plain": [
       "<Figure size 864x720 with 2 Axes>"
      ]
     },
     "metadata": {
      "needs_background": "light"
     },
     "output_type": "display_data"
    }
   ],
   "source": [
    "models_comparison_figure(df_test_viz)"
   ]
  },
  {
   "attachments": {},
   "cell_type": "markdown",
   "metadata": {},
   "source": [
    "#### Dataset with known norms"
   ]
  },
  {
   "cell_type": "code",
   "execution_count": 37,
   "metadata": {},
   "outputs": [
    {
     "data": {
      "application/vnd.plotly.v1+json": {
       "config": {
        "plotlyServerURL": "https://plot.ly"
       },
       "data": [
        {
         "customdata": [
          [
           1,
           2
          ],
          [
           3,
           2
          ],
          [
           4,
           2
          ],
          [
           5,
           2
          ],
          [
           6,
           2
          ],
          [
           7,
           1
          ],
          [
           8,
           2
          ],
          [
           9,
           2
          ],
          [
           10,
           2
          ],
          [
           11,
           2
          ],
          [
           12,
           2
          ],
          [
           13,
           2
          ],
          [
           14,
           2
          ],
          [
           15,
           2
          ],
          [
           16,
           2
          ],
          [
           17,
           2
          ],
          [
           18,
           1
          ],
          [
           19,
           2
          ],
          [
           20,
           2
          ],
          [
           21,
           2
          ],
          [
           22,
           1
          ],
          [
           23,
           2
          ],
          [
           25,
           2
          ],
          [
           26,
           2
          ],
          [
           27,
           1
          ],
          [
           28,
           2
          ],
          [
           29,
           2
          ],
          [
           30,
           1
          ],
          [
           31,
           2
          ]
         ],
         "hovertemplate": "Usable area [m2]=%{x}<br>Predicted Usable Area [m2]=%{y}<br>No.=%{customdata[0]}<br>Number of stories=%{customdata[1]}<br>Error=%{marker.color}<extra></extra>",
         "legendgroup": "",
         "marker": {
          "color": [
           33.00708304699913,
           0.3081175030773693,
           23.89227700040658,
           3.984923390831142,
           21.716215277562725,
           2.8968505643608964,
           0.20567562045758336,
           20.102684115771964,
           12.437263663790674,
           50.52560791948963,
           9.921643697931856,
           16.48835403845038,
           2.6295620916603184,
           7.702791471759184,
           28.49604096867651,
           10.216362272191333,
           45.09020687987967,
           0.6125448713272874,
           12.914133724874262,
           21.507796937454685,
           21.523991885520232,
           4.237440385312993,
           24.579091878919144,
           0.9334158682040226,
           63.49757717978241,
           1.6572215311963703,
           9.929158356791064,
           43.446906496173796,
           7.051853729731306
          ],
          "coloraxis": "coloraxis",
          "symbol": "circle"
         },
         "mode": "markers",
         "name": "",
         "orientation": "v",
         "showlegend": false,
         "type": "scatter",
         "x": [
          143.97,
          157.84,
          105.97,
          148.2,
          158.47,
          53.58,
          136.8,
          104.04,
          171.68,
          177.82,
          119.99,
          178.42,
          157.65,
          151.93,
          86.72,
          156.74,
          100.9,
          138.49,
          232.65,
          169.62,
          99.58,
          178.63,
          174.16,
          114.76,
          85.12,
          118.43,
          100.11,
          99.9,
          183.73
         ],
         "xaxis": "x",
         "y": [
          176.97708304699913,
          157.53188249692263,
          129.86227700040658,
          152.18492339083113,
          136.75378472243727,
          56.476850564360895,
          136.59432437954243,
          124.14268411577197,
          159.24273633620933,
          127.29439208051036,
          110.06835630206814,
          161.9316459615496,
          160.27956209166032,
          159.6327914717592,
          58.22395903132349,
          146.52363772780868,
          145.99020687987968,
          137.87745512867272,
          219.73586627512574,
          191.1277969374547,
          121.10399188552023,
          174.392559614687,
          149.58090812108085,
          113.82658413179598,
          148.61757717978242,
          116.77277846880364,
          110.03915835679106,
          143.3469064961738,
          176.67814627026868
         ],
         "yaxis": "y"
        },
        {
         "type": "scatter",
         "x": [
          60,
          65,
          70,
          75,
          80,
          85,
          90,
          95,
          100,
          105,
          110,
          115,
          120,
          125,
          130,
          135,
          140,
          145,
          150,
          155,
          160,
          165,
          170,
          175,
          180,
          185,
          190,
          195,
          200
         ],
         "y": [
          60,
          65,
          70,
          75,
          80,
          85,
          90,
          95,
          100,
          105,
          110,
          115,
          120,
          125,
          130,
          135,
          140,
          145,
          150,
          155,
          160,
          165,
          170,
          175,
          180,
          185,
          190,
          195,
          200
         ]
        }
       ],
       "layout": {
        "annotations": [
         {
          "align": "center",
          "bgcolor": "#B3FCF5",
          "bordercolor": "#c7c7c7",
          "borderpad": 4,
          "borderwidth": 2,
          "font": {
           "color": "#000000",
           "family": "Serif",
           "size": 16
          },
          "opacity": 0.8,
          "showarrow": false,
          "text": "R^2 = 0.62 <br>Mean Absolute Error = 17.29<br>Median Absolute Error = 12.44<br>Max Error = 63.50<br>Min Error = 0.21<br>Median Absolute Percentage Error = 0.15",
          "x": 70,
          "y": 200
         }
        ],
        "coloraxis": {
         "colorbar": {
          "title": {
           "text": "Error"
          }
         },
         "colorscale": [
          [
           0,
           "rgb(0,0,255)"
          ],
          [
           1,
           "rgb(255,0,0)"
          ]
         ]
        },
        "height": 800,
        "legend": {
         "tracegroupgap": 0
        },
        "margin": {
         "b": 20,
         "l": 20,
         "r": 20,
         "t": 40
        },
        "paper_bgcolor": "LightSteelBlue",
        "template": {
         "data": {
          "bar": [
           {
            "error_x": {
             "color": "#2a3f5f"
            },
            "error_y": {
             "color": "#2a3f5f"
            },
            "marker": {
             "line": {
              "color": "#E5ECF6",
              "width": 0.5
             },
             "pattern": {
              "fillmode": "overlay",
              "size": 10,
              "solidity": 0.2
             }
            },
            "type": "bar"
           }
          ],
          "barpolar": [
           {
            "marker": {
             "line": {
              "color": "#E5ECF6",
              "width": 0.5
             },
             "pattern": {
              "fillmode": "overlay",
              "size": 10,
              "solidity": 0.2
             }
            },
            "type": "barpolar"
           }
          ],
          "carpet": [
           {
            "aaxis": {
             "endlinecolor": "#2a3f5f",
             "gridcolor": "white",
             "linecolor": "white",
             "minorgridcolor": "white",
             "startlinecolor": "#2a3f5f"
            },
            "baxis": {
             "endlinecolor": "#2a3f5f",
             "gridcolor": "white",
             "linecolor": "white",
             "minorgridcolor": "white",
             "startlinecolor": "#2a3f5f"
            },
            "type": "carpet"
           }
          ],
          "choropleth": [
           {
            "colorbar": {
             "outlinewidth": 0,
             "ticks": ""
            },
            "type": "choropleth"
           }
          ],
          "contour": [
           {
            "colorbar": {
             "outlinewidth": 0,
             "ticks": ""
            },
            "colorscale": [
             [
              0,
              "#0d0887"
             ],
             [
              0.1111111111111111,
              "#46039f"
             ],
             [
              0.2222222222222222,
              "#7201a8"
             ],
             [
              0.3333333333333333,
              "#9c179e"
             ],
             [
              0.4444444444444444,
              "#bd3786"
             ],
             [
              0.5555555555555556,
              "#d8576b"
             ],
             [
              0.6666666666666666,
              "#ed7953"
             ],
             [
              0.7777777777777778,
              "#fb9f3a"
             ],
             [
              0.8888888888888888,
              "#fdca26"
             ],
             [
              1,
              "#f0f921"
             ]
            ],
            "type": "contour"
           }
          ],
          "contourcarpet": [
           {
            "colorbar": {
             "outlinewidth": 0,
             "ticks": ""
            },
            "type": "contourcarpet"
           }
          ],
          "heatmap": [
           {
            "colorbar": {
             "outlinewidth": 0,
             "ticks": ""
            },
            "colorscale": [
             [
              0,
              "#0d0887"
             ],
             [
              0.1111111111111111,
              "#46039f"
             ],
             [
              0.2222222222222222,
              "#7201a8"
             ],
             [
              0.3333333333333333,
              "#9c179e"
             ],
             [
              0.4444444444444444,
              "#bd3786"
             ],
             [
              0.5555555555555556,
              "#d8576b"
             ],
             [
              0.6666666666666666,
              "#ed7953"
             ],
             [
              0.7777777777777778,
              "#fb9f3a"
             ],
             [
              0.8888888888888888,
              "#fdca26"
             ],
             [
              1,
              "#f0f921"
             ]
            ],
            "type": "heatmap"
           }
          ],
          "heatmapgl": [
           {
            "colorbar": {
             "outlinewidth": 0,
             "ticks": ""
            },
            "colorscale": [
             [
              0,
              "#0d0887"
             ],
             [
              0.1111111111111111,
              "#46039f"
             ],
             [
              0.2222222222222222,
              "#7201a8"
             ],
             [
              0.3333333333333333,
              "#9c179e"
             ],
             [
              0.4444444444444444,
              "#bd3786"
             ],
             [
              0.5555555555555556,
              "#d8576b"
             ],
             [
              0.6666666666666666,
              "#ed7953"
             ],
             [
              0.7777777777777778,
              "#fb9f3a"
             ],
             [
              0.8888888888888888,
              "#fdca26"
             ],
             [
              1,
              "#f0f921"
             ]
            ],
            "type": "heatmapgl"
           }
          ],
          "histogram": [
           {
            "marker": {
             "pattern": {
              "fillmode": "overlay",
              "size": 10,
              "solidity": 0.2
             }
            },
            "type": "histogram"
           }
          ],
          "histogram2d": [
           {
            "colorbar": {
             "outlinewidth": 0,
             "ticks": ""
            },
            "colorscale": [
             [
              0,
              "#0d0887"
             ],
             [
              0.1111111111111111,
              "#46039f"
             ],
             [
              0.2222222222222222,
              "#7201a8"
             ],
             [
              0.3333333333333333,
              "#9c179e"
             ],
             [
              0.4444444444444444,
              "#bd3786"
             ],
             [
              0.5555555555555556,
              "#d8576b"
             ],
             [
              0.6666666666666666,
              "#ed7953"
             ],
             [
              0.7777777777777778,
              "#fb9f3a"
             ],
             [
              0.8888888888888888,
              "#fdca26"
             ],
             [
              1,
              "#f0f921"
             ]
            ],
            "type": "histogram2d"
           }
          ],
          "histogram2dcontour": [
           {
            "colorbar": {
             "outlinewidth": 0,
             "ticks": ""
            },
            "colorscale": [
             [
              0,
              "#0d0887"
             ],
             [
              0.1111111111111111,
              "#46039f"
             ],
             [
              0.2222222222222222,
              "#7201a8"
             ],
             [
              0.3333333333333333,
              "#9c179e"
             ],
             [
              0.4444444444444444,
              "#bd3786"
             ],
             [
              0.5555555555555556,
              "#d8576b"
             ],
             [
              0.6666666666666666,
              "#ed7953"
             ],
             [
              0.7777777777777778,
              "#fb9f3a"
             ],
             [
              0.8888888888888888,
              "#fdca26"
             ],
             [
              1,
              "#f0f921"
             ]
            ],
            "type": "histogram2dcontour"
           }
          ],
          "mesh3d": [
           {
            "colorbar": {
             "outlinewidth": 0,
             "ticks": ""
            },
            "type": "mesh3d"
           }
          ],
          "parcoords": [
           {
            "line": {
             "colorbar": {
              "outlinewidth": 0,
              "ticks": ""
             }
            },
            "type": "parcoords"
           }
          ],
          "pie": [
           {
            "automargin": true,
            "type": "pie"
           }
          ],
          "scatter": [
           {
            "fillpattern": {
             "fillmode": "overlay",
             "size": 10,
             "solidity": 0.2
            },
            "type": "scatter"
           }
          ],
          "scatter3d": [
           {
            "line": {
             "colorbar": {
              "outlinewidth": 0,
              "ticks": ""
             }
            },
            "marker": {
             "colorbar": {
              "outlinewidth": 0,
              "ticks": ""
             }
            },
            "type": "scatter3d"
           }
          ],
          "scattercarpet": [
           {
            "marker": {
             "colorbar": {
              "outlinewidth": 0,
              "ticks": ""
             }
            },
            "type": "scattercarpet"
           }
          ],
          "scattergeo": [
           {
            "marker": {
             "colorbar": {
              "outlinewidth": 0,
              "ticks": ""
             }
            },
            "type": "scattergeo"
           }
          ],
          "scattergl": [
           {
            "marker": {
             "colorbar": {
              "outlinewidth": 0,
              "ticks": ""
             }
            },
            "type": "scattergl"
           }
          ],
          "scattermapbox": [
           {
            "marker": {
             "colorbar": {
              "outlinewidth": 0,
              "ticks": ""
             }
            },
            "type": "scattermapbox"
           }
          ],
          "scatterpolar": [
           {
            "marker": {
             "colorbar": {
              "outlinewidth": 0,
              "ticks": ""
             }
            },
            "type": "scatterpolar"
           }
          ],
          "scatterpolargl": [
           {
            "marker": {
             "colorbar": {
              "outlinewidth": 0,
              "ticks": ""
             }
            },
            "type": "scatterpolargl"
           }
          ],
          "scatterternary": [
           {
            "marker": {
             "colorbar": {
              "outlinewidth": 0,
              "ticks": ""
             }
            },
            "type": "scatterternary"
           }
          ],
          "surface": [
           {
            "colorbar": {
             "outlinewidth": 0,
             "ticks": ""
            },
            "colorscale": [
             [
              0,
              "#0d0887"
             ],
             [
              0.1111111111111111,
              "#46039f"
             ],
             [
              0.2222222222222222,
              "#7201a8"
             ],
             [
              0.3333333333333333,
              "#9c179e"
             ],
             [
              0.4444444444444444,
              "#bd3786"
             ],
             [
              0.5555555555555556,
              "#d8576b"
             ],
             [
              0.6666666666666666,
              "#ed7953"
             ],
             [
              0.7777777777777778,
              "#fb9f3a"
             ],
             [
              0.8888888888888888,
              "#fdca26"
             ],
             [
              1,
              "#f0f921"
             ]
            ],
            "type": "surface"
           }
          ],
          "table": [
           {
            "cells": {
             "fill": {
              "color": "#EBF0F8"
             },
             "line": {
              "color": "white"
             }
            },
            "header": {
             "fill": {
              "color": "#C8D4E3"
             },
             "line": {
              "color": "white"
             }
            },
            "type": "table"
           }
          ]
         },
         "layout": {
          "annotationdefaults": {
           "arrowcolor": "#2a3f5f",
           "arrowhead": 0,
           "arrowwidth": 1
          },
          "autotypenumbers": "strict",
          "coloraxis": {
           "colorbar": {
            "outlinewidth": 0,
            "ticks": ""
           }
          },
          "colorscale": {
           "diverging": [
            [
             0,
             "#8e0152"
            ],
            [
             0.1,
             "#c51b7d"
            ],
            [
             0.2,
             "#de77ae"
            ],
            [
             0.3,
             "#f1b6da"
            ],
            [
             0.4,
             "#fde0ef"
            ],
            [
             0.5,
             "#f7f7f7"
            ],
            [
             0.6,
             "#e6f5d0"
            ],
            [
             0.7,
             "#b8e186"
            ],
            [
             0.8,
             "#7fbc41"
            ],
            [
             0.9,
             "#4d9221"
            ],
            [
             1,
             "#276419"
            ]
           ],
           "sequential": [
            [
             0,
             "#0d0887"
            ],
            [
             0.1111111111111111,
             "#46039f"
            ],
            [
             0.2222222222222222,
             "#7201a8"
            ],
            [
             0.3333333333333333,
             "#9c179e"
            ],
            [
             0.4444444444444444,
             "#bd3786"
            ],
            [
             0.5555555555555556,
             "#d8576b"
            ],
            [
             0.6666666666666666,
             "#ed7953"
            ],
            [
             0.7777777777777778,
             "#fb9f3a"
            ],
            [
             0.8888888888888888,
             "#fdca26"
            ],
            [
             1,
             "#f0f921"
            ]
           ],
           "sequentialminus": [
            [
             0,
             "#0d0887"
            ],
            [
             0.1111111111111111,
             "#46039f"
            ],
            [
             0.2222222222222222,
             "#7201a8"
            ],
            [
             0.3333333333333333,
             "#9c179e"
            ],
            [
             0.4444444444444444,
             "#bd3786"
            ],
            [
             0.5555555555555556,
             "#d8576b"
            ],
            [
             0.6666666666666666,
             "#ed7953"
            ],
            [
             0.7777777777777778,
             "#fb9f3a"
            ],
            [
             0.8888888888888888,
             "#fdca26"
            ],
            [
             1,
             "#f0f921"
            ]
           ]
          },
          "colorway": [
           "#636efa",
           "#EF553B",
           "#00cc96",
           "#ab63fa",
           "#FFA15A",
           "#19d3f3",
           "#FF6692",
           "#B6E880",
           "#FF97FF",
           "#FECB52"
          ],
          "font": {
           "color": "#2a3f5f"
          },
          "geo": {
           "bgcolor": "white",
           "lakecolor": "white",
           "landcolor": "#E5ECF6",
           "showlakes": true,
           "showland": true,
           "subunitcolor": "white"
          },
          "hoverlabel": {
           "align": "left"
          },
          "hovermode": "closest",
          "mapbox": {
           "style": "light"
          },
          "paper_bgcolor": "white",
          "plot_bgcolor": "#E5ECF6",
          "polar": {
           "angularaxis": {
            "gridcolor": "white",
            "linecolor": "white",
            "ticks": ""
           },
           "bgcolor": "#E5ECF6",
           "radialaxis": {
            "gridcolor": "white",
            "linecolor": "white",
            "ticks": ""
           }
          },
          "scene": {
           "xaxis": {
            "backgroundcolor": "#E5ECF6",
            "gridcolor": "white",
            "gridwidth": 2,
            "linecolor": "white",
            "showbackground": true,
            "ticks": "",
            "zerolinecolor": "white"
           },
           "yaxis": {
            "backgroundcolor": "#E5ECF6",
            "gridcolor": "white",
            "gridwidth": 2,
            "linecolor": "white",
            "showbackground": true,
            "ticks": "",
            "zerolinecolor": "white"
           },
           "zaxis": {
            "backgroundcolor": "#E5ECF6",
            "gridcolor": "white",
            "gridwidth": 2,
            "linecolor": "white",
            "showbackground": true,
            "ticks": "",
            "zerolinecolor": "white"
           }
          },
          "shapedefaults": {
           "line": {
            "color": "#2a3f5f"
           }
          },
          "ternary": {
           "aaxis": {
            "gridcolor": "white",
            "linecolor": "white",
            "ticks": ""
           },
           "baxis": {
            "gridcolor": "white",
            "linecolor": "white",
            "ticks": ""
           },
           "bgcolor": "#E5ECF6",
           "caxis": {
            "gridcolor": "white",
            "linecolor": "white",
            "ticks": ""
           }
          },
          "title": {
           "x": 0.05
          },
          "xaxis": {
           "automargin": true,
           "gridcolor": "white",
           "linecolor": "white",
           "ticks": "",
           "title": {
            "standoff": 15
           },
           "zerolinecolor": "white",
           "zerolinewidth": 2
          },
          "yaxis": {
           "automargin": true,
           "gridcolor": "white",
           "linecolor": "white",
           "ticks": "",
           "title": {
            "standoff": 15
           },
           "zerolinecolor": "white",
           "zerolinewidth": 2
          }
         }
        },
        "width": 800,
        "xaxis": {
         "anchor": "y",
         "domain": [
          0,
          1
         ],
         "title": {
          "text": "Usable area [m2]"
         }
        },
        "yaxis": {
         "anchor": "x",
         "domain": [
          0,
          1
         ],
         "title": {
          "text": "Predicted Usable Area [m2]"
         }
        }
       }
      }
     },
     "metadata": {},
     "output_type": "display_data"
    }
   ],
   "source": [
    "used_ds = df2\n",
    "X_test = used_ds[used_cols].to_numpy()\n",
    "Y_test = used_ds[\"Usable area [m2]\"]\n",
    "X_test = scaler.transform(X_test)\n",
    "test_features = Variable(torch.from_numpy(X_test))\n",
    "test_labels = Variable(torch.from_numpy(Y_test.to_numpy()).double())\n",
    "# Model evaluation\n",
    "with torch.no_grad():\n",
    "        # set the model in evaluation mode\n",
    "        model.eval()\n",
    "        Y_pred = model(test_features).numpy().reshape(-1)\n",
    "        df_pred = pd.DataFrame(Y_pred, columns=[\"Predicted Usable Area [m2]\"])\n",
    "        df_test_viz = used_ds.join(df_pred)\n",
    "    \n",
    "df_test_viz[\"Error\"] = np.abs(df_test_viz[\"Usable area [m2]\"] - df_test_viz[\"Predicted Usable Area [m2]\"])\n",
    "\n",
    "df_3 = df_test_viz.copy()\n",
    "\n",
    "plot_df_summary(df_test_viz)"
   ]
  },
  {
   "cell_type": "code",
   "execution_count": 38,
   "metadata": {},
   "outputs": [
    {
     "name": "stdout",
     "output_type": "stream",
     "text": [
      "R^2 = 0.62 \n",
      "Mean Absolute Error = 17.29\n",
      "Median Absolute Error = 12.44\n",
      "Max Error = 63.50\n",
      "Min Error = 0.21\n",
      "Median Absolute Percentage Error = 0.15\n"
     ]
    },
    {
     "data": {
      "image/png": "[encoded data removed]",
      "text/plain": [
       "<Figure size 864x720 with 2 Axes>"
      ]
     },
     "metadata": {
      "needs_background": "light"
     },
     "output_type": "display_data"
    }
   ],
   "source": [
    "models_comparison_figure(df_test_viz)"
   ]
  },
  {
   "attachments": {},
   "cell_type": "markdown",
   "metadata": {},
   "source": [
    "## Model 4"
   ]
  },
  {
   "cell_type": "code",
   "execution_count": 39,
   "metadata": {},
   "outputs": [
    {
     "data": {
      "text/plain": [
       "PosixPath('modele/Final_models/Dataset1/DNN_lr=0,1_|_λ =0,5_cols=[Covered area [m2], Height [m], Number of stories]_|_dataset=Without garages or boiler rooms.pt')"
      ]
     },
     "execution_count": 39,
     "metadata": {},
     "output_type": "execute_result"
    }
   ],
   "source": [
    "model_list[3]"
   ]
  },
  {
   "attachments": {},
   "cell_type": "markdown",
   "metadata": {},
   "source": [
    "### Model loading"
   ]
  },
  {
   "cell_type": "code",
   "execution_count": 40,
   "metadata": {},
   "outputs": [
    {
     "data": {
      "text/plain": [
       "<All keys matched successfully>"
      ]
     },
     "execution_count": 40,
     "metadata": {},
     "output_type": "execute_result"
    }
   ],
   "source": [
    "model_path = model_list[3]\n",
    "learning_rate=0.1\n",
    "λ=0.5\n",
    "used_cols = [\"Covered area [m2]\", \"Height [m]\", \"Number of stories\"]\n",
    "input_size = len(used_cols)\n",
    "architecture=DeepNet\n",
    "milestones = [200, 400, 1700, 1900]\n",
    "arch_params = (input_size, 1, 10)\n",
    "model = architecture(*arch_params).double()\n",
    "model.load_state_dict(torch.load(model_path))"
   ]
  },
  {
   "cell_type": "code",
   "execution_count": 41,
   "metadata": {},
   "outputs": [
    {
     "data": {
      "text/plain": [
       "StandardScaler()"
      ]
     },
     "execution_count": 41,
     "metadata": {},
     "output_type": "execute_result"
    }
   ],
   "source": [
    "df_norm = wo_garages_boilers_df\n",
    "np.random.seed(rs)\n",
    "torch.manual_seed(rs);\n",
    "df_train_and_val, df_test = train_test_split(df_norm, test_size=0.2, random_state=rs)\n",
    "df_train, df_val = train_test_split(df_train_and_val, test_size=0.25, random_state=rs)\n",
    "Y_train = df_train[\"Usable area [m2]\"]\n",
    "X_train = df_train[used_cols].to_numpy()\n",
    "scaler = StandardScaler()\n",
    "scaler.fit(X_train)"
   ]
  },
  {
   "attachments": {},
   "cell_type": "markdown",
   "metadata": {},
   "source": [
    "#### Dataset without unknown norms"
   ]
  },
  {
   "cell_type": "code",
   "execution_count": 42,
   "metadata": {},
   "outputs": [
    {
     "data": {
      "application/vnd.plotly.v1+json": {
       "config": {
        "plotlyServerURL": "https://plot.ly"
       },
       "data": [
        {
         "customdata": [
          [
           1,
           2
          ],
          [
           2,
           2
          ],
          [
           3,
           2
          ],
          [
           4,
           2
          ],
          [
           5,
           2
          ],
          [
           6,
           2
          ],
          [
           7,
           2
          ],
          [
           8,
           2
          ],
          [
           9,
           2
          ],
          [
           10,
           2
          ],
          [
           11,
           2
          ],
          [
           12,
           2
          ],
          [
           13,
           2
          ],
          [
           14,
           2
          ],
          [
           15,
           1
          ],
          [
           16,
           1
          ],
          [
           17,
           2
          ],
          [
           18,
           2
          ],
          [
           19,
           2
          ],
          [
           20,
           2
          ],
          [
           21,
           2
          ],
          [
           22,
           2
          ],
          [
           23,
           2
          ],
          [
           24,
           2
          ],
          [
           25,
           2
          ],
          [
           26,
           2
          ],
          [
           27,
           2
          ],
          [
           28,
           2
          ],
          [
           29,
           2
          ],
          [
           30,
           2
          ],
          [
           31,
           2
          ],
          [
           32,
           2
          ],
          [
           33,
           2
          ],
          [
           34,
           2
          ],
          [
           35,
           2
          ],
          [
           36,
           2
          ],
          [
           37,
           2
          ],
          [
           38,
           2
          ],
          [
           39,
           2
          ],
          [
           40,
           2
          ],
          [
           41,
           2
          ],
          [
           42,
           2
          ]
         ],
         "hovertemplate": "Usable area [m2]=%{x}<br>Predicted Usable Area [m2]=%{y}<br>No.=%{customdata[0]}<br>Number of stories=%{customdata[1]}<br>Error=%{marker.color}<extra></extra>",
         "legendgroup": "",
         "marker": {
          "color": [
           2.740516100659505,
           39.365065197571454,
           43.029766760113375,
           24.586962996738677,
           2.2872377838707934,
           12.638846920538853,
           11.626861743029167,
           27.092962021983766,
           7.180049966951302,
           31.099481098453126,
           2.694250528666359,
           15.624384884897268,
           1.2881062613646321,
           24.339698807401106,
           3.7176226318235877,
           2.755140853987143,
           17.179102110090838,
           6.834570232881106,
           18.592685970300607,
           22.185893561895398,
           47.56812659393691,
           4.398756809817257,
           0.6526907015873462,
           158.746054949565,
           3.182786585413453,
           23.348088236753455,
           26.32576833218556,
           6.15694950852,
           4.6578570172231935,
           19.861315922909625,
           37.662869270094404,
           11.469340989297478,
           11.744294845799942,
           33.107578625784754,
           10.422726340995752,
           9.473115786621776,
           44.00192744272536,
           18.410942242255857,
           49.36687028630067,
           10.12761449463963,
           13.657237790149367,
           34.59968646729206
          ],
          "coloraxis": "coloraxis",
          "symbol": "circle"
         },
         "mode": "markers",
         "name": "",
         "orientation": "v",
         "showlegend": false,
         "type": "scatter",
         "x": [
          88.7,
          100,
          100,
          101.7,
          104.6,
          110,
          112.5,
          113.4,
          116,
          118.2,
          120,
          120,
          123,
          129.8,
          131,
          132,
          132.9,
          136.8,
          137.8,
          138.85,
          140.86,
          140.98,
          141,
          141.2,
          143.7,
          150,
          156.1,
          156.38,
          169.9,
          172.3,
          173,
          174.86,
          174.86,
          177.3,
          180,
          188,
          188.9,
          199.7,
          210,
          220,
          221.6,
          240
         ],
         "xaxis": "x",
         "y": [
          91.44051610065951,
          139.36506519757145,
          143.02976676011338,
          77.11303700326133,
          102.3127622161292,
          122.63884692053885,
          124.12686174302917,
          140.49296202198377,
          123.1800499669513,
          149.29948109845313,
          117.30574947133364,
          135.62438488489727,
          124.28810626136463,
          154.13969880740112,
          127.28237736817641,
          129.24485914601286,
          150.07910211009084,
          129.9654297671189,
          156.39268597030062,
          161.0358935618954,
          188.42812659393692,
          136.58124319018273,
          140.34730929841265,
          299.946054949565,
          146.88278658541344,
          173.34808823675345,
          129.77423166781443,
          162.53694950852,
          165.2421429827768,
          152.4386840770904,
          135.3371307299056,
          186.3293409892975,
          186.60429484579996,
          144.19242137421526,
          169.57727365900425,
          197.47311578662178,
          232.90192744272537,
          218.11094224225585,
          160.63312971369933,
          209.87238550536037,
          235.25723779014936,
          205.40031353270794
         ],
         "yaxis": "y"
        },
        {
         "type": "scatter",
         "x": [
          60,
          63.41463414634146,
          66.82926829268293,
          70.2439024390244,
          73.65853658536585,
          77.07317073170732,
          80.48780487804878,
          83.90243902439025,
          87.3170731707317,
          90.73170731707317,
          94.14634146341464,
          97.5609756097561,
          100.97560975609755,
          104.39024390243902,
          107.8048780487805,
          111.21951219512195,
          114.6341463414634,
          118.04878048780488,
          121.46341463414635,
          124.8780487804878,
          128.2926829268293,
          131.7073170731707,
          135.1219512195122,
          138.53658536585365,
          141.9512195121951,
          145.3658536585366,
          148.78048780487805,
          152.1951219512195,
          155.609756097561,
          159.02439024390242,
          162.4390243902439,
          165.85365853658536,
          169.2682926829268,
          172.6829268292683,
          176.09756097560975,
          179.5121951219512,
          182.9268292682927,
          186.34146341463415,
          189.7560975609756,
          193.17073170731706,
          196.58536585365854,
          200
         ],
         "y": [
          60,
          63.41463414634146,
          66.82926829268293,
          70.2439024390244,
          73.65853658536585,
          77.07317073170732,
          80.48780487804878,
          83.90243902439025,
          87.3170731707317,
          90.73170731707317,
          94.14634146341464,
          97.5609756097561,
          100.97560975609755,
          104.39024390243902,
          107.8048780487805,
          111.21951219512195,
          114.6341463414634,
          118.04878048780488,
          121.46341463414635,
          124.8780487804878,
          128.2926829268293,
          131.7073170731707,
          135.1219512195122,
          138.53658536585365,
          141.9512195121951,
          145.3658536585366,
          148.78048780487805,
          152.1951219512195,
          155.609756097561,
          159.02439024390242,
          162.4390243902439,
          165.85365853658536,
          169.2682926829268,
          172.6829268292683,
          176.09756097560975,
          179.5121951219512,
          182.9268292682927,
          186.34146341463415,
          189.7560975609756,
          193.17073170731706,
          196.58536585365854,
          200
         ]
        }
       ],
       "layout": {
        "annotations": [
         {
          "align": "center",
          "bgcolor": "#B3FCF5",
          "bordercolor": "#c7c7c7",
          "borderpad": 4,
          "borderwidth": 2,
          "font": {
           "color": "#000000",
           "family": "Serif",
           "size": 16
          },
          "opacity": 0.8,
          "showarrow": false,
          "text": "R^2 = 0.17 <br>Mean Absolute Error = 21.33<br>Median Absolute Error = 14.64<br>Max Error = 158.75<br>Min Error = 0.65<br>Median Absolute Percentage Error = 0.15",
          "x": 70,
          "y": 200
         }
        ],
        "coloraxis": {
         "colorbar": {
          "title": {
           "text": "Error"
          }
         },
         "colorscale": [
          [
           0,
           "rgb(0,0,255)"
          ],
          [
           1,
           "rgb(255,0,0)"
          ]
         ]
        },
        "height": 800,
        "legend": {
         "tracegroupgap": 0
        },
        "margin": {
         "b": 20,
         "l": 20,
         "r": 20,
         "t": 40
        },
        "paper_bgcolor": "LightSteelBlue",
        "template": {
         "data": {
          "bar": [
           {
            "error_x": {
             "color": "#2a3f5f"
            },
            "error_y": {
             "color": "#2a3f5f"
            },
            "marker": {
             "line": {
              "color": "#E5ECF6",
              "width": 0.5
             },
             "pattern": {
              "fillmode": "overlay",
              "size": 10,
              "solidity": 0.2
             }
            },
            "type": "bar"
           }
          ],
          "barpolar": [
           {
            "marker": {
             "line": {
              "color": "#E5ECF6",
              "width": 0.5
             },
             "pattern": {
              "fillmode": "overlay",
              "size": 10,
              "solidity": 0.2
             }
            },
            "type": "barpolar"
           }
          ],
          "carpet": [
           {
            "aaxis": {
             "endlinecolor": "#2a3f5f",
             "gridcolor": "white",
             "linecolor": "white",
             "minorgridcolor": "white",
             "startlinecolor": "#2a3f5f"
            },
            "baxis": {
             "endlinecolor": "#2a3f5f",
             "gridcolor": "white",
             "linecolor": "white",
             "minorgridcolor": "white",
             "startlinecolor": "#2a3f5f"
            },
            "type": "carpet"
           }
          ],
          "choropleth": [
           {
            "colorbar": {
             "outlinewidth": 0,
             "ticks": ""
            },
            "type": "choropleth"
           }
          ],
          "contour": [
           {
            "colorbar": {
             "outlinewidth": 0,
             "ticks": ""
            },
            "colorscale": [
             [
              0,
              "#0d0887"
             ],
             [
              0.1111111111111111,
              "#46039f"
             ],
             [
              0.2222222222222222,
              "#7201a8"
             ],
             [
              0.3333333333333333,
              "#9c179e"
             ],
             [
              0.4444444444444444,
              "#bd3786"
             ],
             [
              0.5555555555555556,
              "#d8576b"
             ],
             [
              0.6666666666666666,
              "#ed7953"
             ],
             [
              0.7777777777777778,
              "#fb9f3a"
             ],
             [
              0.8888888888888888,
              "#fdca26"
             ],
             [
              1,
              "#f0f921"
             ]
            ],
            "type": "contour"
           }
          ],
          "contourcarpet": [
           {
            "colorbar": {
             "outlinewidth": 0,
             "ticks": ""
            },
            "type": "contourcarpet"
           }
          ],
          "heatmap": [
           {
            "colorbar": {
             "outlinewidth": 0,
             "ticks": ""
            },
            "colorscale": [
             [
              0,
              "#0d0887"
             ],
             [
              0.1111111111111111,
              "#46039f"
             ],
             [
              0.2222222222222222,
              "#7201a8"
             ],
             [
              0.3333333333333333,
              "#9c179e"
             ],
             [
              0.4444444444444444,
              "#bd3786"
             ],
             [
              0.5555555555555556,
              "#d8576b"
             ],
             [
              0.6666666666666666,
              "#ed7953"
             ],
             [
              0.7777777777777778,
              "#fb9f3a"
             ],
             [
              0.8888888888888888,
              "#fdca26"
             ],
             [
              1,
              "#f0f921"
             ]
            ],
            "type": "heatmap"
           }
          ],
          "heatmapgl": [
           {
            "colorbar": {
             "outlinewidth": 0,
             "ticks": ""
            },
            "colorscale": [
             [
              0,
              "#0d0887"
             ],
             [
              0.1111111111111111,
              "#46039f"
             ],
             [
              0.2222222222222222,
              "#7201a8"
             ],
             [
              0.3333333333333333,
              "#9c179e"
             ],
             [
              0.4444444444444444,
              "#bd3786"
             ],
             [
              0.5555555555555556,
              "#d8576b"
             ],
             [
              0.6666666666666666,
              "#ed7953"
             ],
             [
              0.7777777777777778,
              "#fb9f3a"
             ],
             [
              0.8888888888888888,
              "#fdca26"
             ],
             [
              1,
              "#f0f921"
             ]
            ],
            "type": "heatmapgl"
           }
          ],
          "histogram": [
           {
            "marker": {
             "pattern": {
              "fillmode": "overlay",
              "size": 10,
              "solidity": 0.2
             }
            },
            "type": "histogram"
           }
          ],
          "histogram2d": [
           {
            "colorbar": {
             "outlinewidth": 0,
             "ticks": ""
            },
            "colorscale": [
             [
              0,
              "#0d0887"
             ],
             [
              0.1111111111111111,
              "#46039f"
             ],
             [
              0.2222222222222222,
              "#7201a8"
             ],
             [
              0.3333333333333333,
              "#9c179e"
             ],
             [
              0.4444444444444444,
              "#bd3786"
             ],
             [
              0.5555555555555556,
              "#d8576b"
             ],
             [
              0.6666666666666666,
              "#ed7953"
             ],
             [
              0.7777777777777778,
              "#fb9f3a"
             ],
             [
              0.8888888888888888,
              "#fdca26"
             ],
             [
              1,
              "#f0f921"
             ]
            ],
            "type": "histogram2d"
           }
          ],
          "histogram2dcontour": [
           {
            "colorbar": {
             "outlinewidth": 0,
             "ticks": ""
            },
            "colorscale": [
             [
              0,
              "#0d0887"
             ],
             [
              0.1111111111111111,
              "#46039f"
             ],
             [
              0.2222222222222222,
              "#7201a8"
             ],
             [
              0.3333333333333333,
              "#9c179e"
             ],
             [
              0.4444444444444444,
              "#bd3786"
             ],
             [
              0.5555555555555556,
              "#d8576b"
             ],
             [
              0.6666666666666666,
              "#ed7953"
             ],
             [
              0.7777777777777778,
              "#fb9f3a"
             ],
             [
              0.8888888888888888,
              "#fdca26"
             ],
             [
              1,
              "#f0f921"
             ]
            ],
            "type": "histogram2dcontour"
           }
          ],
          "mesh3d": [
           {
            "colorbar": {
             "outlinewidth": 0,
             "ticks": ""
            },
            "type": "mesh3d"
           }
          ],
          "parcoords": [
           {
            "line": {
             "colorbar": {
              "outlinewidth": 0,
              "ticks": ""
             }
            },
            "type": "parcoords"
           }
          ],
          "pie": [
           {
            "automargin": true,
            "type": "pie"
           }
          ],
          "scatter": [
           {
            "fillpattern": {
             "fillmode": "overlay",
             "size": 10,
             "solidity": 0.2
            },
            "type": "scatter"
           }
          ],
          "scatter3d": [
           {
            "line": {
             "colorbar": {
              "outlinewidth": 0,
              "ticks": ""
             }
            },
            "marker": {
             "colorbar": {
              "outlinewidth": 0,
              "ticks": ""
             }
            },
            "type": "scatter3d"
           }
          ],
          "scattercarpet": [
           {
            "marker": {
             "colorbar": {
              "outlinewidth": 0,
              "ticks": ""
             }
            },
            "type": "scattercarpet"
           }
          ],
          "scattergeo": [
           {
            "marker": {
             "colorbar": {
              "outlinewidth": 0,
              "ticks": ""
             }
            },
            "type": "scattergeo"
           }
          ],
          "scattergl": [
           {
            "marker": {
             "colorbar": {
              "outlinewidth": 0,
              "ticks": ""
             }
            },
            "type": "scattergl"
           }
          ],
          "scattermapbox": [
           {
            "marker": {
             "colorbar": {
              "outlinewidth": 0,
              "ticks": ""
             }
            },
            "type": "scattermapbox"
           }
          ],
          "scatterpolar": [
           {
            "marker": {
             "colorbar": {
              "outlinewidth": 0,
              "ticks": ""
             }
            },
            "type": "scatterpolar"
           }
          ],
          "scatterpolargl": [
           {
            "marker": {
             "colorbar": {
              "outlinewidth": 0,
              "ticks": ""
             }
            },
            "type": "scatterpolargl"
           }
          ],
          "scatterternary": [
           {
            "marker": {
             "colorbar": {
              "outlinewidth": 0,
              "ticks": ""
             }
            },
            "type": "scatterternary"
           }
          ],
          "surface": [
           {
            "colorbar": {
             "outlinewidth": 0,
             "ticks": ""
            },
            "colorscale": [
             [
              0,
              "#0d0887"
             ],
             [
              0.1111111111111111,
              "#46039f"
             ],
             [
              0.2222222222222222,
              "#7201a8"
             ],
             [
              0.3333333333333333,
              "#9c179e"
             ],
             [
              0.4444444444444444,
              "#bd3786"
             ],
             [
              0.5555555555555556,
              "#d8576b"
             ],
             [
              0.6666666666666666,
              "#ed7953"
             ],
             [
              0.7777777777777778,
              "#fb9f3a"
             ],
             [
              0.8888888888888888,
              "#fdca26"
             ],
             [
              1,
              "#f0f921"
             ]
            ],
            "type": "surface"
           }
          ],
          "table": [
           {
            "cells": {
             "fill": {
              "color": "#EBF0F8"
             },
             "line": {
              "color": "white"
             }
            },
            "header": {
             "fill": {
              "color": "#C8D4E3"
             },
             "line": {
              "color": "white"
             }
            },
            "type": "table"
           }
          ]
         },
         "layout": {
          "annotationdefaults": {
           "arrowcolor": "#2a3f5f",
           "arrowhead": 0,
           "arrowwidth": 1
          },
          "autotypenumbers": "strict",
          "coloraxis": {
           "colorbar": {
            "outlinewidth": 0,
            "ticks": ""
           }
          },
          "colorscale": {
           "diverging": [
            [
             0,
             "#8e0152"
            ],
            [
             0.1,
             "#c51b7d"
            ],
            [
             0.2,
             "#de77ae"
            ],
            [
             0.3,
             "#f1b6da"
            ],
            [
             0.4,
             "#fde0ef"
            ],
            [
             0.5,
             "#f7f7f7"
            ],
            [
             0.6,
             "#e6f5d0"
            ],
            [
             0.7,
             "#b8e186"
            ],
            [
             0.8,
             "#7fbc41"
            ],
            [
             0.9,
             "#4d9221"
            ],
            [
             1,
             "#276419"
            ]
           ],
           "sequential": [
            [
             0,
             "#0d0887"
            ],
            [
             0.1111111111111111,
             "#46039f"
            ],
            [
             0.2222222222222222,
             "#7201a8"
            ],
            [
             0.3333333333333333,
             "#9c179e"
            ],
            [
             0.4444444444444444,
             "#bd3786"
            ],
            [
             0.5555555555555556,
             "#d8576b"
            ],
            [
             0.6666666666666666,
             "#ed7953"
            ],
            [
             0.7777777777777778,
             "#fb9f3a"
            ],
            [
             0.8888888888888888,
             "#fdca26"
            ],
            [
             1,
             "#f0f921"
            ]
           ],
           "sequentialminus": [
            [
             0,
             "#0d0887"
            ],
            [
             0.1111111111111111,
             "#46039f"
            ],
            [
             0.2222222222222222,
             "#7201a8"
            ],
            [
             0.3333333333333333,
             "#9c179e"
            ],
            [
             0.4444444444444444,
             "#bd3786"
            ],
            [
             0.5555555555555556,
             "#d8576b"
            ],
            [
             0.6666666666666666,
             "#ed7953"
            ],
            [
             0.7777777777777778,
             "#fb9f3a"
            ],
            [
             0.8888888888888888,
             "#fdca26"
            ],
            [
             1,
             "#f0f921"
            ]
           ]
          },
          "colorway": [
           "#636efa",
           "#EF553B",
           "#00cc96",
           "#ab63fa",
           "#FFA15A",
           "#19d3f3",
           "#FF6692",
           "#B6E880",
           "#FF97FF",
           "#FECB52"
          ],
          "font": {
           "color": "#2a3f5f"
          },
          "geo": {
           "bgcolor": "white",
           "lakecolor": "white",
           "landcolor": "#E5ECF6",
           "showlakes": true,
           "showland": true,
           "subunitcolor": "white"
          },
          "hoverlabel": {
           "align": "left"
          },
          "hovermode": "closest",
          "mapbox": {
           "style": "light"
          },
          "paper_bgcolor": "white",
          "plot_bgcolor": "#E5ECF6",
          "polar": {
           "angularaxis": {
            "gridcolor": "white",
            "linecolor": "white",
            "ticks": ""
           },
           "bgcolor": "#E5ECF6",
           "radialaxis": {
            "gridcolor": "white",
            "linecolor": "white",
            "ticks": ""
           }
          },
          "scene": {
           "xaxis": {
            "backgroundcolor": "#E5ECF6",
            "gridcolor": "white",
            "gridwidth": 2,
            "linecolor": "white",
            "showbackground": true,
            "ticks": "",
            "zerolinecolor": "white"
           },
           "yaxis": {
            "backgroundcolor": "#E5ECF6",
            "gridcolor": "white",
            "gridwidth": 2,
            "linecolor": "white",
            "showbackground": true,
            "ticks": "",
            "zerolinecolor": "white"
           },
           "zaxis": {
            "backgroundcolor": "#E5ECF6",
            "gridcolor": "white",
            "gridwidth": 2,
            "linecolor": "white",
            "showbackground": true,
            "ticks": "",
            "zerolinecolor": "white"
           }
          },
          "shapedefaults": {
           "line": {
            "color": "#2a3f5f"
           }
          },
          "ternary": {
           "aaxis": {
            "gridcolor": "white",
            "linecolor": "white",
            "ticks": ""
           },
           "baxis": {
            "gridcolor": "white",
            "linecolor": "white",
            "ticks": ""
           },
           "bgcolor": "#E5ECF6",
           "caxis": {
            "gridcolor": "white",
            "linecolor": "white",
            "ticks": ""
           }
          },
          "title": {
           "x": 0.05
          },
          "xaxis": {
           "automargin": true,
           "gridcolor": "white",
           "linecolor": "white",
           "ticks": "",
           "title": {
            "standoff": 15
           },
           "zerolinecolor": "white",
           "zerolinewidth": 2
          },
          "yaxis": {
           "automargin": true,
           "gridcolor": "white",
           "linecolor": "white",
           "ticks": "",
           "title": {
            "standoff": 15
           },
           "zerolinecolor": "white",
           "zerolinewidth": 2
          }
         }
        },
        "width": 800,
        "xaxis": {
         "anchor": "y",
         "domain": [
          0,
          1
         ],
         "title": {
          "text": "Usable area [m2]"
         }
        },
        "yaxis": {
         "anchor": "x",
         "domain": [
          0,
          1
         ],
         "title": {
          "text": "Predicted Usable Area [m2]"
         }
        }
       }
      }
     },
     "metadata": {},
     "output_type": "display_data"
    }
   ],
   "source": [
    "used_ds = df1\n",
    "X_test = used_ds[used_cols].to_numpy()\n",
    "Y_test = used_ds[\"Usable area [m2]\"]\n",
    "X_test = scaler.transform(X_test)\n",
    "test_features = Variable(torch.from_numpy(X_test))\n",
    "test_labels = Variable(torch.from_numpy(Y_test.to_numpy()).double())\n",
    "# Model evaluation\n",
    "with torch.no_grad():\n",
    "        # set the model in evaluation mode\n",
    "        model.eval()\n",
    "        Y_pred = model(test_features).numpy().reshape(-1)\n",
    "        df_pred = pd.DataFrame(Y_pred, columns=[\"Predicted Usable Area [m2]\"])\n",
    "        df_test_viz = used_ds.join(df_pred)\n",
    "    \n",
    "df_test_viz[\"Error\"] = np.abs(df_test_viz[\"Usable area [m2]\"] - df_test_viz[\"Predicted Usable Area [m2]\"])\n",
    "\n",
    "plot_df_summary(df_test_viz)"
   ]
  },
  {
   "cell_type": "code",
   "execution_count": 43,
   "metadata": {},
   "outputs": [
    {
     "name": "stdout",
     "output_type": "stream",
     "text": [
      "R^2 = 0.17 \n",
      "Mean Absolute Error = 21.33\n",
      "Median Absolute Error = 14.64\n",
      "Max Error = 158.75\n",
      "Min Error = 0.65\n",
      "Median Absolute Percentage Error = 0.15\n"
     ]
    },
    {
     "data": {
      "image/png": "[encoded data removed]",
      "text/plain": [
       "<Figure size 864x720 with 2 Axes>"
      ]
     },
     "metadata": {
      "needs_background": "light"
     },
     "output_type": "display_data"
    }
   ],
   "source": [
    "models_comparison_figure(df_test_viz)"
   ]
  },
  {
   "attachments": {},
   "cell_type": "markdown",
   "metadata": {},
   "source": [
    "#### Dataset with known norms"
   ]
  },
  {
   "cell_type": "code",
   "execution_count": 44,
   "metadata": {},
   "outputs": [
    {
     "data": {
      "application/vnd.plotly.v1+json": {
       "config": {
        "plotlyServerURL": "https://plot.ly"
       },
       "data": [
        {
         "customdata": [
          [
           1,
           2
          ],
          [
           3,
           2
          ],
          [
           4,
           2
          ],
          [
           5,
           2
          ],
          [
           6,
           2
          ],
          [
           7,
           1
          ],
          [
           8,
           2
          ],
          [
           9,
           2
          ],
          [
           10,
           2
          ],
          [
           11,
           2
          ],
          [
           12,
           2
          ],
          [
           13,
           2
          ],
          [
           14,
           2
          ],
          [
           15,
           2
          ],
          [
           16,
           2
          ],
          [
           17,
           2
          ],
          [
           18,
           1
          ],
          [
           19,
           2
          ],
          [
           20,
           2
          ],
          [
           21,
           2
          ],
          [
           22,
           1
          ],
          [
           23,
           2
          ],
          [
           25,
           2
          ],
          [
           26,
           2
          ],
          [
           27,
           1
          ],
          [
           28,
           2
          ],
          [
           29,
           2
          ],
          [
           30,
           1
          ],
          [
           31,
           2
          ]
         ],
         "hovertemplate": "Usable area [m2]=%{x}<br>Predicted Usable Area [m2]=%{y}<br>No.=%{customdata[0]}<br>Number of stories=%{customdata[1]}<br>Error=%{marker.color}<extra></extra>",
         "legendgroup": "",
         "marker": {
          "color": [
           63.29168154105304,
           44.99943128583939,
           37.28736432466408,
           13.612783100385656,
           8.312761708699185,
           0.03482653287466064,
           8.087194246933933,
           25.84237049758063,
           8.40797259293052,
           33.73544968640451,
           4.762432176312984,
           7.535336718930807,
           14.405611335983593,
           16.81345650073615,
           18.788421387755818,
           3.974138758082489,
           22.562368512205083,
           15.416806025900286,
           7.356524118856498,
           57.254442217501605,
           1.5962648740525083,
           18.083083598571847,
           19.920013175098575,
           1.8094491320511707,
           36.87335069108224,
           0.8144656994511053,
           4.158836797343412,
           30.424115998397582,
           36.3664103092388
          ],
          "coloraxis": "coloraxis",
          "symbol": "circle"
         },
         "mode": "markers",
         "name": "",
         "orientation": "v",
         "showlegend": false,
         "type": "scatter",
         "x": [
          143.97,
          157.84,
          105.97,
          148.2,
          158.47,
          53.58,
          136.8,
          104.04,
          171.68,
          177.82,
          119.99,
          178.42,
          157.65,
          151.93,
          86.72,
          156.74,
          100.9,
          138.49,
          232.65,
          169.62,
          99.58,
          178.63,
          174.16,
          114.76,
          85.12,
          118.43,
          100.11,
          99.9,
          183.73
         ],
         "xaxis": "x",
         "y": [
          207.26168154105304,
          202.8394312858394,
          143.25736432466408,
          161.81278310038564,
          150.1572382913008,
          53.54517346712534,
          144.88719424693394,
          129.88237049758064,
          180.08797259293053,
          144.08455031359549,
          124.75243217631298,
          170.88466328106918,
          172.0556113359836,
          168.74345650073616,
          67.93157861224418,
          152.76586124191752,
          123.46236851220509,
          153.9068060259003,
          240.0065241188565,
          226.8744422175016,
          101.1762648740525,
          196.71308359857184,
          154.23998682490142,
          116.56944913205118,
          121.99335069108224,
          117.6155343005489,
          104.26883679734341,
          130.3241159983976,
          220.0964103092388
         ],
         "yaxis": "y"
        },
        {
         "type": "scatter",
         "x": [
          60,
          65,
          70,
          75,
          80,
          85,
          90,
          95,
          100,
          105,
          110,
          115,
          120,
          125,
          130,
          135,
          140,
          145,
          150,
          155,
          160,
          165,
          170,
          175,
          180,
          185,
          190,
          195,
          200
         ],
         "y": [
          60,
          65,
          70,
          75,
          80,
          85,
          90,
          95,
          100,
          105,
          110,
          115,
          120,
          125,
          130,
          135,
          140,
          145,
          150,
          155,
          160,
          165,
          170,
          175,
          180,
          185,
          190,
          195,
          200
         ]
        }
       ],
       "layout": {
        "annotations": [
         {
          "align": "center",
          "bgcolor": "#B3FCF5",
          "bordercolor": "#c7c7c7",
          "borderpad": 4,
          "borderwidth": 2,
          "font": {
           "color": "#000000",
           "family": "Serif",
           "size": 16
          },
          "opacity": 0.8,
          "showarrow": false,
          "text": "R^2 = 0.56 <br>Mean Absolute Error = 19.40<br>Median Absolute Error = 15.42<br>Max Error = 63.29<br>Min Error = 0.03<br>Median Absolute Percentage Error = 0.15",
          "x": 70,
          "y": 200
         }
        ],
        "coloraxis": {
         "colorbar": {
          "title": {
           "text": "Error"
          }
         },
         "colorscale": [
          [
           0,
           "rgb(0,0,255)"
          ],
          [
           1,
           "rgb(255,0,0)"
          ]
         ]
        },
        "height": 800,
        "legend": {
         "tracegroupgap": 0
        },
        "margin": {
         "b": 20,
         "l": 20,
         "r": 20,
         "t": 40
        },
        "paper_bgcolor": "LightSteelBlue",
        "template": {
         "data": {
          "bar": [
           {
            "error_x": {
             "color": "#2a3f5f"
            },
            "error_y": {
             "color": "#2a3f5f"
            },
            "marker": {
             "line": {
              "color": "#E5ECF6",
              "width": 0.5
             },
             "pattern": {
              "fillmode": "overlay",
              "size": 10,
              "solidity": 0.2
             }
            },
            "type": "bar"
           }
          ],
          "barpolar": [
           {
            "marker": {
             "line": {
              "color": "#E5ECF6",
              "width": 0.5
             },
             "pattern": {
              "fillmode": "overlay",
              "size": 10,
              "solidity": 0.2
             }
            },
            "type": "barpolar"
           }
          ],
          "carpet": [
           {
            "aaxis": {
             "endlinecolor": "#2a3f5f",
             "gridcolor": "white",
             "linecolor": "white",
             "minorgridcolor": "white",
             "startlinecolor": "#2a3f5f"
            },
            "baxis": {
             "endlinecolor": "#2a3f5f",
             "gridcolor": "white",
             "linecolor": "white",
             "minorgridcolor": "white",
             "startlinecolor": "#2a3f5f"
            },
            "type": "carpet"
           }
          ],
          "choropleth": [
           {
            "colorbar": {
             "outlinewidth": 0,
             "ticks": ""
            },
            "type": "choropleth"
           }
          ],
          "contour": [
           {
            "colorbar": {
             "outlinewidth": 0,
             "ticks": ""
            },
            "colorscale": [
             [
              0,
              "#0d0887"
             ],
             [
              0.1111111111111111,
              "#46039f"
             ],
             [
              0.2222222222222222,
              "#7201a8"
             ],
             [
              0.3333333333333333,
              "#9c179e"
             ],
             [
              0.4444444444444444,
              "#bd3786"
             ],
             [
              0.5555555555555556,
              "#d8576b"
             ],
             [
              0.6666666666666666,
              "#ed7953"
             ],
             [
              0.7777777777777778,
              "#fb9f3a"
             ],
             [
              0.8888888888888888,
              "#fdca26"
             ],
             [
              1,
              "#f0f921"
             ]
            ],
            "type": "contour"
           }
          ],
          "contourcarpet": [
           {
            "colorbar": {
             "outlinewidth": 0,
             "ticks": ""
            },
            "type": "contourcarpet"
           }
          ],
          "heatmap": [
           {
            "colorbar": {
             "outlinewidth": 0,
             "ticks": ""
            },
            "colorscale": [
             [
              0,
              "#0d0887"
             ],
             [
              0.1111111111111111,
              "#46039f"
             ],
             [
              0.2222222222222222,
              "#7201a8"
             ],
             [
              0.3333333333333333,
              "#9c179e"
             ],
             [
              0.4444444444444444,
              "#bd3786"
             ],
             [
              0.5555555555555556,
              "#d8576b"
             ],
             [
              0.6666666666666666,
              "#ed7953"
             ],
             [
              0.7777777777777778,
              "#fb9f3a"
             ],
             [
              0.8888888888888888,
              "#fdca26"
             ],
             [
              1,
              "#f0f921"
             ]
            ],
            "type": "heatmap"
           }
          ],
          "heatmapgl": [
           {
            "colorbar": {
             "outlinewidth": 0,
             "ticks": ""
            },
            "colorscale": [
             [
              0,
              "#0d0887"
             ],
             [
              0.1111111111111111,
              "#46039f"
             ],
             [
              0.2222222222222222,
              "#7201a8"
             ],
             [
              0.3333333333333333,
              "#9c179e"
             ],
             [
              0.4444444444444444,
              "#bd3786"
             ],
             [
              0.5555555555555556,
              "#d8576b"
             ],
             [
              0.6666666666666666,
              "#ed7953"
             ],
             [
              0.7777777777777778,
              "#fb9f3a"
             ],
             [
              0.8888888888888888,
              "#fdca26"
             ],
             [
              1,
              "#f0f921"
             ]
            ],
            "type": "heatmapgl"
           }
          ],
          "histogram": [
           {
            "marker": {
             "pattern": {
              "fillmode": "overlay",
              "size": 10,
              "solidity": 0.2
             }
            },
            "type": "histogram"
           }
          ],
          "histogram2d": [
           {
            "colorbar": {
             "outlinewidth": 0,
             "ticks": ""
            },
            "colorscale": [
             [
              0,
              "#0d0887"
             ],
             [
              0.1111111111111111,
              "#46039f"
             ],
             [
              0.2222222222222222,
              "#7201a8"
             ],
             [
              0.3333333333333333,
              "#9c179e"
             ],
             [
              0.4444444444444444,
              "#bd3786"
             ],
             [
              0.5555555555555556,
              "#d8576b"
             ],
             [
              0.6666666666666666,
              "#ed7953"
             ],
             [
              0.7777777777777778,
              "#fb9f3a"
             ],
             [
              0.8888888888888888,
              "#fdca26"
             ],
             [
              1,
              "#f0f921"
             ]
            ],
            "type": "histogram2d"
           }
          ],
          "histogram2dcontour": [
           {
            "colorbar": {
             "outlinewidth": 0,
             "ticks": ""
            },
            "colorscale": [
             [
              0,
              "#0d0887"
             ],
             [
              0.1111111111111111,
              "#46039f"
             ],
             [
              0.2222222222222222,
              "#7201a8"
             ],
             [
              0.3333333333333333,
              "#9c179e"
             ],
             [
              0.4444444444444444,
              "#bd3786"
             ],
             [
              0.5555555555555556,
              "#d8576b"
             ],
             [
              0.6666666666666666,
              "#ed7953"
             ],
             [
              0.7777777777777778,
              "#fb9f3a"
             ],
             [
              0.8888888888888888,
              "#fdca26"
             ],
             [
              1,
              "#f0f921"
             ]
            ],
            "type": "histogram2dcontour"
           }
          ],
          "mesh3d": [
           {
            "colorbar": {
             "outlinewidth": 0,
             "ticks": ""
            },
            "type": "mesh3d"
           }
          ],
          "parcoords": [
           {
            "line": {
             "colorbar": {
              "outlinewidth": 0,
              "ticks": ""
             }
            },
            "type": "parcoords"
           }
          ],
          "pie": [
           {
            "automargin": true,
            "type": "pie"
           }
          ],
          "scatter": [
           {
            "fillpattern": {
             "fillmode": "overlay",
             "size": 10,
             "solidity": 0.2
            },
            "type": "scatter"
           }
          ],
          "scatter3d": [
           {
            "line": {
             "colorbar": {
              "outlinewidth": 0,
              "ticks": ""
             }
            },
            "marker": {
             "colorbar": {
              "outlinewidth": 0,
              "ticks": ""
             }
            },
            "type": "scatter3d"
           }
          ],
          "scattercarpet": [
           {
            "marker": {
             "colorbar": {
              "outlinewidth": 0,
              "ticks": ""
             }
            },
            "type": "scattercarpet"
           }
          ],
          "scattergeo": [
           {
            "marker": {
             "colorbar": {
              "outlinewidth": 0,
              "ticks": ""
             }
            },
            "type": "scattergeo"
           }
          ],
          "scattergl": [
           {
            "marker": {
             "colorbar": {
              "outlinewidth": 0,
              "ticks": ""
             }
            },
            "type": "scattergl"
           }
          ],
          "scattermapbox": [
           {
            "marker": {
             "colorbar": {
              "outlinewidth": 0,
              "ticks": ""
             }
            },
            "type": "scattermapbox"
           }
          ],
          "scatterpolar": [
           {
            "marker": {
             "colorbar": {
              "outlinewidth": 0,
              "ticks": ""
             }
            },
            "type": "scatterpolar"
           }
          ],
          "scatterpolargl": [
           {
            "marker": {
             "colorbar": {
              "outlinewidth": 0,
              "ticks": ""
             }
            },
            "type": "scatterpolargl"
           }
          ],
          "scatterternary": [
           {
            "marker": {
             "colorbar": {
              "outlinewidth": 0,
              "ticks": ""
             }
            },
            "type": "scatterternary"
           }
          ],
          "surface": [
           {
            "colorbar": {
             "outlinewidth": 0,
             "ticks": ""
            },
            "colorscale": [
             [
              0,
              "#0d0887"
             ],
             [
              0.1111111111111111,
              "#46039f"
             ],
             [
              0.2222222222222222,
              "#7201a8"
             ],
             [
              0.3333333333333333,
              "#9c179e"
             ],
             [
              0.4444444444444444,
              "#bd3786"
             ],
             [
              0.5555555555555556,
              "#d8576b"
             ],
             [
              0.6666666666666666,
              "#ed7953"
             ],
             [
              0.7777777777777778,
              "#fb9f3a"
             ],
             [
              0.8888888888888888,
              "#fdca26"
             ],
             [
              1,
              "#f0f921"
             ]
            ],
            "type": "surface"
           }
          ],
          "table": [
           {
            "cells": {
             "fill": {
              "color": "#EBF0F8"
             },
             "line": {
              "color": "white"
             }
            },
            "header": {
             "fill": {
              "color": "#C8D4E3"
             },
             "line": {
              "color": "white"
             }
            },
            "type": "table"
           }
          ]
         },
         "layout": {
          "annotationdefaults": {
           "arrowcolor": "#2a3f5f",
           "arrowhead": 0,
           "arrowwidth": 1
          },
          "autotypenumbers": "strict",
          "coloraxis": {
           "colorbar": {
            "outlinewidth": 0,
            "ticks": ""
           }
          },
          "colorscale": {
           "diverging": [
            [
             0,
             "#8e0152"
            ],
            [
             0.1,
             "#c51b7d"
            ],
            [
             0.2,
             "#de77ae"
            ],
            [
             0.3,
             "#f1b6da"
            ],
            [
             0.4,
             "#fde0ef"
            ],
            [
             0.5,
             "#f7f7f7"
            ],
            [
             0.6,
             "#e6f5d0"
            ],
            [
             0.7,
             "#b8e186"
            ],
            [
             0.8,
             "#7fbc41"
            ],
            [
             0.9,
             "#4d9221"
            ],
            [
             1,
             "#276419"
            ]
           ],
           "sequential": [
            [
             0,
             "#0d0887"
            ],
            [
             0.1111111111111111,
             "#46039f"
            ],
            [
             0.2222222222222222,
             "#7201a8"
            ],
            [
             0.3333333333333333,
             "#9c179e"
            ],
            [
             0.4444444444444444,
             "#bd3786"
            ],
            [
             0.5555555555555556,
             "#d8576b"
            ],
            [
             0.6666666666666666,
             "#ed7953"
            ],
            [
             0.7777777777777778,
             "#fb9f3a"
            ],
            [
             0.8888888888888888,
             "#fdca26"
            ],
            [
             1,
             "#f0f921"
            ]
           ],
           "sequentialminus": [
            [
             0,
             "#0d0887"
            ],
            [
             0.1111111111111111,
             "#46039f"
            ],
            [
             0.2222222222222222,
             "#7201a8"
            ],
            [
             0.3333333333333333,
             "#9c179e"
            ],
            [
             0.4444444444444444,
             "#bd3786"
            ],
            [
             0.5555555555555556,
             "#d8576b"
            ],
            [
             0.6666666666666666,
             "#ed7953"
            ],
            [
             0.7777777777777778,
             "#fb9f3a"
            ],
            [
             0.8888888888888888,
             "#fdca26"
            ],
            [
             1,
             "#f0f921"
            ]
           ]
          },
          "colorway": [
           "#636efa",
           "#EF553B",
           "#00cc96",
           "#ab63fa",
           "#FFA15A",
           "#19d3f3",
           "#FF6692",
           "#B6E880",
           "#FF97FF",
           "#FECB52"
          ],
          "font": {
           "color": "#2a3f5f"
          },
          "geo": {
           "bgcolor": "white",
           "lakecolor": "white",
           "landcolor": "#E5ECF6",
           "showlakes": true,
           "showland": true,
           "subunitcolor": "white"
          },
          "hoverlabel": {
           "align": "left"
          },
          "hovermode": "closest",
          "mapbox": {
           "style": "light"
          },
          "paper_bgcolor": "white",
          "plot_bgcolor": "#E5ECF6",
          "polar": {
           "angularaxis": {
            "gridcolor": "white",
            "linecolor": "white",
            "ticks": ""
           },
           "bgcolor": "#E5ECF6",
           "radialaxis": {
            "gridcolor": "white",
            "linecolor": "white",
            "ticks": ""
           }
          },
          "scene": {
           "xaxis": {
            "backgroundcolor": "#E5ECF6",
            "gridcolor": "white",
            "gridwidth": 2,
            "linecolor": "white",
            "showbackground": true,
            "ticks": "",
            "zerolinecolor": "white"
           },
           "yaxis": {
            "backgroundcolor": "#E5ECF6",
            "gridcolor": "white",
            "gridwidth": 2,
            "linecolor": "white",
            "showbackground": true,
            "ticks": "",
            "zerolinecolor": "white"
           },
           "zaxis": {
            "backgroundcolor": "#E5ECF6",
            "gridcolor": "white",
            "gridwidth": 2,
            "linecolor": "white",
            "showbackground": true,
            "ticks": "",
            "zerolinecolor": "white"
           }
          },
          "shapedefaults": {
           "line": {
            "color": "#2a3f5f"
           }
          },
          "ternary": {
           "aaxis": {
            "gridcolor": "white",
            "linecolor": "white",
            "ticks": ""
           },
           "baxis": {
            "gridcolor": "white",
            "linecolor": "white",
            "ticks": ""
           },
           "bgcolor": "#E5ECF6",
           "caxis": {
            "gridcolor": "white",
            "linecolor": "white",
            "ticks": ""
           }
          },
          "title": {
           "x": 0.05
          },
          "xaxis": {
           "automargin": true,
           "gridcolor": "white",
           "linecolor": "white",
           "ticks": "",
           "title": {
            "standoff": 15
           },
           "zerolinecolor": "white",
           "zerolinewidth": 2
          },
          "yaxis": {
           "automargin": true,
           "gridcolor": "white",
           "linecolor": "white",
           "ticks": "",
           "title": {
            "standoff": 15
           },
           "zerolinecolor": "white",
           "zerolinewidth": 2
          }
         }
        },
        "width": 800,
        "xaxis": {
         "anchor": "y",
         "domain": [
          0,
          1
         ],
         "title": {
          "text": "Usable area [m2]"
         }
        },
        "yaxis": {
         "anchor": "x",
         "domain": [
          0,
          1
         ],
         "title": {
          "text": "Predicted Usable Area [m2]"
         }
        }
       }
      }
     },
     "metadata": {},
     "output_type": "display_data"
    }
   ],
   "source": [
    "used_ds = df2\n",
    "X_test = used_ds[used_cols].to_numpy()\n",
    "Y_test = used_ds[\"Usable area [m2]\"]\n",
    "X_test = scaler.transform(X_test)\n",
    "test_features = Variable(torch.from_numpy(X_test))\n",
    "test_labels = Variable(torch.from_numpy(Y_test.to_numpy()).double())\n",
    "# Model evaluation\n",
    "with torch.no_grad():\n",
    "        # set the model in evaluation mode\n",
    "        model.eval()\n",
    "        Y_pred = model(test_features).numpy().reshape(-1)\n",
    "        df_pred = pd.DataFrame(Y_pred, columns=[\"Predicted Usable Area [m2]\"])\n",
    "        df_test_viz = used_ds.join(df_pred)\n",
    "    \n",
    "df_test_viz[\"Error\"] = np.abs(df_test_viz[\"Usable area [m2]\"] - df_test_viz[\"Predicted Usable Area [m2]\"])\n",
    "\n",
    "df_4 = df_test_viz.copy()\n",
    "\n",
    "plot_df_summary(df_test_viz)"
   ]
  },
  {
   "cell_type": "code",
   "execution_count": 45,
   "metadata": {},
   "outputs": [
    {
     "name": "stdout",
     "output_type": "stream",
     "text": [
      "R^2 = 0.56 \n",
      "Mean Absolute Error = 19.40\n",
      "Median Absolute Error = 15.42\n",
      "Max Error = 63.29\n",
      "Min Error = 0.03\n",
      "Median Absolute Percentage Error = 0.15\n"
     ]
    },
    {
     "data": {
      "image/png": "[encoded data removed]",
      "text/plain": [
       "<Figure size 864x720 with 2 Axes>"
      ]
     },
     "metadata": {
      "needs_background": "light"
     },
     "output_type": "display_data"
    }
   ],
   "source": [
    "models_comparison_figure(df_test_viz)"
   ]
  },
  {
   "attachments": {},
   "cell_type": "markdown",
   "metadata": {},
   "source": [
    "## Model 4 and 5 comparison"
   ]
  },
  {
   "cell_type": "code",
   "execution_count": 76,
   "metadata": {},
   "outputs": [],
   "source": [
    "def models_comparison_figure_ab(df_reg, df_nn, plot_name = \"NN_VS_NN.pdf\"):\n",
    "    fig, axs = plt.subplots(1, 2, figsize=(25, 10))\n",
    "    plt.tight_layout(pad=10, h_pad=5, w_pad=0.2)\n",
    "    fs = 30\n",
    "    fs_inset = 20\n",
    "    lw = 3\n",
    "    colormap = \"coolwarm\"\n",
    "\n",
    "\n",
    "\n",
    "    axs[0].set_title(\"(a)\\nInput features: $A_C$, $H$ \", fontsize=fs, y=1.01)\n",
    "    axs[0].plot(np.linspace(60, 250), np.linspace(60, 250))\n",
    "    # scat1 = axs[0].scatter(df_reg[\"Usable area [m2]\"], df_reg[\"Predicted Usable Area [m2]\"], c=df_reg.Error, cmap=\"coolwarm\")\n",
    "    norm = plt.Normalize(np.min(df_reg.Error), np.max(df_reg.Error))\n",
    "    df_1s = df_reg.loc[df_reg[\"Number of stories\"] == 1.0]\n",
    "    df_2s = df_reg.loc[df_reg[\"Number of stories\"] == 2.0]\n",
    "    axs[0].scatter(df_1s[\"Usable area [m2]\"], df_1s[\"Predicted Usable Area [m2]\"], c=df_1s.Error, cmap=colormap, marker='D', norm=norm, s=10*fs, edgecolor='b')\n",
    "    axs[0].scatter(df_2s[\"Usable area [m2]\"], df_2s[\"Predicted Usable Area [m2]\"], c=df_2s.Error, cmap=colormap, marker='o', norm=norm, s=10*fs, edgecolor='b')\n",
    "    \"\"\"\n",
    "    axs[0].text(0.03, 0.96, \"R^2 = {:.2f} \\nMean Absolute Error = {:.2f}\\nMedian Absolute Error = {:.2f}\\nMax Error = {:.2f}\\nMin Error = {:.2f}\\nMedian Absolute Percentage Error = {:.2f}\".format(\n",
    "                                                                                sklearn.metrics.r2_score(df_reg[\"Usable area [m2]\"].to_numpy(), df_reg[\"Predicted Usable Area [m2]\"].to_numpy()), \n",
    "                                                                                sklearn.metrics.mean_absolute_error(df_reg[\"Usable area [m2]\"].to_numpy(), df_reg[\"Predicted Usable Area [m2]\"].to_numpy()),\n",
    "                                                                                sklearn.metrics.median_absolute_error(df_reg[\"Usable area [m2]\"].to_numpy(), df_reg[\"Predicted Usable Area [m2]\"].to_numpy()),\n",
    "                                                                                sklearn.metrics.max_error(df_reg[\"Usable area [m2]\"].to_numpy(), df_reg[\"Predicted Usable Area [m2]\"].to_numpy()),\n",
    "                                                                                np.abs(np.min(df_reg[\"Error\"])),\n",
    "                                                                                sklearn.metrics.mean_absolute_percentage_error(df_reg[\"Usable area [m2]\"].to_numpy(), df_reg[\"Predicted Usable Area [m2]\"].to_numpy())\n",
    "                                                                                ), bbox=dict(boxstyle=\"round\", fc=\"lightsalmon\", ec=\"coral\", lw=2), horizontalalignment='left', verticalalignment='top', transform=axs[0].transAxes, fontsize=fs_inset);\n",
    "    \"\"\"\n",
    "    divider = make_axes_locatable(axs[0])\n",
    "    # cax = divider.append_axes(\"right\", size=\"5%\", pad=0.1)\n",
    "    # cbar = plt.colorbar(scat1, cax=cax)\n",
    "    # cbar.set_label('Error value', fontsize=fs)\n",
    "\n",
    "    axs[0].set_xlabel(r\"Usable area [m$^2$]\", fontsize=fs)\n",
    "    axs[0].set_ylabel(r\"Predicted usable area [m$^2$]\", fontsize=fs)\n",
    "\n",
    "    axs[1].set_title(\"(b)\\nInput features: $A_C$, $H$, $N_S$\", fontsize=fs, y=1.01)\n",
    "    axs[1].plot(np.linspace(60, 250), np.linspace(60, 250))\n",
    "    scat2 = axs[1].scatter(df_nn[\"Usable area [m2]\"], df_nn[\"Predicted Usable Area [m2]\"], c=df_nn.Error, cmap=colormap, marker=\"\")\n",
    "    norm = plt.Normalize(np.min(df_nn.Error), np.max(df_nn.Error))\n",
    "    df_1s = df_nn.loc[df_nn[\"Number of stories\"] == 1.0]\n",
    "    df_2s = df_nn.loc[df_nn[\"Number of stories\"] == 2.0]\n",
    "    axs[1].scatter(df_1s[\"Usable area [m2]\"], df_1s[\"Predicted Usable Area [m2]\"], c=df_1s.Error, cmap=colormap, marker=\"D\", norm=norm, s=10*fs, edgecolor='b')\n",
    "    axs[1].scatter(df_2s[\"Usable area [m2]\"], df_2s[\"Predicted Usable Area [m2]\"], c=df_2s.Error, cmap=colormap, marker=\"o\", norm=norm, s=10*fs, edgecolor='b')\n",
    "    \"\"\"\n",
    "    axs[1].text(0.03, 0.96, \"R^2 = {:.2f} \\nMean Absolute Error = {:.2f}\\nMedian Absolute Error = {:.2f}\\nMax Error = {:.2f}\\nMin Error = {:.2f}\\nMedian Absolute Percentage Error = {:.2f}\".format(\n",
    "                                                                                sklearn.metrics.r2_score(df_nn[\"Usable area [m2]\"].to_numpy(), df_nn[\"Predicted Usable Area [m2]\"].to_numpy()), \n",
    "                                                                                sklearn.metrics.mean_absolute_error(df_nn[\"Usable area [m2]\"].to_numpy(), df_nn[\"Predicted Usable Area [m2]\"].to_numpy()),\n",
    "                                                                                sklearn.metrics.median_absolute_error(df_nn[\"Usable area [m2]\"].to_numpy(), df_nn[\"Predicted Usable Area [m2]\"].to_numpy()),\n",
    "                                                                                sklearn.metrics.max_error(df_nn[\"Usable area [m2]\"].to_numpy(), df_nn[\"Predicted Usable Area [m2]\"].to_numpy()),\n",
    "                                                                                np.abs(np.min(df_nn[\"Error\"])),\n",
    "                                                                                sklearn.metrics.mean_absolute_percentage_error(df_nn[\"Usable area [m2]\"].to_numpy(), df_nn[\"Predicted Usable Area [m2]\"].to_numpy())\n",
    "                                                                                ), bbox=dict(boxstyle=\"round\", fc=\"lightsalmon\", ec=\"coral\", lw=2), horizontalalignment='left', verticalalignment='top', transform=axs[1].transAxes, fontsize=fs_inset);\n",
    "    \"\"\"\n",
    "    axs[1].set_xlabel(r\"Usable area [m$^2$]\", fontsize=fs)\n",
    "\n",
    "    divider = make_axes_locatable(axs[1])\n",
    "    cax = divider.append_axes(\"right\", size=\"5%\", pad=0.1)\n",
    "    cbar = plt.colorbar(scat2, cax=cax)\n",
    "    cbar.set_label('Error value', fontsize=fs)\n",
    "    cax.tick_params(axis='both', which='major', labelsize=fs, width=2)\n",
    "\n",
    "\n",
    "    axs[1].set_yticklabels([])\n",
    "\n",
    "    for ax in axs.flatten():\n",
    "        for axis in ['top','bottom','left','right']:\n",
    "            ax.spines[axis].set_linewidth(2)\n",
    "            ax.spines[axis].set_zorder(0)\n",
    "\n",
    "    for ax in axs.flatten():\n",
    "        ax.tick_params(axis='both', which='major', labelsize=fs, width=2)\n",
    "\n",
    "    for ax in axs.flatten():\n",
    "        ax.grid(True)\n",
    "\n",
    "    plt.rc('grid', linestyle=\":\", color='gray')\n",
    "\n",
    "    plt.savefig(plot_name)\n",
    "    plt.show()"
   ]
  },
  {
   "cell_type": "code",
   "execution_count": 77,
   "metadata": {},
   "outputs": [
    {
     "data": {
      "image/png": "[encoded data removed]",
      "text/plain": [
       "<Figure size 1800x720 with 3 Axes>"
      ]
     },
     "metadata": {
      "needs_background": "light"
     },
     "output_type": "display_data"
    }
   ],
   "source": [
    "models_comparison_figure_ab(df_3, df_4)"
   ]
  },
  {
   "attachments": {},
   "cell_type": "markdown",
   "metadata": {},
   "source": [
    "## Model 5"
   ]
  },
  {
   "cell_type": "code",
   "execution_count": null,
   "metadata": {},
   "outputs": [
    {
     "data": {
      "text/plain": [
       "PosixPath('modele/Final_models/Dataset1and2/DNN_lr=0,1_|_λ =1,25_cols=[Covered area [m2], Height [m], Number of stories, Height of a knee wall [m]]_|_dataset=Without garages, with boilers.pt')"
      ]
     },
     "execution_count": 36,
     "metadata": {},
     "output_type": "execute_result"
    }
   ],
   "source": [
    "model_list_2[0]"
   ]
  },
  {
   "attachments": {},
   "cell_type": "markdown",
   "metadata": {},
   "source": [
    "### Model loading"
   ]
  },
  {
   "cell_type": "code",
   "execution_count": null,
   "metadata": {},
   "outputs": [
    {
     "data": {
      "text/plain": [
       "<All keys matched successfully>"
      ]
     },
     "execution_count": 37,
     "metadata": {},
     "output_type": "execute_result"
    }
   ],
   "source": [
    "model_path = model_list_2[0]\n",
    "learning_rate=0.1\n",
    "λ=1.25\n",
    "used_cols = [\"Covered area [m2]\", \"Number of stories\", \"Height [m]\", \"Height of a knee wall [m]\"]\n",
    "input_size = len(used_cols)\n",
    "architecture=DeepNet\n",
    "milestones = [200, 400, 1700, 1900]\n",
    "arch_params = (input_size, 1, 50)\n",
    "model = architecture(*arch_params).double()\n",
    "model.load_state_dict(torch.load(model_path))"
   ]
  },
  {
   "cell_type": "code",
   "execution_count": null,
   "metadata": {},
   "outputs": [
    {
     "data": {
      "text/plain": [
       "StandardScaler()"
      ]
     },
     "execution_count": 38,
     "metadata": {},
     "output_type": "execute_result"
    }
   ],
   "source": [
    "df_norm = ds_1_2\n",
    "np.random.seed(rs)\n",
    "torch.manual_seed(rs);\n",
    "df_train_and_val, df_test = train_test_split(df_norm, test_size=0.2, random_state=rs)\n",
    "df_train, df_val = train_test_split(df_train_and_val, test_size=0.25, random_state=rs)\n",
    "Y_train = df_train[\"Usable area [m2]\"]\n",
    "X_train = df_train[used_cols].to_numpy()\n",
    "scaler = StandardScaler()\n",
    "scaler.fit(X_train)"
   ]
  },
  {
   "attachments": {},
   "cell_type": "markdown",
   "metadata": {},
   "source": [
    "#### Dataset without known norms"
   ]
  },
  {
   "cell_type": "code",
   "execution_count": null,
   "metadata": {},
   "outputs": [],
   "source": [
    "used_ds = df1\n",
    "X_test = used_ds[used_cols].to_numpy()\n",
    "Y_test = used_ds[\"Usable area [m2]\"]\n",
    "X_test = scaler.transform(X_test)\n",
    "test_features = Variable(torch.from_numpy(X_test))\n",
    "test_labels = Variable(torch.from_numpy(Y_test.to_numpy()).double())\n",
    "# Model evaluation\n",
    "with torch.no_grad():\n",
    "        # set the model in evaluation mode\n",
    "        model.eval()\n",
    "        Y_pred = model(test_features).numpy().reshape(-1)\n",
    "        df_pred = pd.DataFrame(Y_pred, columns=[\"Predicted Usable Area [m2]\"])\n",
    "        df_test_viz = used_ds.join(df_pred)\n",
    "    \n",
    "df_test_viz[\"Error\"] = np.abs(df_test_viz[\"Usable area [m2]\"] - df_test_viz[\"Predicted Usable Area [m2]\"])\n",
    "\n",
    "plot_df_summary(df_test_viz)"
   ]
  },
  {
   "attachments": {},
   "cell_type": "markdown",
   "metadata": {},
   "source": [
    "#### Dataset with known norms"
   ]
  },
  {
   "cell_type": "code",
   "execution_count": null,
   "metadata": {},
   "outputs": [],
   "source": [
    "used_ds = df2\n",
    "X_test = used_ds[used_cols].to_numpy()\n",
    "Y_test = used_ds[\"Usable area [m2]\"]\n",
    "X_test = scaler.transform(X_test)\n",
    "test_features = Variable(torch.from_numpy(X_test))\n",
    "test_labels = Variable(torch.from_numpy(Y_test.to_numpy()).double())\n",
    "# Model evaluation\n",
    "with torch.no_grad():\n",
    "        # set the model in evaluation mode\n",
    "        model.eval()\n",
    "        Y_pred = model(test_features).numpy().reshape(-1)\n",
    "        df_pred = pd.DataFrame(Y_pred, columns=[\"Predicted Usable Area [m2]\"])\n",
    "        df_test_viz = used_ds.join(df_pred)\n",
    "    \n",
    "df_test_viz[\"Error\"] = np.abs(df_test_viz[\"Usable area [m2]\"] - df_test_viz[\"Predicted Usable Area [m2]\"])\n",
    "\n",
    "plot_df_summary(df_test_viz)"
   ]
  },
  {
   "attachments": {},
   "cell_type": "markdown",
   "metadata": {},
   "source": [
    "## Model 6"
   ]
  },
  {
   "cell_type": "code",
   "execution_count": null,
   "metadata": {},
   "outputs": [
    {
     "data": {
      "text/plain": [
       "PosixPath('modele/Final_models/Dataset1and2/DNN_lr=0,1_|_λ =1,25_cols=[Covered area [m2], Height [m], Number of stories, Height of a knee wall [m], Perimeter [cm]]_|_dataset=Without garages, with boilers.pt')"
      ]
     },
     "execution_count": 41,
     "metadata": {},
     "output_type": "execute_result"
    }
   ],
   "source": [
    "model_list_2[1]"
   ]
  },
  {
   "attachments": {},
   "cell_type": "markdown",
   "metadata": {},
   "source": [
    "### Model loading"
   ]
  },
  {
   "cell_type": "code",
   "execution_count": null,
   "metadata": {},
   "outputs": [
    {
     "data": {
      "text/plain": [
       "<All keys matched successfully>"
      ]
     },
     "execution_count": 42,
     "metadata": {},
     "output_type": "execute_result"
    }
   ],
   "source": [
    "model_path = model_list_2[1]\n",
    "learning_rate=0.1\n",
    "λ=1.5\n",
    "used_cols = [\"Covered area [m2]\", \"Height [m]\", \"Number of stories\", \"Height of a knee wall [m]\", \"Perimeter [cm]\"]\n",
    "input_size = len(used_cols)\n",
    "architecture=DeepNet\n",
    "milestones = [200, 400, 1700, 1900]\n",
    "arch_params = (input_size, 1, 50)\n",
    "model = architecture(*arch_params).double()\n",
    "model.load_state_dict(torch.load(model_path))"
   ]
  },
  {
   "cell_type": "code",
   "execution_count": null,
   "metadata": {},
   "outputs": [
    {
     "data": {
      "text/plain": [
       "StandardScaler()"
      ]
     },
     "execution_count": 43,
     "metadata": {},
     "output_type": "execute_result"
    }
   ],
   "source": [
    "df_norm = ds_1_2\n",
    "np.random.seed(rs)\n",
    "torch.manual_seed(rs);\n",
    "df_train_and_val, df_test = train_test_split(df_norm, test_size=0.2, random_state=rs)\n",
    "df_train, df_val = train_test_split(df_train_and_val, test_size=0.25, random_state=rs)\n",
    "Y_train = df_train[\"Usable area [m2]\"]\n",
    "X_train = df_train[used_cols].to_numpy()\n",
    "scaler = StandardScaler()\n",
    "scaler.fit(X_train)"
   ]
  },
  {
   "attachments": {},
   "cell_type": "markdown",
   "metadata": {},
   "source": [
    "#### Dataset without known norms"
   ]
  },
  {
   "cell_type": "code",
   "execution_count": null,
   "metadata": {},
   "outputs": [],
   "source": [
    "used_ds = df1\n",
    "X_test = used_ds[used_cols].to_numpy()\n",
    "Y_test = used_ds[\"Usable area [m2]\"]\n",
    "X_test = scaler.transform(X_test)\n",
    "test_features = Variable(torch.from_numpy(X_test))\n",
    "test_labels = Variable(torch.from_numpy(Y_test.to_numpy()).double())\n",
    "# Model evaluation\n",
    "with torch.no_grad():\n",
    "        # set the model in evaluation mode\n",
    "        model.eval()\n",
    "        Y_pred = model(test_features).numpy().reshape(-1)\n",
    "        df_pred = pd.DataFrame(Y_pred, columns=[\"Predicted Usable Area [m2]\"])\n",
    "        df_test_viz = used_ds.join(df_pred)\n",
    "    \n",
    "df_test_viz[\"Error\"] = np.abs(df_test_viz[\"Usable area [m2]\"] - df_test_viz[\"Predicted Usable Area [m2]\"])\n",
    "\n",
    "plot_df_summary(df_test_viz)"
   ]
  },
  {
   "attachments": {},
   "cell_type": "markdown",
   "metadata": {},
   "source": [
    "#### Dataset with known norms"
   ]
  },
  {
   "cell_type": "code",
   "execution_count": null,
   "metadata": {},
   "outputs": [],
   "source": [
    "used_ds = df2\n",
    "X_test = used_ds[used_cols].to_numpy()\n",
    "Y_test = used_ds[\"Usable area [m2]\"]\n",
    "X_test = scaler.transform(X_test)\n",
    "test_features = Variable(torch.from_numpy(X_test))\n",
    "test_labels = Variable(torch.from_numpy(Y_test.to_numpy()).double())\n",
    "# Model evaluation\n",
    "with torch.no_grad():\n",
    "        # set the model in evaluation mode\n",
    "        model.eval()\n",
    "        Y_pred = model(test_features).numpy().reshape(-1)\n",
    "        df_pred = pd.DataFrame(Y_pred, columns=[\"Predicted Usable Area [m2]\"])\n",
    "        df_test_viz = used_ds.join(df_pred)\n",
    "    \n",
    "df_test_viz[\"Error\"] = np.abs(df_test_viz[\"Usable area [m2]\"] - df_test_viz[\"Predicted Usable Area [m2]\"])\n",
    "\n",
    "plot_df_summary(df_test_viz)"
   ]
  },
  {
   "cell_type": "code",
   "execution_count": null,
   "metadata": {},
   "outputs": [],
   "source": []
  }
 ],
 "metadata": {
  "kernelspec": {
   "display_name": "Python 3.9 (XPython Raw)",
   "language": "python",
   "name": "xpython-raw"
  },
  "language_info": {
   "codemirror_mode": {
    "name": "ipython",
    "version": 3
   },
   "file_extension": ".py",
   "mimetype": "text/x-python",
   "name": "python",
   "nbconvert_exporter": "python",
   "pygments_lexer": "ipython3",
   "version": "3.9.13"
  },
  "orig_nbformat": 4,
  "vscode": {
   "interpreter": {
    "hash": "c5d325fc34b5656945efb66f598b92e5cb198609ae53ae432449b89296683f40"
   }
  }
 },
 "nbformat": 4,
 "nbformat_minor": 2
}
